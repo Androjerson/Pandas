{
 "cells": [
  {
   "cell_type": "markdown",
   "id": "0afece5e-ea73-495e-bb70-0ede0ddb96df",
   "metadata": {},
   "source": [
    "<h1>Pandas</h1>"
   ]
  },
  {
   "cell_type": "code",
   "execution_count": 19,
   "id": "a1925011-6cb3-48fd-871b-69f4473f6737",
   "metadata": {},
   "outputs": [],
   "source": [
    "import pandas as pd\n",
    "import numpy as np"
   ]
  },
  {
   "cell_type": "code",
   "execution_count": 2,
   "id": "2541cd3a-093e-4c39-8368-335bbda86aa8",
   "metadata": {},
   "outputs": [],
   "source": [
    "list=[10,20,30]"
   ]
  },
  {
   "cell_type": "markdown",
   "id": "e2d782c0-3578-47b3-9b71-7cf6de0b0feb",
   "metadata": {},
   "source": [
    "We can't directly initialize elements to a series as we do for lists,dictionary.Series can be empty or build on top of a list,array or dictionary "
   ]
  },
  {
   "cell_type": "markdown",
   "id": "a5b775bd-3a13-4ec8-b4a9-bc120d4c32ea",
   "metadata": {},
   "source": [
    "<h3>creating an pandas series from python list</h3>"
   ]
  },
  {
   "cell_type": "code",
   "execution_count": null,
   "id": "53401c57-a24b-4e3a-85ce-68b39b5df6f9",
   "metadata": {},
   "outputs": [],
   "source": [
    "l_series=pd.Series(list)"
   ]
  },
  {
   "cell_type": "code",
   "execution_count": null,
   "id": "aeb0f6ae-c827-4a19-9bf6-51d778da456b",
   "metadata": {},
   "outputs": [],
   "source": [
    "print(l_series)\n",
    "# O/P:\n",
    "# Axis  Values\n",
    "# 0    10\n",
    "# 1    20\n",
    "# 2    30\n",
    "# dtype: int64"
   ]
  },
  {
   "cell_type": "code",
   "execution_count": 17,
   "id": "d68454ee-f32c-4cbf-bdc7-99c1510da45e",
   "metadata": {},
   "outputs": [
    {
     "name": "stdout",
     "output_type": "stream",
     "text": [
      "RangeIndex(start=0, stop=3, step=1)\n"
     ]
    }
   ],
   "source": [
    "# Returns the starting and ending index value and the way how indexed is incremented\n",
    "print(l_series.index)"
   ]
  },
  {
   "cell_type": "code",
   "execution_count": 18,
   "id": "c159da94-beaa-4f8d-a36a-1135b0a3cbbd",
   "metadata": {},
   "outputs": [
    {
     "name": "stdout",
     "output_type": "stream",
     "text": [
      "[10 20 30]\n"
     ]
    }
   ],
   "source": [
    "# Returns the elements of series in iterable format\n",
    "print(l_series.values)"
   ]
  },
  {
   "cell_type": "markdown",
   "id": "6761db6c-c78b-455c-9f76-0df1845e45ac",
   "metadata": {},
   "source": [
    "<h3>creating an pandas series from numpy array</h3>"
   ]
  },
  {
   "cell_type": "code",
   "execution_count": 24,
   "id": "2ad95983-ce96-4f40-af2c-349105305e5c",
   "metadata": {},
   "outputs": [
    {
     "name": "stdout",
     "output_type": "stream",
     "text": [
      "a     2\n",
      "b     3\n",
      "c    10\n",
      "dtype: int32\n"
     ]
    }
   ],
   "source": [
    "index=['a','b','c'] # Adding custom index to the series \n",
    "arr=np.array([2,3,10]) #Initializing an numpy array with the use numpy.array() function\n",
    "np_series=pd.Series(arr,index)\n",
    "print(np_series)"
   ]
  },
  {
   "cell_type": "markdown",
   "id": "0561c4de-7946-4d7d-ae64-d5e6a32e392f",
   "metadata": {},
   "source": [
    "<h3>creating an pandas series from python dictionary</h3>"
   ]
  },
  {
   "cell_type": "code",
   "execution_count": 49,
   "id": "abeca644-5e02-48e7-bfcc-efbdef900beb",
   "metadata": {},
   "outputs": [
    {
     "name": "stdout",
     "output_type": "stream",
     "text": [
      "a     2\n",
      "b     3\n",
      "c    10\n",
      "dtype: int64\n"
     ]
    }
   ],
   "source": [
    "dict={'a':2,'b':3,'c':10}  #Initializing an python dictionary\n",
    "dict_series=pd.Series(dict) #Creating the series from dictionary\n",
    "print(dict_series)\n",
    "# keys from dictionary is taken as index, if index is default \n",
    "# a     2          \n",
    "# b     3\n",
    "# c    10\n",
    "# dtype: int64\n"
   ]
  },
  {
   "cell_type": "markdown",
   "id": "bcc9a0a4-96a4-4576-a3fb-79a4ebe7fe01",
   "metadata": {},
   "source": [
    "<h2>Index in Series</h2>"
   ]
  },
  {
   "cell_type": "code",
   "execution_count": 43,
   "id": "57978dc7-9bf1-47fe-8ad7-d44f492809da",
   "metadata": {},
   "outputs": [],
   "source": [
    "ser1=pd.Series([1,2,3,4],index=['USA','Germany','USSR','Japan'])\n",
    "ser2=pd.Series([1,2,5,4],index=['USA','Germany','Italy','Japan'])"
   ]
  },
  {
   "cell_type": "code",
   "execution_count": 44,
   "id": "3ef8423e-d602-46e5-a7f3-2c5acd7a3532",
   "metadata": {},
   "outputs": [
    {
     "data": {
      "text/plain": [
       "5"
      ]
     },
     "execution_count": 44,
     "metadata": {},
     "output_type": "execute_result"
    }
   ],
   "source": [
    "ser2['Italy'] #Returns the element of that index "
   ]
  },
  {
   "cell_type": "code",
   "execution_count": 45,
   "id": "bff06d0d-9946-4418-8ebc-8ac741d7468a",
   "metadata": {},
   "outputs": [
    {
     "data": {
      "text/plain": [
       "USA        1\n",
       "Germany    2\n",
       "USSR       3\n",
       "Japan      4\n",
       "dtype: int64"
      ]
     },
     "execution_count": 45,
     "metadata": {},
     "output_type": "execute_result"
    }
   ],
   "source": [
    "ser1"
   ]
  },
  {
   "cell_type": "code",
   "execution_count": 46,
   "id": "f6cc3b47-5ad9-4d8b-be6f-2f8fb41c648a",
   "metadata": {},
   "outputs": [
    {
     "data": {
      "text/plain": [
       "USA        1\n",
       "Germany    2\n",
       "Italy      5\n",
       "Japan      4\n",
       "dtype: int64"
      ]
     },
     "execution_count": 46,
     "metadata": {},
     "output_type": "execute_result"
    }
   ],
   "source": [
    "ser2"
   ]
  },
  {
   "cell_type": "code",
   "execution_count": 48,
   "id": "b8b9f594-3bbe-4eab-84d8-888f8664bac2",
   "metadata": {},
   "outputs": [
    {
     "data": {
      "text/plain": [
       "Germany    4.0\n",
       "Italy      NaN\n",
       "Japan      8.0\n",
       "USA        2.0\n",
       "USSR       NaN\n",
       "dtype: float64"
      ]
     },
     "execution_count": 48,
     "metadata": {},
     "output_type": "execute_result"
    }
   ],
   "source": [
    "# Arithmetic operations like addition,subtraction,multiplication and division can be done on two series \n",
    "ser1+ser2 "
   ]
  },
  {
   "cell_type": "code",
   "execution_count": null,
   "id": "1bc3e08d-255a-4401-9158-ee1e4bcf4572",
   "metadata": {},
   "outputs": [],
   "source": []
  }
 ],
 "metadata": {
  "kernelspec": {
   "display_name": "Python 3 (ipykernel)",
   "language": "python",
   "name": "python3"
  },
  "language_info": {
   "codemirror_mode": {
    "name": "ipython",
    "version": 3
   },
   "file_extension": ".py",
   "mimetype": "text/x-python",
   "name": "python",
   "nbconvert_exporter": "python",
   "pygments_lexer": "ipython3",
   "version": "3.11.8"
  }
 },
 "nbformat": 4,
 "nbformat_minor": 5
}
