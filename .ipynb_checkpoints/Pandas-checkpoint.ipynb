{
 "cells": [
  {
   "cell_type": "markdown",
   "id": "0afece5e-ea73-495e-bb70-0ede0ddb96df",
   "metadata": {},
   "source": [
    "<h1>Pandas</h1>"
   ]
  },
  {
   "cell_type": "code",
   "execution_count": 1,
   "id": "a1925011-6cb3-48fd-871b-69f4473f6737",
   "metadata": {},
   "outputs": [],
   "source": [
    "import pandas as pd\n",
    "import numpy as np"
   ]
  },
  {
   "cell_type": "code",
   "execution_count": 2,
   "id": "2541cd3a-093e-4c39-8368-335bbda86aa8",
   "metadata": {},
   "outputs": [],
   "source": [
    "list=[10,20,30]"
   ]
  },
  {
   "cell_type": "markdown",
   "id": "e2d782c0-3578-47b3-9b71-7cf6de0b0feb",
   "metadata": {},
   "source": [
    "We can't directly initialize elements to a series as we do for lists,dictionary.Series can be empty or build on top of a list,array or dictionary "
   ]
  },
  {
   "cell_type": "markdown",
   "id": "a5b775bd-3a13-4ec8-b4a9-bc120d4c32ea",
   "metadata": {},
   "source": [
    "<h3>creating an pandas series from python list</h3>"
   ]
  },
  {
   "cell_type": "code",
   "execution_count": 7,
   "id": "53401c57-a24b-4e3a-85ce-68b39b5df6f9",
   "metadata": {},
   "outputs": [],
   "source": [
    "l_series=pd.Series(list)"
   ]
  },
  {
   "cell_type": "code",
   "execution_count": 8,
   "id": "aeb0f6ae-c827-4a19-9bf6-51d778da456b",
   "metadata": {},
   "outputs": [
    {
     "name": "stdout",
     "output_type": "stream",
     "text": [
      "0    10\n",
      "1    20\n",
      "2    30\n",
      "dtype: int64\n"
     ]
    }
   ],
   "source": [
    "print(l_series)\n",
    "# O/P:\n",
    "# Axis  Values\n",
    "# 0    10\n",
    "# 1    20\n",
    "# 2    30\n",
    "# dtype: int64"
   ]
  },
  {
   "cell_type": "code",
   "execution_count": null,
   "id": "d68454ee-f32c-4cbf-bdc7-99c1510da45e",
   "metadata": {},
   "outputs": [],
   "source": [
    "# Returns the starting and ending index value and the way how indexed is incremented\n",
    "print(l_series.index)"
   ]
  },
  {
   "cell_type": "code",
   "execution_count": null,
   "id": "c159da94-beaa-4f8d-a36a-1135b0a3cbbd",
   "metadata": {},
   "outputs": [],
   "source": [
    "# Returns the elements of series in iterable format\n",
    "print(l_series.values)"
   ]
  },
  {
   "cell_type": "markdown",
   "id": "6761db6c-c78b-455c-9f76-0df1845e45ac",
   "metadata": {},
   "source": [
    "<h3>creating an pandas series from numpy array</h3>"
   ]
  },
  {
   "cell_type": "code",
   "execution_count": null,
   "id": "2ad95983-ce96-4f40-af2c-349105305e5c",
   "metadata": {},
   "outputs": [],
   "source": [
    "index=['a','b','c'] # Adding custom index to the series \n",
    "arr=np.array([2,3,10]) #Initializing an numpy array with the use numpy.array() function\n",
    "np_series=pd.Series(arr,index)\n",
    "print(np_series)"
   ]
  },
  {
   "cell_type": "markdown",
   "id": "0561c4de-7946-4d7d-ae64-d5e6a32e392f",
   "metadata": {},
   "source": [
    "<h3>creating an pandas series from python dictionary</h3>"
   ]
  },
  {
   "cell_type": "code",
   "execution_count": null,
   "id": "abeca644-5e02-48e7-bfcc-efbdef900beb",
   "metadata": {},
   "outputs": [],
   "source": [
    "dict={'a':2,'b':3,'c':10}  #Initializing an python dictionary\n",
    "dict_series=pd.Series(dict) #Creating the series from dictionary\n",
    "print(dict_series)\n",
    "# keys from dictionary is taken as index, if index is default \n",
    "# a     2          \n",
    "# b     3\n",
    "# c    10\n",
    "# dtype: int64\n"
   ]
  },
  {
   "cell_type": "markdown",
   "id": "bcc9a0a4-96a4-4576-a3fb-79a4ebe7fe01",
   "metadata": {},
   "source": [
    "<h2>Index in Series</h2>"
   ]
  },
  {
   "cell_type": "code",
   "execution_count": null,
   "id": "57978dc7-9bf1-47fe-8ad7-d44f492809da",
   "metadata": {},
   "outputs": [],
   "source": [
    "ser1=pd.Series([1,2,3,4],index=['USA','Germany','USSR','Japan'])\n",
    "ser2=pd.Series([1,2,5,4],index=['USA','Germany','Italy','Japan'])"
   ]
  },
  {
   "cell_type": "code",
   "execution_count": null,
   "id": "3ef8423e-d602-46e5-a7f3-2c5acd7a3532",
   "metadata": {},
   "outputs": [],
   "source": [
    "ser2['Italy'] #Returns the element of that index "
   ]
  },
  {
   "cell_type": "code",
   "execution_count": null,
   "id": "bff06d0d-9946-4418-8ebc-8ac741d7468a",
   "metadata": {},
   "outputs": [],
   "source": [
    "ser1"
   ]
  },
  {
   "cell_type": "code",
   "execution_count": null,
   "id": "f6cc3b47-5ad9-4d8b-be6f-2f8fb41c648a",
   "metadata": {},
   "outputs": [],
   "source": [
    "ser2"
   ]
  },
  {
   "cell_type": "code",
   "execution_count": null,
   "id": "b8b9f594-3bbe-4eab-84d8-888f8664bac2",
   "metadata": {},
   "outputs": [],
   "source": [
    "# Arithmetic operations like addition,subtraction,multiplication and division can be done on two series \n",
    "ser1+ser2 "
   ]
  },
  {
   "cell_type": "markdown",
   "id": "5a63b02c-1d80-49da-a966-ecf0302076ad",
   "metadata": {},
   "source": [
    "<h2>DataFrame</h2>"
   ]
  },
  {
   "cell_type": "markdown",
   "id": "913e7b0f-b814-4d60-ba5c-8dd957a17554",
   "metadata": {},
   "source": [
    "DataFrames are two dimensional with rows and columns"
   ]
  },
  {
   "cell_type": "code",
   "execution_count": null,
   "id": "ef354618-4e32-4f54-a24c-f6893be3ec21",
   "metadata": {},
   "outputs": [],
   "source": [
    "df=pd.DataFrame([[1,2,3],\n",
    "                [3,4,5],\n",
    "                [5,6,7],\n",
    "                [7,8,9]\n",
    "                ])\n",
    "df"
   ]
  },
  {
   "cell_type": "code",
   "execution_count": null,
   "id": "75e50e21-4445-4292-898d-60e180955482",
   "metadata": {},
   "outputs": [],
   "source": [
    "print(\"Shape:\",df.shape) #returns the dimension of the df\n",
    "print(\"Index:\",df.index)"
   ]
  },
  {
   "cell_type": "code",
   "execution_count": null,
   "id": "d6e91292-486c-416a-9f27-1ee073a92399",
   "metadata": {},
   "outputs": [],
   "source": [
    "# custom row and column indices\n",
    "df2=pd.DataFrame([[1,2,3],[4,5,6],[7,8,9],[10,11,12]],index=['a','b','c','d'],columns=[1,2,3])\n",
    "df2"
   ]
  },
  {
   "cell_type": "code",
   "execution_count": null,
   "id": "cc08efc0-c404-42e4-b650-6451f440b34d",
   "metadata": {},
   "outputs": [],
   "source": [
    "print(df2.shape)\n",
    "print(df2.index) #Returns the custom index and its datatype "
   ]
  },
  {
   "cell_type": "markdown",
   "id": "a0a051d2-b1ff-4878-b3c8-7b227482f14e",
   "metadata": {},
   "source": [
    "<h2>Weather dataset analysis with pandas</h2>"
   ]
  },
  {
   "cell_type": "code",
   "execution_count": 3,
   "id": "9272866d-f1e4-4165-b767-2fdb2342032b",
   "metadata": {},
   "outputs": [],
   "source": [
    "weather_df=pd.read_csv(\"Data/Weather Data.csv\")"
   ]
  },
  {
   "cell_type": "code",
   "execution_count": 4,
   "id": "714296aa-f831-4ccf-b4de-52766df8e10a",
   "metadata": {},
   "outputs": [
    {
     "data": {
      "text/html": [
       "<div>\n",
       "<style scoped>\n",
       "    .dataframe tbody tr th:only-of-type {\n",
       "        vertical-align: middle;\n",
       "    }\n",
       "\n",
       "    .dataframe tbody tr th {\n",
       "        vertical-align: top;\n",
       "    }\n",
       "\n",
       "    .dataframe thead th {\n",
       "        text-align: right;\n",
       "    }\n",
       "</style>\n",
       "<table border=\"1\" class=\"dataframe\">\n",
       "  <thead>\n",
       "    <tr style=\"text-align: right;\">\n",
       "      <th></th>\n",
       "      <th>Date/Time</th>\n",
       "      <th>Temp_C</th>\n",
       "      <th>Dew Point Temp_C</th>\n",
       "      <th>Rel Hum_%</th>\n",
       "      <th>Wind Speed_km/h</th>\n",
       "      <th>Visibility_km</th>\n",
       "      <th>Press_kPa</th>\n",
       "      <th>Weather</th>\n",
       "    </tr>\n",
       "  </thead>\n",
       "  <tbody>\n",
       "    <tr>\n",
       "      <th>0</th>\n",
       "      <td>1/1/2012 0:00</td>\n",
       "      <td>-1.8</td>\n",
       "      <td>-3.9</td>\n",
       "      <td>86</td>\n",
       "      <td>4</td>\n",
       "      <td>8.0</td>\n",
       "      <td>101.24</td>\n",
       "      <td>Fog</td>\n",
       "    </tr>\n",
       "    <tr>\n",
       "      <th>1</th>\n",
       "      <td>1/1/2012 1:00</td>\n",
       "      <td>-1.8</td>\n",
       "      <td>-3.7</td>\n",
       "      <td>87</td>\n",
       "      <td>4</td>\n",
       "      <td>8.0</td>\n",
       "      <td>101.24</td>\n",
       "      <td>Fog</td>\n",
       "    </tr>\n",
       "    <tr>\n",
       "      <th>2</th>\n",
       "      <td>1/1/2012 2:00</td>\n",
       "      <td>-1.8</td>\n",
       "      <td>-3.4</td>\n",
       "      <td>89</td>\n",
       "      <td>7</td>\n",
       "      <td>4.0</td>\n",
       "      <td>101.26</td>\n",
       "      <td>Freezing Drizzle,Fog</td>\n",
       "    </tr>\n",
       "    <tr>\n",
       "      <th>3</th>\n",
       "      <td>1/1/2012 3:00</td>\n",
       "      <td>-1.5</td>\n",
       "      <td>-3.2</td>\n",
       "      <td>88</td>\n",
       "      <td>6</td>\n",
       "      <td>4.0</td>\n",
       "      <td>101.27</td>\n",
       "      <td>Freezing Drizzle,Fog</td>\n",
       "    </tr>\n",
       "    <tr>\n",
       "      <th>4</th>\n",
       "      <td>1/1/2012 4:00</td>\n",
       "      <td>-1.5</td>\n",
       "      <td>-3.3</td>\n",
       "      <td>88</td>\n",
       "      <td>7</td>\n",
       "      <td>4.8</td>\n",
       "      <td>101.23</td>\n",
       "      <td>Fog</td>\n",
       "    </tr>\n",
       "  </tbody>\n",
       "</table>\n",
       "</div>"
      ],
      "text/plain": [
       "       Date/Time  Temp_C  Dew Point Temp_C  Rel Hum_%  Wind Speed_km/h  \\\n",
       "0  1/1/2012 0:00    -1.8              -3.9         86                4   \n",
       "1  1/1/2012 1:00    -1.8              -3.7         87                4   \n",
       "2  1/1/2012 2:00    -1.8              -3.4         89                7   \n",
       "3  1/1/2012 3:00    -1.5              -3.2         88                6   \n",
       "4  1/1/2012 4:00    -1.5              -3.3         88                7   \n",
       "\n",
       "   Visibility_km  Press_kPa               Weather  \n",
       "0            8.0     101.24                   Fog  \n",
       "1            8.0     101.24                   Fog  \n",
       "2            4.0     101.26  Freezing Drizzle,Fog  \n",
       "3            4.0     101.27  Freezing Drizzle,Fog  \n",
       "4            4.8     101.23                   Fog  "
      ]
     },
     "execution_count": 4,
     "metadata": {},
     "output_type": "execute_result"
    }
   ],
   "source": [
    "# View the top 5 rows\n",
    "weather_df.head()"
   ]
  },
  {
   "cell_type": "code",
   "execution_count": 5,
   "id": "8b1f50cf-b439-4c1f-85fe-e694201764f4",
   "metadata": {},
   "outputs": [
    {
     "data": {
      "text/plain": [
       "0    1/1/2012 0:00\n",
       "1    1/1/2012 1:00\n",
       "2    1/1/2012 2:00\n",
       "3    1/1/2012 3:00\n",
       "4    1/1/2012 4:00\n",
       "Name: Date/Time, dtype: object"
      ]
     },
     "execution_count": 5,
     "metadata": {},
     "output_type": "execute_result"
    }
   ],
   "source": [
    "weather_df[\"Date/Time\"].head()"
   ]
  },
  {
   "cell_type": "code",
   "execution_count": 6,
   "id": "84287d26-8f77-4bd4-9360-e82f2df67b0b",
   "metadata": {},
   "outputs": [],
   "source": [
    "# Datetime is in object datatype .We should convert it into datetime datatype to do analysis based on the date\n",
    "weather_df[\"Date/Time\"]=pd.to_datetime(weather_df[\"Date/Time\"])"
   ]
  },
  {
   "cell_type": "code",
   "execution_count": null,
   "id": "e4175200-c52b-44d9-8198-25b9b8a34a63",
   "metadata": {},
   "outputs": [],
   "source": [
    "# Validating the datatype conversion\n",
    "weather_df[\"Date/Time\"].head()"
   ]
  },
  {
   "cell_type": "markdown",
   "id": "35ccc586-5037-495c-a870-966d0d8ead7b",
   "metadata": {},
   "source": [
    "<h3>Important functions while working with dataframe that eases the work</h3>"
   ]
  },
  {
   "cell_type": "markdown",
   "id": "2b67da14-7269-4d68-acec-adb99801d3d7",
   "metadata": {},
   "source": [
    "<b><i>info()</i></b> returns the metadata information of dataframe such as total row count,row index,column information with their datatype and total memory usage by dataframe "
   ]
  },
  {
   "cell_type": "code",
   "execution_count": 44,
   "id": "92facfd2-75a3-4adc-9a22-a3563f46eaf1",
   "metadata": {},
   "outputs": [
    {
     "name": "stdout",
     "output_type": "stream",
     "text": [
      "<class 'pandas.core.frame.DataFrame'>\n",
      "RangeIndex: 8784 entries, 0 to 8783\n",
      "Data columns (total 9 columns):\n",
      " #   Column            Non-Null Count  Dtype         \n",
      "---  ------            --------------  -----         \n",
      " 0   Date/Time         8784 non-null   datetime64[ns]\n",
      " 1   Temp_C            8784 non-null   float64       \n",
      " 2   Dew Point Temp_C  8784 non-null   float64       \n",
      " 3   Rel Hum_%         8784 non-null   int64         \n",
      " 4   Wind Speed_km/h   8784 non-null   int64         \n",
      " 5   Visibility_km     8784 non-null   float64       \n",
      " 6   Press_kPa         8784 non-null   float64       \n",
      " 7   Weather           8784 non-null   object        \n",
      " 8   temp_col          8784 non-null   float64       \n",
      "dtypes: datetime64[ns](1), float64(5), int64(2), object(1)\n",
      "memory usage: 617.8+ KB\n"
     ]
    }
   ],
   "source": [
    "weather_df.info()"
   ]
  },
  {
   "cell_type": "markdown",
   "id": "62a7f475-5d1f-4cf6-9dbe-4062fdd56023",
   "metadata": {},
   "source": [
    "<b><i>head()</i></b> returns the first 5 rows by default and we opt for 'n' number of rows by giving 'n' as input <i>head(n)</i>."
   ]
  },
  {
   "cell_type": "code",
   "execution_count": null,
   "id": "6a629f73-961c-4c25-9c42-073a7ac95ed6",
   "metadata": {},
   "outputs": [],
   "source": [
    "weather_df.head()"
   ]
  },
  {
   "cell_type": "markdown",
   "id": "1ebd1523-dbcb-4e34-beca-666566ffb483",
   "metadata": {},
   "source": [
    "<b><i>index</i></b> returns the index information"
   ]
  },
  {
   "cell_type": "code",
   "execution_count": null,
   "id": "dbccafe0-25d5-4e85-8531-c28302f91b5a",
   "metadata": {},
   "outputs": [],
   "source": [
    "weather_df.index"
   ]
  },
  {
   "cell_type": "markdown",
   "id": "5312eddb-e2db-4021-ab23-20ab520d0625",
   "metadata": {},
   "source": [
    "<b><i>unique()</i></b>"
   ]
  },
  {
   "cell_type": "markdown",
   "id": "c7a0f35b-4bf6-4c42-92c1-becf282cac2f",
   "metadata": {},
   "source": [
    "Belongs to the series object.Returns the unique values of a particular column.\n",
    "        <ol>\n",
    "            1) Values are returned in the order of appearence,doesn't sort \n",
    "        </ol>\n",
    "        <ol>\n",
    "            2) Includes N/A values \n",
    "        </ol>"
   ]
  },
  {
   "cell_type": "code",
   "execution_count": null,
   "id": "eedda037-cf49-4127-8096-da8dabc27925",
   "metadata": {},
   "outputs": [],
   "source": [
    "weather_df[\"Weather\"].unique()"
   ]
  },
  {
   "cell_type": "markdown",
   "id": "5167b3f7-73d8-410d-9d98-44c2f287c064",
   "metadata": {},
   "source": [
    "<h2><i>Mini Challenge 1</i></h2>"
   ]
  },
  {
   "cell_type": "markdown",
   "id": "4424038a-b728-4fa4-a406-754e9a58ae9f",
   "metadata": {},
   "source": [
    "<i>Find all the unique Wind Speed values recorded in the dataset</i>"
   ]
  },
  {
   "cell_type": "code",
   "execution_count": null,
   "id": "617327fa-c6b2-4b24-a6fc-943662f83c08",
   "metadata": {},
   "outputs": [],
   "source": [
    "weather_df[\"Wind Speed_km/h\"].unique()"
   ]
  },
  {
   "cell_type": "markdown",
   "id": "01f44687-0bcb-428d-9446-011f546e3f88",
   "metadata": {},
   "source": [
    "<b><i>nunique()</i></b>"
   ]
  },
  {
   "cell_type": "markdown",
   "id": "a3c679d2-9b95-4399-b643-0e7373cb1b0c",
   "metadata": {},
   "source": [
    "Property of Series object . Counts the number of unique values in a column\n",
    "<ol>\n",
    "    1)Does not include 'N/A'\n",
    "</ol>\n",
    "<ol>\n",
    "    2)Return type is integer\n",
    "</ol>"
   ]
  },
  {
   "cell_type": "code",
   "execution_count": null,
   "id": "1e1c3fa5-4c0b-4fbc-a18f-840391978ada",
   "metadata": {},
   "outputs": [],
   "source": [
    "weather_df[\"Weather\"].nunique()"
   ]
  },
  {
   "cell_type": "markdown",
   "id": "987fecf5-ecb8-401c-8727-7ae2bd908c68",
   "metadata": {},
   "source": [
    "<b><i>value_counts()</b></i>"
   ]
  },
  {
   "cell_type": "markdown",
   "id": "8c184785-3a48-4839-a586-deb8f7467ef3",
   "metadata": {},
   "source": [
    "Property of Series object . Counts the number of occurences of each unique value in a column \n",
    "Similar to combination of <i>count and group by in SQL</i>\n",
    "<ol>\n",
    "    1)Resulting value will be in descending order so that the first value will be the most occuring value\n",
    "</ol>\n",
    "<ol>\n",
    "    2)Doesn't include 'N/A' by default \n",
    "</ol>"
   ]
  },
  {
   "cell_type": "code",
   "execution_count": null,
   "id": "18a8c08d-5dc8-4e7d-b7bc-ed37853a4914",
   "metadata": {},
   "outputs": [],
   "source": [
    "weather_df[\"Weather\"].value_counts()"
   ]
  },
  {
   "cell_type": "markdown",
   "id": "a0c6cf09-dc87-414e-b721-edfb3dd4b817",
   "metadata": {},
   "source": [
    "<h2><i>Mini Challenge 2</i></h2>"
   ]
  },
  {
   "cell_type": "markdown",
   "id": "e8fd750e-14a9-4aaf-8321-6579e3e9175e",
   "metadata": {},
   "source": [
    "Find the number of times when the weather was \"clear\""
   ]
  },
  {
   "cell_type": "markdown",
   "id": "4a13c76f-86e1-44f1-9766-537292332624",
   "metadata": {},
   "source": [
    "<i>hint</i>: value_counts gives us all the unique values and their occurence counts. \n",
    "To get for a particular value,mention the value in square brackets after the value_counts() function.\n",
    "<i><b>DataFrame[\"column_name\"].value_counts()[\"value\"]</b><i>"
   ]
  },
  {
   "cell_type": "code",
   "execution_count": null,
   "id": "c36d3f49-47ef-4dd7-a980-5df8f6db4820",
   "metadata": {},
   "outputs": [],
   "source": [
    "weather_df[\"Weather\"].value_counts()[\"Clear\"]"
   ]
  },
  {
   "cell_type": "markdown",
   "id": "cb54ef2e-cfc4-4f65-8415-10f6eaaf0ca1",
   "metadata": {},
   "source": [
    "<h2><i>Mini Challenge 3</i></h2>"
   ]
  },
  {
   "cell_type": "markdown",
   "id": "7bc6de63-3aa9-4e7b-a03c-96fce9db814a",
   "metadata": {},
   "source": [
    "Find the number of times when the wind speed was exactly 4 km/h"
   ]
  },
  {
   "cell_type": "code",
   "execution_count": null,
   "id": "13b85615-de23-47d7-b44b-4bb8c1185703",
   "metadata": {},
   "outputs": [],
   "source": [
    "weather_df[\"Wind Speed_km/h\"].value_counts()[4]"
   ]
  },
  {
   "cell_type": "markdown",
   "id": "f1b99c19-78ef-4fc2-8b17-2418762946cc",
   "metadata": {},
   "source": [
    "<h2>Data Manipulation in Pandas</h2>"
   ]
  },
  {
   "cell_type": "markdown",
   "id": "e107fc86-1daa-4343-b1f1-542067780e75",
   "metadata": {},
   "source": [
    "Get the subset of a dataframe like single column from a dataframe"
   ]
  },
  {
   "cell_type": "code",
   "execution_count": null,
   "id": "a8bc39a5-8e42-4bee-8025-bb979a365600",
   "metadata": {},
   "outputs": [],
   "source": [
    "col=weather_df[\"Weather\"]\n",
    "print(type(col)) #As single column is a series in pandas, it is stored as Series\n",
    "print(col)"
   ]
  },
  {
   "cell_type": "markdown",
   "id": "1a81add4-0bb2-4f07-b55f-087afd735f6c",
   "metadata": {},
   "source": [
    "Retrieve two columns from a dataframe(subset)"
   ]
  },
  {
   "cell_type": "code",
   "execution_count": null,
   "id": "e2f1b837-b965-4300-8fb1-ca3c86a21d43",
   "metadata": {},
   "outputs": [],
   "source": [
    "sub_df=weather_df[[\"Weather\",\"Wind Speed_km/h\"]]\n",
    "# [] is for series and [[]] is for subset of dataframe.\n",
    "print(type(sub_df)) #stored as dataframe\n",
    "print(sub_df)"
   ]
  },
  {
   "cell_type": "markdown",
   "id": "18354064-6d67-44be-a475-233cebec9ad2",
   "metadata": {},
   "source": [
    "<b><i>Important</i></b>: Whenever you are retreiving more than one column from dataframe , use double open and closing brackets"
   ]
  },
  {
   "cell_type": "markdown",
   "id": "0a5d1910-d9b1-4e29-b195-cf0e70274222",
   "metadata": {},
   "source": [
    "<h2>Get the first 25 rows from \"weather_df\" DataFrame </h2><hr>"
   ]
  },
  {
   "cell_type": "markdown",
   "id": "c0d8a29d-9830-4019-9290-59570257c15d",
   "metadata": {},
   "source": [
    "We can utilize slicing method by mentioning the start and end range <br>\n",
    "Syntax:<b>slicing[start:end]</b><br>\n",
    "Even if the index is non-numerical, it will work "
   ]
  },
  {
   "cell_type": "code",
   "execution_count": null,
   "id": "fdb03d36-8008-4487-a452-e9c8022c1e7d",
   "metadata": {},
   "outputs": [],
   "source": [
    "weather_df[:25]"
   ]
  },
  {
   "cell_type": "markdown",
   "id": "da419559-2712-4310-b4c2-e81f03b8c455",
   "metadata": {},
   "source": [
    "<h3>Retrieve alternative records  from a dataframe</h3>"
   ]
  },
  {
   "cell_type": "code",
   "execution_count": null,
   "id": "ef4b69e8-5a92-40e5-ab1f-ab11a6c6ce78",
   "metadata": {},
   "outputs": [],
   "source": [
    "weather_df[0:10:2] #To retrieve alternating rows from 0th index to 10th "
   ]
  },
  {
   "cell_type": "markdown",
   "id": "de6b3cd0-a719-4660-8703-77227dcbf5b3",
   "metadata": {},
   "source": [
    "Retrieve alternating records from only selected columns"
   ]
  },
  {
   "cell_type": "code",
   "execution_count": null,
   "id": "107d3f8f-8987-4ad6-abe2-d6bb65f052f0",
   "metadata": {},
   "outputs": [],
   "source": [
    "weather_df[[\"Weather\",\"Wind Speed_km/h\"]][:10:2]"
   ]
  },
  {
   "cell_type": "markdown",
   "id": "301f99d3-3882-464a-a394-5d02253a0e8c",
   "metadata": {},
   "source": [
    "<h3>How to get the first 3 alternating rows from the \"weather_df\" dataframe, but only the Visibility and Relative Humidity columns</h3>"
   ]
  },
  {
   "cell_type": "code",
   "execution_count": null,
   "id": "f1bf1deb-a7b8-4b26-b177-a876260ad8a3",
   "metadata": {},
   "outputs": [],
   "source": [
    "weather_df[[\"Visibility_km\",\"Rel Hum_%\"]][:6:2]"
   ]
  },
  {
   "cell_type": "code",
   "execution_count": null,
   "id": "2be10d56-9275-40d3-ba25-28e2f1b6cafd",
   "metadata": {},
   "outputs": [],
   "source": [
    "# solution 1\n",
    "result1 = weather_df[:6:2][['Rel Hum_%', 'Visibility_km']]\n",
    "\n",
    "# solution 2\n",
    "result2 = weather_df[['Rel Hum_%', 'Visibility_km']][:6:2]\n",
    "\n",
    "# are they the same?\n",
    "result1 == result2 #== will return result as comparision result DataFrame if no of elements in both the dataframe is equal"
   ]
  },
  {
   "cell_type": "markdown",
   "id": "b835ea25-e744-4281-8e3d-5d8189925286",
   "metadata": {},
   "source": [
    "<h3>So which of the above solutions is optimal?</h3><hr>"
   ]
  },
  {
   "cell_type": "markdown",
   "id": "30471996-201b-4366-9c44-8a6fc888bdb5",
   "metadata": {},
   "source": [
    "<b>Answer:</b><i>Neither</i>. In above two solutions, we are doing chained indexing.During chained indexing, pandas is not sure whether you are applying changes on the original dataframe or copy of dataframe<br>\n",
    "<b>What is chained indexing?</b><br> Accessing a dataframe by chaining an multiple indexes together.This can lead to ambiguous behavior and performance issues because it is unclear whether the intermediate steps are operating on the original DataFrame or on a copy of it. "
   ]
  },
  {
   "cell_type": "markdown",
   "id": "12275fc2-a49c-4dca-bd02-d21778e0a4f6",
   "metadata": {},
   "source": [
    "<h4>Breakdown of above solutions</h4><hr>\n",
    "<b>Solution 1:</b><br>\n",
    "<i>result1 = weather_df[:6:2][['Rel Hum_%', 'Visibility_km']]<br></i>\n",
    "<ol>\n",
    "    1)weather_df[:6:2] selects rows at position 2,4,6 from weather_df<br>\n",
    "</ol>\n",
    "<ol>\n",
    "    2)Result of above operation is again indexed to filter the columns 'Rel Hum_%' and 'Visibility_km'<br>\n",
    "</ol>\n",
    "<b>Solution 2:</b><br>\n",
    "<i>result2 = weather_df[['Rel Hum_%', 'Visibility_km']][:6:2]<br></i>\n",
    "<ol>\n",
    "    1)weather_df is indexed to filter columns 'Rel Hum_%' and 'Visibility_km'<br>\n",
    "</ol>\n",
    "<ol>\n",
    "    2)result of above operation is again indexed to select rows at position 2,4,6<br>\n",
    "</ol><br>\n",
    "While above solutions may yield correct result in read-only scenarios, it causes issue in writing to a dataframe, as pandas will not be sure whether to write to the dataframe or copy of dataframe.<br><hr>"
   ]
  },
  {
   "cell_type": "markdown",
   "id": "1a3d424a-0fc6-47b6-b0fc-3ce2bdc11aec",
   "metadata": {},
   "source": [
    "In the above operation, weather_df[:6:2] could either:<br>\n",
    "<ol>\n",
    "    Return a view on the original DataFrame (meaning it still references the same underlying data).\n",
    "</ol>\n",
    "<ol>\n",
    "    Return a copy of the data (a completely independent DataFrame).\n",
    "</ol>\n",
    "If it returns a copy, any modifications to this subset will not affect the original DataFrame weather_df.<br>\n",
    "\n",
    "Here, <i><b>indexing refers to the process of selecting specific rows and columns from a DataFrame</b><i><br>\n",
    "\n",
    "To avoid these issues, you should use <b>single row indexing</b>"
   ]
  },
  {
   "cell_type": "markdown",
   "id": "1c441a0a-60f3-4a02-bc53-04991566f8e3",
   "metadata": {},
   "source": [
    "<h3>Single row indexing</h3>"
   ]
  },
  {
   "cell_type": "markdown",
   "id": "cb3bde06-7aaf-4d4e-9c9f-e6eab78ffafc",
   "metadata": {},
   "source": [
    "Single row indexing deals with the <b>view of the dataframe, not with the copy</b>.<br>So it is encouraged to use single row indexing for viewing and modifying dataframe<br>Data can be indexed by label or integer based "
   ]
  },
  {
   "cell_type": "markdown",
   "id": "0af7d194-307b-479a-b8c3-99a223296bec",
   "metadata": {},
   "source": [
    "Single row indexing deals with the <b>view of the dataframe, not with the copy</b>.<br>So it is encouraged to use single row indexing for viewing and modifying dataframe<br>Data can be indexed by label or integer based "
   ]
  },
  {
   "cell_type": "markdown",
   "id": "7eac7c11-62a3-4530-8306-db82cd7141f1",
   "metadata": {},
   "source": [
    "<h3>loc()</h3><hr>label based indexing<br>\n",
    "<b>Syntax:</b><br>\n",
    "<i>DataFrame.loc[row label slicing/label,column label slicing/label]</i>"
   ]
  },
  {
   "cell_type": "code",
   "execution_count": 26,
   "id": "32d379a1-6225-40ac-ab05-43226f16313f",
   "metadata": {},
   "outputs": [
    {
     "data": {
      "text/html": [
       "<div>\n",
       "<style scoped>\n",
       "    .dataframe tbody tr th:only-of-type {\n",
       "        vertical-align: middle;\n",
       "    }\n",
       "\n",
       "    .dataframe tbody tr th {\n",
       "        vertical-align: top;\n",
       "    }\n",
       "\n",
       "    .dataframe thead th {\n",
       "        text-align: right;\n",
       "    }\n",
       "</style>\n",
       "<table border=\"1\" class=\"dataframe\">\n",
       "  <thead>\n",
       "    <tr style=\"text-align: right;\">\n",
       "      <th></th>\n",
       "      <th>Date/Time</th>\n",
       "      <th>Temp_C</th>\n",
       "      <th>Dew Point Temp_C</th>\n",
       "      <th>Rel Hum_%</th>\n",
       "      <th>Wind Speed_km/h</th>\n",
       "      <th>Visibility_km</th>\n",
       "      <th>Press_kPa</th>\n",
       "      <th>Weather</th>\n",
       "    </tr>\n",
       "  </thead>\n",
       "  <tbody>\n",
       "    <tr>\n",
       "      <th>0</th>\n",
       "      <td>2012-01-01 00:00:00</td>\n",
       "      <td>-1.8</td>\n",
       "      <td>-3.9</td>\n",
       "      <td>86</td>\n",
       "      <td>4</td>\n",
       "      <td>8.0</td>\n",
       "      <td>101.24</td>\n",
       "      <td>Fog</td>\n",
       "    </tr>\n",
       "    <tr>\n",
       "      <th>1</th>\n",
       "      <td>2012-01-01 01:00:00</td>\n",
       "      <td>-1.8</td>\n",
       "      <td>-3.7</td>\n",
       "      <td>87</td>\n",
       "      <td>4</td>\n",
       "      <td>8.0</td>\n",
       "      <td>101.24</td>\n",
       "      <td>Fog</td>\n",
       "    </tr>\n",
       "    <tr>\n",
       "      <th>2</th>\n",
       "      <td>2012-01-01 02:00:00</td>\n",
       "      <td>-1.8</td>\n",
       "      <td>-3.4</td>\n",
       "      <td>89</td>\n",
       "      <td>7</td>\n",
       "      <td>4.0</td>\n",
       "      <td>101.26</td>\n",
       "      <td>Freezing Drizzle,Fog</td>\n",
       "    </tr>\n",
       "    <tr>\n",
       "      <th>3</th>\n",
       "      <td>2012-01-01 03:00:00</td>\n",
       "      <td>-1.5</td>\n",
       "      <td>-3.2</td>\n",
       "      <td>88</td>\n",
       "      <td>6</td>\n",
       "      <td>4.0</td>\n",
       "      <td>101.27</td>\n",
       "      <td>Freezing Drizzle,Fog</td>\n",
       "    </tr>\n",
       "    <tr>\n",
       "      <th>4</th>\n",
       "      <td>2012-01-01 04:00:00</td>\n",
       "      <td>-1.5</td>\n",
       "      <td>-3.3</td>\n",
       "      <td>88</td>\n",
       "      <td>7</td>\n",
       "      <td>4.8</td>\n",
       "      <td>101.23</td>\n",
       "      <td>Fog</td>\n",
       "    </tr>\n",
       "    <tr>\n",
       "      <th>5</th>\n",
       "      <td>2012-01-01 05:00:00</td>\n",
       "      <td>-1.4</td>\n",
       "      <td>-3.3</td>\n",
       "      <td>87</td>\n",
       "      <td>9</td>\n",
       "      <td>6.4</td>\n",
       "      <td>101.27</td>\n",
       "      <td>Fog</td>\n",
       "    </tr>\n",
       "    <tr>\n",
       "      <th>6</th>\n",
       "      <td>2012-01-01 06:00:00</td>\n",
       "      <td>-1.5</td>\n",
       "      <td>-3.1</td>\n",
       "      <td>89</td>\n",
       "      <td>7</td>\n",
       "      <td>6.4</td>\n",
       "      <td>101.29</td>\n",
       "      <td>Fog</td>\n",
       "    </tr>\n",
       "    <tr>\n",
       "      <th>7</th>\n",
       "      <td>2012-01-01 07:00:00</td>\n",
       "      <td>-1.4</td>\n",
       "      <td>-3.6</td>\n",
       "      <td>85</td>\n",
       "      <td>7</td>\n",
       "      <td>8.0</td>\n",
       "      <td>101.26</td>\n",
       "      <td>Fog</td>\n",
       "    </tr>\n",
       "    <tr>\n",
       "      <th>8</th>\n",
       "      <td>2012-01-01 08:00:00</td>\n",
       "      <td>-1.4</td>\n",
       "      <td>-3.6</td>\n",
       "      <td>85</td>\n",
       "      <td>9</td>\n",
       "      <td>8.0</td>\n",
       "      <td>101.23</td>\n",
       "      <td>Fog</td>\n",
       "    </tr>\n",
       "    <tr>\n",
       "      <th>9</th>\n",
       "      <td>2012-01-01 09:00:00</td>\n",
       "      <td>-1.3</td>\n",
       "      <td>-3.1</td>\n",
       "      <td>88</td>\n",
       "      <td>15</td>\n",
       "      <td>4.0</td>\n",
       "      <td>101.20</td>\n",
       "      <td>Fog</td>\n",
       "    </tr>\n",
       "    <tr>\n",
       "      <th>10</th>\n",
       "      <td>2012-01-01 10:00:00</td>\n",
       "      <td>-1.0</td>\n",
       "      <td>-2.3</td>\n",
       "      <td>91</td>\n",
       "      <td>9</td>\n",
       "      <td>1.2</td>\n",
       "      <td>101.15</td>\n",
       "      <td>Fog</td>\n",
       "    </tr>\n",
       "  </tbody>\n",
       "</table>\n",
       "</div>"
      ],
      "text/plain": [
       "             Date/Time  Temp_C  Dew Point Temp_C  Rel Hum_%  Wind Speed_km/h  \\\n",
       "0  2012-01-01 00:00:00    -1.8              -3.9         86                4   \n",
       "1  2012-01-01 01:00:00    -1.8              -3.7         87                4   \n",
       "2  2012-01-01 02:00:00    -1.8              -3.4         89                7   \n",
       "3  2012-01-01 03:00:00    -1.5              -3.2         88                6   \n",
       "4  2012-01-01 04:00:00    -1.5              -3.3         88                7   \n",
       "5  2012-01-01 05:00:00    -1.4              -3.3         87                9   \n",
       "6  2012-01-01 06:00:00    -1.5              -3.1         89                7   \n",
       "7  2012-01-01 07:00:00    -1.4              -3.6         85                7   \n",
       "8  2012-01-01 08:00:00    -1.4              -3.6         85                9   \n",
       "9  2012-01-01 09:00:00    -1.3              -3.1         88               15   \n",
       "10 2012-01-01 10:00:00    -1.0              -2.3         91                9   \n",
       "\n",
       "    Visibility_km  Press_kPa               Weather  \n",
       "0             8.0     101.24                   Fog  \n",
       "1             8.0     101.24                   Fog  \n",
       "2             4.0     101.26  Freezing Drizzle,Fog  \n",
       "3             4.0     101.27  Freezing Drizzle,Fog  \n",
       "4             4.8     101.23                   Fog  \n",
       "5             6.4     101.27                   Fog  \n",
       "6             6.4     101.29                   Fog  \n",
       "7             8.0     101.26                   Fog  \n",
       "8             8.0     101.23                   Fog  \n",
       "9             4.0     101.20                   Fog  \n",
       "10            1.2     101.15                   Fog  "
      ]
     },
     "execution_count": 26,
     "metadata": {},
     "output_type": "execute_result"
    }
   ],
   "source": [
    "weather_df.loc()[0:10] #It includes the ending index"
   ]
  },
  {
   "cell_type": "code",
   "execution_count": 15,
   "id": "860b50a0-7885-49fd-aaf3-dc016d7af3f3",
   "metadata": {},
   "outputs": [
    {
     "data": {
      "text/plain": [
       "88"
      ]
     },
     "execution_count": 15,
     "metadata": {},
     "output_type": "execute_result"
    }
   ],
   "source": [
    "# Get the specific row and column\n",
    "weather_df.loc[3,'Rel Hum_%']"
   ]
  },
  {
   "cell_type": "code",
   "execution_count": 18,
   "id": "9bf6b996-3c9d-4c78-9412-1820e8746513",
   "metadata": {},
   "outputs": [
    {
     "data": {
      "text/html": [
       "<div>\n",
       "<style scoped>\n",
       "    .dataframe tbody tr th:only-of-type {\n",
       "        vertical-align: middle;\n",
       "    }\n",
       "\n",
       "    .dataframe tbody tr th {\n",
       "        vertical-align: top;\n",
       "    }\n",
       "\n",
       "    .dataframe thead th {\n",
       "        text-align: right;\n",
       "    }\n",
       "</style>\n",
       "<table border=\"1\" class=\"dataframe\">\n",
       "  <thead>\n",
       "    <tr style=\"text-align: right;\">\n",
       "      <th></th>\n",
       "      <th>Rel Hum_%</th>\n",
       "      <th>Visibility_km</th>\n",
       "    </tr>\n",
       "  </thead>\n",
       "  <tbody>\n",
       "    <tr>\n",
       "      <th>3</th>\n",
       "      <td>88</td>\n",
       "      <td>4.0</td>\n",
       "    </tr>\n",
       "    <tr>\n",
       "      <th>7</th>\n",
       "      <td>85</td>\n",
       "      <td>8.0</td>\n",
       "    </tr>\n",
       "  </tbody>\n",
       "</table>\n",
       "</div>"
      ],
      "text/plain": [
       "   Rel Hum_%  Visibility_km\n",
       "3         88            4.0\n",
       "7         85            8.0"
      ]
     },
     "execution_count": 18,
     "metadata": {},
     "output_type": "execute_result"
    }
   ],
   "source": [
    "# Select multiple rows and columns\n",
    "weather_df.loc[[3,7],['Rel Hum_%', 'Visibility_km']]"
   ]
  },
  {
   "cell_type": "code",
   "execution_count": 21,
   "id": "315d9cfe-38e7-4f70-a383-a8c1bc11d6c7",
   "metadata": {},
   "outputs": [
    {
     "data": {
      "text/html": [
       "<div>\n",
       "<style scoped>\n",
       "    .dataframe tbody tr th:only-of-type {\n",
       "        vertical-align: middle;\n",
       "    }\n",
       "\n",
       "    .dataframe tbody tr th {\n",
       "        vertical-align: top;\n",
       "    }\n",
       "\n",
       "    .dataframe thead th {\n",
       "        text-align: right;\n",
       "    }\n",
       "</style>\n",
       "<table border=\"1\" class=\"dataframe\">\n",
       "  <thead>\n",
       "    <tr style=\"text-align: right;\">\n",
       "      <th></th>\n",
       "      <th>Rel Hum_%</th>\n",
       "      <th>Wind Speed_km/h</th>\n",
       "      <th>Visibility_km</th>\n",
       "      <th>Press_kPa</th>\n",
       "      <th>Weather</th>\n",
       "    </tr>\n",
       "  </thead>\n",
       "  <tbody>\n",
       "    <tr>\n",
       "      <th>3</th>\n",
       "      <td>88</td>\n",
       "      <td>6</td>\n",
       "      <td>4.0</td>\n",
       "      <td>101.27</td>\n",
       "      <td>Freezing Drizzle,Fog</td>\n",
       "    </tr>\n",
       "    <tr>\n",
       "      <th>4</th>\n",
       "      <td>88</td>\n",
       "      <td>7</td>\n",
       "      <td>4.8</td>\n",
       "      <td>101.23</td>\n",
       "      <td>Fog</td>\n",
       "    </tr>\n",
       "    <tr>\n",
       "      <th>5</th>\n",
       "      <td>87</td>\n",
       "      <td>9</td>\n",
       "      <td>6.4</td>\n",
       "      <td>101.27</td>\n",
       "      <td>Fog</td>\n",
       "    </tr>\n",
       "    <tr>\n",
       "      <th>6</th>\n",
       "      <td>89</td>\n",
       "      <td>7</td>\n",
       "      <td>6.4</td>\n",
       "      <td>101.29</td>\n",
       "      <td>Fog</td>\n",
       "    </tr>\n",
       "    <tr>\n",
       "      <th>7</th>\n",
       "      <td>85</td>\n",
       "      <td>7</td>\n",
       "      <td>8.0</td>\n",
       "      <td>101.26</td>\n",
       "      <td>Fog</td>\n",
       "    </tr>\n",
       "  </tbody>\n",
       "</table>\n",
       "</div>"
      ],
      "text/plain": [
       "   Rel Hum_%  Wind Speed_km/h  Visibility_km  Press_kPa               Weather\n",
       "3         88                6            4.0     101.27  Freezing Drizzle,Fog\n",
       "4         88                7            4.8     101.23                   Fog\n",
       "5         87                9            6.4     101.27                   Fog\n",
       "6         89                7            6.4     101.29                   Fog\n",
       "7         85                7            8.0     101.26                   Fog"
      ]
     },
     "execution_count": 21,
     "metadata": {},
     "output_type": "execute_result"
    }
   ],
   "source": [
    "# Slicing in rows and columns\n",
    "weather_df.loc[3:7,'Rel Hum_%':'Weather']"
   ]
  },
  {
   "cell_type": "markdown",
   "id": "163a8c60-f110-4716-8599-cc3b3efb5a6d",
   "metadata": {},
   "source": [
    "<h3>iloc()</h3><hr>\n",
    "position based indexing/integer based <br>\n",
    "<b>Syntax:</b><br>\n",
    "<i>DataFrame.iloc[row index slicing/index,column index slicing/index]</i>\n"
   ]
  },
  {
   "cell_type": "code",
   "execution_count": 23,
   "id": "c08f7491-73c1-41dd-97ce-7842f4d90856",
   "metadata": {},
   "outputs": [
    {
     "data": {
      "text/html": [
       "<div>\n",
       "<style scoped>\n",
       "    .dataframe tbody tr th:only-of-type {\n",
       "        vertical-align: middle;\n",
       "    }\n",
       "\n",
       "    .dataframe tbody tr th {\n",
       "        vertical-align: top;\n",
       "    }\n",
       "\n",
       "    .dataframe thead th {\n",
       "        text-align: right;\n",
       "    }\n",
       "</style>\n",
       "<table border=\"1\" class=\"dataframe\">\n",
       "  <thead>\n",
       "    <tr style=\"text-align: right;\">\n",
       "      <th></th>\n",
       "      <th>Date/Time</th>\n",
       "      <th>Temp_C</th>\n",
       "      <th>Dew Point Temp_C</th>\n",
       "      <th>Rel Hum_%</th>\n",
       "      <th>Wind Speed_km/h</th>\n",
       "      <th>Visibility_km</th>\n",
       "      <th>Press_kPa</th>\n",
       "      <th>Weather</th>\n",
       "    </tr>\n",
       "  </thead>\n",
       "  <tbody>\n",
       "    <tr>\n",
       "      <th>0</th>\n",
       "      <td>2012-01-01 00:00:00</td>\n",
       "      <td>-1.8</td>\n",
       "      <td>-3.9</td>\n",
       "      <td>86</td>\n",
       "      <td>4</td>\n",
       "      <td>8.0</td>\n",
       "      <td>101.24</td>\n",
       "      <td>Fog</td>\n",
       "    </tr>\n",
       "    <tr>\n",
       "      <th>1</th>\n",
       "      <td>2012-01-01 01:00:00</td>\n",
       "      <td>-1.8</td>\n",
       "      <td>-3.7</td>\n",
       "      <td>87</td>\n",
       "      <td>4</td>\n",
       "      <td>8.0</td>\n",
       "      <td>101.24</td>\n",
       "      <td>Fog</td>\n",
       "    </tr>\n",
       "    <tr>\n",
       "      <th>2</th>\n",
       "      <td>2012-01-01 02:00:00</td>\n",
       "      <td>-1.8</td>\n",
       "      <td>-3.4</td>\n",
       "      <td>89</td>\n",
       "      <td>7</td>\n",
       "      <td>4.0</td>\n",
       "      <td>101.26</td>\n",
       "      <td>Freezing Drizzle,Fog</td>\n",
       "    </tr>\n",
       "    <tr>\n",
       "      <th>3</th>\n",
       "      <td>2012-01-01 03:00:00</td>\n",
       "      <td>-1.5</td>\n",
       "      <td>-3.2</td>\n",
       "      <td>88</td>\n",
       "      <td>6</td>\n",
       "      <td>4.0</td>\n",
       "      <td>101.27</td>\n",
       "      <td>Freezing Drizzle,Fog</td>\n",
       "    </tr>\n",
       "    <tr>\n",
       "      <th>4</th>\n",
       "      <td>2012-01-01 04:00:00</td>\n",
       "      <td>-1.5</td>\n",
       "      <td>-3.3</td>\n",
       "      <td>88</td>\n",
       "      <td>7</td>\n",
       "      <td>4.8</td>\n",
       "      <td>101.23</td>\n",
       "      <td>Fog</td>\n",
       "    </tr>\n",
       "    <tr>\n",
       "      <th>5</th>\n",
       "      <td>2012-01-01 05:00:00</td>\n",
       "      <td>-1.4</td>\n",
       "      <td>-3.3</td>\n",
       "      <td>87</td>\n",
       "      <td>9</td>\n",
       "      <td>6.4</td>\n",
       "      <td>101.27</td>\n",
       "      <td>Fog</td>\n",
       "    </tr>\n",
       "    <tr>\n",
       "      <th>6</th>\n",
       "      <td>2012-01-01 06:00:00</td>\n",
       "      <td>-1.5</td>\n",
       "      <td>-3.1</td>\n",
       "      <td>89</td>\n",
       "      <td>7</td>\n",
       "      <td>6.4</td>\n",
       "      <td>101.29</td>\n",
       "      <td>Fog</td>\n",
       "    </tr>\n",
       "    <tr>\n",
       "      <th>7</th>\n",
       "      <td>2012-01-01 07:00:00</td>\n",
       "      <td>-1.4</td>\n",
       "      <td>-3.6</td>\n",
       "      <td>85</td>\n",
       "      <td>7</td>\n",
       "      <td>8.0</td>\n",
       "      <td>101.26</td>\n",
       "      <td>Fog</td>\n",
       "    </tr>\n",
       "    <tr>\n",
       "      <th>8</th>\n",
       "      <td>2012-01-01 08:00:00</td>\n",
       "      <td>-1.4</td>\n",
       "      <td>-3.6</td>\n",
       "      <td>85</td>\n",
       "      <td>9</td>\n",
       "      <td>8.0</td>\n",
       "      <td>101.23</td>\n",
       "      <td>Fog</td>\n",
       "    </tr>\n",
       "    <tr>\n",
       "      <th>9</th>\n",
       "      <td>2012-01-01 09:00:00</td>\n",
       "      <td>-1.3</td>\n",
       "      <td>-3.1</td>\n",
       "      <td>88</td>\n",
       "      <td>15</td>\n",
       "      <td>4.0</td>\n",
       "      <td>101.20</td>\n",
       "      <td>Fog</td>\n",
       "    </tr>\n",
       "  </tbody>\n",
       "</table>\n",
       "</div>"
      ],
      "text/plain": [
       "            Date/Time  Temp_C  Dew Point Temp_C  Rel Hum_%  Wind Speed_km/h  \\\n",
       "0 2012-01-01 00:00:00    -1.8              -3.9         86                4   \n",
       "1 2012-01-01 01:00:00    -1.8              -3.7         87                4   \n",
       "2 2012-01-01 02:00:00    -1.8              -3.4         89                7   \n",
       "3 2012-01-01 03:00:00    -1.5              -3.2         88                6   \n",
       "4 2012-01-01 04:00:00    -1.5              -3.3         88                7   \n",
       "5 2012-01-01 05:00:00    -1.4              -3.3         87                9   \n",
       "6 2012-01-01 06:00:00    -1.5              -3.1         89                7   \n",
       "7 2012-01-01 07:00:00    -1.4              -3.6         85                7   \n",
       "8 2012-01-01 08:00:00    -1.4              -3.6         85                9   \n",
       "9 2012-01-01 09:00:00    -1.3              -3.1         88               15   \n",
       "\n",
       "   Visibility_km  Press_kPa               Weather  \n",
       "0            8.0     101.24                   Fog  \n",
       "1            8.0     101.24                   Fog  \n",
       "2            4.0     101.26  Freezing Drizzle,Fog  \n",
       "3            4.0     101.27  Freezing Drizzle,Fog  \n",
       "4            4.8     101.23                   Fog  \n",
       "5            6.4     101.27                   Fog  \n",
       "6            6.4     101.29                   Fog  \n",
       "7            8.0     101.26                   Fog  \n",
       "8            8.0     101.23                   Fog  \n",
       "9            4.0     101.20                   Fog  "
      ]
     },
     "execution_count": 23,
     "metadata": {},
     "output_type": "execute_result"
    }
   ],
   "source": [
    "weather_df.iloc[0:10] #Doesn't include the ending index here "
   ]
  },
  {
   "cell_type": "code",
   "execution_count": 28,
   "id": "a2e34a24-f096-4c9c-abb6-598225e390dc",
   "metadata": {},
   "outputs": [
    {
     "data": {
      "text/plain": [
       "0                     Fog\n",
       "1                     Fog\n",
       "2    Freezing Drizzle,Fog\n",
       "3    Freezing Drizzle,Fog\n",
       "4                     Fog\n",
       "5                     Fog\n",
       "6                     Fog\n",
       "7                     Fog\n",
       "8                     Fog\n",
       "9                     Fog\n",
       "Name: Weather, dtype: object"
      ]
     },
     "execution_count": 28,
     "metadata": {},
     "output_type": "execute_result"
    }
   ],
   "source": [
    "#Index column by position\n",
    "weather_df.iloc[0:10,7]"
   ]
  },
  {
   "cell_type": "code",
   "execution_count": 29,
   "id": "3d0b49b8-875d-4370-8170-dc2747f98a50",
   "metadata": {},
   "outputs": [
    {
     "data": {
      "text/html": [
       "<div>\n",
       "<style scoped>\n",
       "    .dataframe tbody tr th:only-of-type {\n",
       "        vertical-align: middle;\n",
       "    }\n",
       "\n",
       "    .dataframe tbody tr th {\n",
       "        vertical-align: top;\n",
       "    }\n",
       "\n",
       "    .dataframe thead th {\n",
       "        text-align: right;\n",
       "    }\n",
       "</style>\n",
       "<table border=\"1\" class=\"dataframe\">\n",
       "  <thead>\n",
       "    <tr style=\"text-align: right;\">\n",
       "      <th></th>\n",
       "      <th>Wind Speed_km/h</th>\n",
       "      <th>Visibility_km</th>\n",
       "      <th>Press_kPa</th>\n",
       "    </tr>\n",
       "  </thead>\n",
       "  <tbody>\n",
       "    <tr>\n",
       "      <th>0</th>\n",
       "      <td>4</td>\n",
       "      <td>8.0</td>\n",
       "      <td>101.24</td>\n",
       "    </tr>\n",
       "    <tr>\n",
       "      <th>1</th>\n",
       "      <td>4</td>\n",
       "      <td>8.0</td>\n",
       "      <td>101.24</td>\n",
       "    </tr>\n",
       "    <tr>\n",
       "      <th>2</th>\n",
       "      <td>7</td>\n",
       "      <td>4.0</td>\n",
       "      <td>101.26</td>\n",
       "    </tr>\n",
       "    <tr>\n",
       "      <th>3</th>\n",
       "      <td>6</td>\n",
       "      <td>4.0</td>\n",
       "      <td>101.27</td>\n",
       "    </tr>\n",
       "    <tr>\n",
       "      <th>4</th>\n",
       "      <td>7</td>\n",
       "      <td>4.8</td>\n",
       "      <td>101.23</td>\n",
       "    </tr>\n",
       "    <tr>\n",
       "      <th>5</th>\n",
       "      <td>9</td>\n",
       "      <td>6.4</td>\n",
       "      <td>101.27</td>\n",
       "    </tr>\n",
       "    <tr>\n",
       "      <th>6</th>\n",
       "      <td>7</td>\n",
       "      <td>6.4</td>\n",
       "      <td>101.29</td>\n",
       "    </tr>\n",
       "    <tr>\n",
       "      <th>7</th>\n",
       "      <td>7</td>\n",
       "      <td>8.0</td>\n",
       "      <td>101.26</td>\n",
       "    </tr>\n",
       "    <tr>\n",
       "      <th>8</th>\n",
       "      <td>9</td>\n",
       "      <td>8.0</td>\n",
       "      <td>101.23</td>\n",
       "    </tr>\n",
       "    <tr>\n",
       "      <th>9</th>\n",
       "      <td>15</td>\n",
       "      <td>4.0</td>\n",
       "      <td>101.20</td>\n",
       "    </tr>\n",
       "  </tbody>\n",
       "</table>\n",
       "</div>"
      ],
      "text/plain": [
       "   Wind Speed_km/h  Visibility_km  Press_kPa\n",
       "0                4            8.0     101.24\n",
       "1                4            8.0     101.24\n",
       "2                7            4.0     101.26\n",
       "3                6            4.0     101.27\n",
       "4                7            4.8     101.23\n",
       "5                9            6.4     101.27\n",
       "6                7            6.4     101.29\n",
       "7                7            8.0     101.26\n",
       "8                9            8.0     101.23\n",
       "9               15            4.0     101.20"
      ]
     },
     "execution_count": 29,
     "metadata": {},
     "output_type": "execute_result"
    }
   ],
   "source": [
    "# Slicing column by position\n",
    "weather_df.iloc[0:10,4:7] #doesn't include the weather column here as it doesnt cover the ending index"
   ]
  },
  {
   "cell_type": "markdown",
   "id": "01b3a1ed-e7ae-41b4-b2bb-3a38de44fd2a",
   "metadata": {},
   "source": [
    "<h2>Mini Challenge 4 </h2>\n",
    "<hr>\n",
    "Get the first 3 alternating rows from the <b>weather_df</b> dataframe, but only the <i>Visibility and Relative Humidity</i> columns"
   ]
  },
  {
   "cell_type": "code",
   "execution_count": 34,
   "id": "d24ea5a0-0206-47d6-9036-24c89ed28c7f",
   "metadata": {},
   "outputs": [
    {
     "data": {
      "text/html": [
       "<div>\n",
       "<style scoped>\n",
       "    .dataframe tbody tr th:only-of-type {\n",
       "        vertical-align: middle;\n",
       "    }\n",
       "\n",
       "    .dataframe tbody tr th {\n",
       "        vertical-align: top;\n",
       "    }\n",
       "\n",
       "    .dataframe thead th {\n",
       "        text-align: right;\n",
       "    }\n",
       "</style>\n",
       "<table border=\"1\" class=\"dataframe\">\n",
       "  <thead>\n",
       "    <tr style=\"text-align: right;\">\n",
       "      <th></th>\n",
       "      <th>Rel Hum_%</th>\n",
       "      <th>Visibility_km</th>\n",
       "    </tr>\n",
       "  </thead>\n",
       "  <tbody>\n",
       "    <tr>\n",
       "      <th>0</th>\n",
       "      <td>86</td>\n",
       "      <td>8.0</td>\n",
       "    </tr>\n",
       "    <tr>\n",
       "      <th>2</th>\n",
       "      <td>89</td>\n",
       "      <td>4.0</td>\n",
       "    </tr>\n",
       "    <tr>\n",
       "      <th>4</th>\n",
       "      <td>88</td>\n",
       "      <td>4.8</td>\n",
       "    </tr>\n",
       "  </tbody>\n",
       "</table>\n",
       "</div>"
      ],
      "text/plain": [
       "   Rel Hum_%  Visibility_km\n",
       "0         86            8.0\n",
       "2         89            4.0\n",
       "4         88            4.8"
      ]
     },
     "execution_count": 34,
     "metadata": {},
     "output_type": "execute_result"
    }
   ],
   "source": [
    "weather_df.iloc[0:6:2,[3,5]]"
   ]
  },
  {
   "cell_type": "markdown",
   "id": "3669a858-4c01-4e59-9feb-7f7671b9185c",
   "metadata": {},
   "source": [
    "<h2>Filtering</h2>\n",
    "<hr>"
   ]
  },
  {
   "cell_type": "markdown",
   "id": "d80aee82-71e1-4943-8619-57f55e57e816",
   "metadata": {},
   "source": [
    "When working with data, we may not need all the data .We need to <b>filter</b> the data based on the requirement and work on it.<br>So understanding filter operations is crucial"
   ]
  },
  {
   "cell_type": "markdown",
   "id": "134557aa-62c0-4e92-bba9-8e43c72f1354",
   "metadata": {},
   "source": [
    "<h3>Find all instances where it snowed</b>"
   ]
  },
  {
   "cell_type": "code",
   "execution_count": 21,
   "id": "7fce3b36-41ff-4de7-800c-26f22f512a87",
   "metadata": {},
   "outputs": [],
   "source": [
    "weather_snow_check=weather_df[\"Weather\"]==\"Snow\"\n",
    "# Returns an boolean array with true for rows that satisfies the condition and false for others"
   ]
  },
  {
   "cell_type": "code",
   "execution_count": 22,
   "id": "dd5eb5ed-260a-4a81-a1f4-23ff602e7830",
   "metadata": {},
   "outputs": [
    {
     "data": {
      "text/plain": [
       "Weather\n",
       "False    8394\n",
       "True      390\n",
       "Name: count, dtype: int64"
      ]
     },
     "execution_count": 22,
     "metadata": {},
     "output_type": "execute_result"
    }
   ],
   "source": [
    "weather_snow_check.value_counts()"
   ]
  },
  {
   "cell_type": "code",
   "execution_count": 10,
   "id": "bfce2df4-2088-4e7b-9c0a-168586613886",
   "metadata": {},
   "outputs": [
    {
     "data": {
      "text/plain": [
       "array(['Fog', 'Freezing Drizzle,Fog', 'Mostly Cloudy', 'Cloudy', 'Rain',\n",
       "       'Rain Showers', 'Mainly Clear', 'Snow Showers', 'Snow', 'Clear',\n",
       "       'Freezing Rain,Fog', 'Freezing Rain', 'Freezing Drizzle',\n",
       "       'Rain,Snow', 'Moderate Snow', 'Freezing Drizzle,Snow',\n",
       "       'Freezing Rain,Snow Grains', 'Snow,Blowing Snow', 'Freezing Fog',\n",
       "       'Haze', 'Rain,Fog', 'Drizzle,Fog', 'Drizzle',\n",
       "       'Freezing Drizzle,Haze', 'Freezing Rain,Haze', 'Snow,Haze',\n",
       "       'Snow,Fog', 'Snow,Ice Pellets', 'Rain,Haze', 'Thunderstorms,Rain',\n",
       "       'Thunderstorms,Rain Showers', 'Thunderstorms,Heavy Rain Showers',\n",
       "       'Thunderstorms,Rain Showers,Fog', 'Thunderstorms',\n",
       "       'Thunderstorms,Rain,Fog',\n",
       "       'Thunderstorms,Moderate Rain Showers,Fog', 'Rain Showers,Fog',\n",
       "       'Rain Showers,Snow Showers', 'Snow Pellets', 'Rain,Snow,Fog',\n",
       "       'Moderate Rain,Fog', 'Freezing Rain,Ice Pellets,Fog',\n",
       "       'Drizzle,Ice Pellets,Fog', 'Drizzle,Snow', 'Rain,Ice Pellets',\n",
       "       'Drizzle,Snow,Fog', 'Rain,Snow Grains', 'Rain,Snow,Ice Pellets',\n",
       "       'Snow Showers,Fog', 'Moderate Snow,Blowing Snow'], dtype=object)"
      ]
     },
     "execution_count": 10,
     "metadata": {},
     "output_type": "execute_result"
    }
   ],
   "source": [
    "weather_df[\"Weather\"].unique()\n",
    "# Could see from the result that snow is part of other weathers as well such as 'Freezing Rain,Snow Grains','Rain Showers,Snow Showers' \n",
    "# So directly comparing won't help"
   ]
  },
  {
   "cell_type": "code",
   "execution_count": 12,
   "id": "5cb4442c-8b64-4345-ac46-4862c3bf4bd3",
   "metadata": {},
   "outputs": [],
   "source": [
    "weather_snowed=weather_df[\"Weather\"].str.lower().str.contains(\"snow\")"
   ]
  },
  {
   "cell_type": "code",
   "execution_count": 19,
   "id": "74f71202-0555-487a-b629-c7b0ff5d8f10",
   "metadata": {},
   "outputs": [
    {
     "data": {
      "text/plain": [
       "Weather\n",
       "False    8201\n",
       "True      583\n",
       "Name: count, dtype: int64"
      ]
     },
     "execution_count": 19,
     "metadata": {},
     "output_type": "execute_result"
    }
   ],
   "source": [
    "weather_snowed.value_counts()"
   ]
  },
  {
   "cell_type": "markdown",
   "id": "b778dcc3-7a47-42fe-bbe9-ff480dd07ea5",
   "metadata": {},
   "source": [
    "Could see the True in above case more than true in weather_snow_check!"
   ]
  },
  {
   "cell_type": "markdown",
   "id": "467d332c-3bf2-4d71-a147-ce23c1177b6e",
   "metadata": {},
   "source": [
    "<h3>Find all instances when wind speed was above 24 and visibility was 25<h3>"
   ]
  },
  {
   "cell_type": "code",
   "execution_count": 26,
   "id": "fd1fa26e-78ed-4e27-a715-570f730e5574",
   "metadata": {},
   "outputs": [
    {
     "data": {
      "text/html": [
       "<div>\n",
       "<style scoped>\n",
       "    .dataframe tbody tr th:only-of-type {\n",
       "        vertical-align: middle;\n",
       "    }\n",
       "\n",
       "    .dataframe tbody tr th {\n",
       "        vertical-align: top;\n",
       "    }\n",
       "\n",
       "    .dataframe thead th {\n",
       "        text-align: right;\n",
       "    }\n",
       "</style>\n",
       "<table border=\"1\" class=\"dataframe\">\n",
       "  <thead>\n",
       "    <tr style=\"text-align: right;\">\n",
       "      <th></th>\n",
       "      <th>Date/Time</th>\n",
       "      <th>Temp_C</th>\n",
       "      <th>Dew Point Temp_C</th>\n",
       "      <th>Rel Hum_%</th>\n",
       "      <th>Wind Speed_km/h</th>\n",
       "      <th>Visibility_km</th>\n",
       "      <th>Press_kPa</th>\n",
       "      <th>Weather</th>\n",
       "    </tr>\n",
       "  </thead>\n",
       "  <tbody>\n",
       "    <tr>\n",
       "      <th>23</th>\n",
       "      <td>2012-01-01 23:00:00</td>\n",
       "      <td>5.3</td>\n",
       "      <td>2.0</td>\n",
       "      <td>79</td>\n",
       "      <td>30</td>\n",
       "      <td>25.0</td>\n",
       "      <td>99.31</td>\n",
       "      <td>Cloudy</td>\n",
       "    </tr>\n",
       "    <tr>\n",
       "      <th>24</th>\n",
       "      <td>2012-01-02 00:00:00</td>\n",
       "      <td>5.2</td>\n",
       "      <td>1.5</td>\n",
       "      <td>77</td>\n",
       "      <td>35</td>\n",
       "      <td>25.0</td>\n",
       "      <td>99.26</td>\n",
       "      <td>Rain Showers</td>\n",
       "    </tr>\n",
       "    <tr>\n",
       "      <th>25</th>\n",
       "      <td>2012-01-02 01:00:00</td>\n",
       "      <td>4.6</td>\n",
       "      <td>0.0</td>\n",
       "      <td>72</td>\n",
       "      <td>39</td>\n",
       "      <td>25.0</td>\n",
       "      <td>99.26</td>\n",
       "      <td>Cloudy</td>\n",
       "    </tr>\n",
       "    <tr>\n",
       "      <th>26</th>\n",
       "      <td>2012-01-02 02:00:00</td>\n",
       "      <td>3.9</td>\n",
       "      <td>-0.9</td>\n",
       "      <td>71</td>\n",
       "      <td>32</td>\n",
       "      <td>25.0</td>\n",
       "      <td>99.26</td>\n",
       "      <td>Mostly Cloudy</td>\n",
       "    </tr>\n",
       "    <tr>\n",
       "      <th>27</th>\n",
       "      <td>2012-01-02 03:00:00</td>\n",
       "      <td>3.7</td>\n",
       "      <td>-1.5</td>\n",
       "      <td>69</td>\n",
       "      <td>33</td>\n",
       "      <td>25.0</td>\n",
       "      <td>99.30</td>\n",
       "      <td>Mostly Cloudy</td>\n",
       "    </tr>\n",
       "    <tr>\n",
       "      <th>...</th>\n",
       "      <td>...</td>\n",
       "      <td>...</td>\n",
       "      <td>...</td>\n",
       "      <td>...</td>\n",
       "      <td>...</td>\n",
       "      <td>...</td>\n",
       "      <td>...</td>\n",
       "      <td>...</td>\n",
       "    </tr>\n",
       "    <tr>\n",
       "      <th>8705</th>\n",
       "      <td>2012-12-28 17:00:00</td>\n",
       "      <td>-8.6</td>\n",
       "      <td>-12.0</td>\n",
       "      <td>76</td>\n",
       "      <td>26</td>\n",
       "      <td>25.0</td>\n",
       "      <td>101.34</td>\n",
       "      <td>Mainly Clear</td>\n",
       "    </tr>\n",
       "    <tr>\n",
       "      <th>8753</th>\n",
       "      <td>2012-12-30 17:00:00</td>\n",
       "      <td>-12.1</td>\n",
       "      <td>-15.8</td>\n",
       "      <td>74</td>\n",
       "      <td>28</td>\n",
       "      <td>25.0</td>\n",
       "      <td>101.26</td>\n",
       "      <td>Mainly Clear</td>\n",
       "    </tr>\n",
       "    <tr>\n",
       "      <th>8755</th>\n",
       "      <td>2012-12-30 19:00:00</td>\n",
       "      <td>-13.4</td>\n",
       "      <td>-16.5</td>\n",
       "      <td>77</td>\n",
       "      <td>26</td>\n",
       "      <td>25.0</td>\n",
       "      <td>101.47</td>\n",
       "      <td>Mainly Clear</td>\n",
       "    </tr>\n",
       "    <tr>\n",
       "      <th>8759</th>\n",
       "      <td>2012-12-30 23:00:00</td>\n",
       "      <td>-12.1</td>\n",
       "      <td>-15.1</td>\n",
       "      <td>78</td>\n",
       "      <td>28</td>\n",
       "      <td>25.0</td>\n",
       "      <td>101.52</td>\n",
       "      <td>Mostly Cloudy</td>\n",
       "    </tr>\n",
       "    <tr>\n",
       "      <th>8760</th>\n",
       "      <td>2012-12-31 00:00:00</td>\n",
       "      <td>-11.1</td>\n",
       "      <td>-14.4</td>\n",
       "      <td>77</td>\n",
       "      <td>26</td>\n",
       "      <td>25.0</td>\n",
       "      <td>101.51</td>\n",
       "      <td>Cloudy</td>\n",
       "    </tr>\n",
       "  </tbody>\n",
       "</table>\n",
       "<p>308 rows × 8 columns</p>\n",
       "</div>"
      ],
      "text/plain": [
       "               Date/Time  Temp_C  Dew Point Temp_C  Rel Hum_%  \\\n",
       "23   2012-01-01 23:00:00     5.3               2.0         79   \n",
       "24   2012-01-02 00:00:00     5.2               1.5         77   \n",
       "25   2012-01-02 01:00:00     4.6               0.0         72   \n",
       "26   2012-01-02 02:00:00     3.9              -0.9         71   \n",
       "27   2012-01-02 03:00:00     3.7              -1.5         69   \n",
       "...                  ...     ...               ...        ...   \n",
       "8705 2012-12-28 17:00:00    -8.6             -12.0         76   \n",
       "8753 2012-12-30 17:00:00   -12.1             -15.8         74   \n",
       "8755 2012-12-30 19:00:00   -13.4             -16.5         77   \n",
       "8759 2012-12-30 23:00:00   -12.1             -15.1         78   \n",
       "8760 2012-12-31 00:00:00   -11.1             -14.4         77   \n",
       "\n",
       "      Wind Speed_km/h  Visibility_km  Press_kPa        Weather  \n",
       "23                 30           25.0      99.31         Cloudy  \n",
       "24                 35           25.0      99.26   Rain Showers  \n",
       "25                 39           25.0      99.26         Cloudy  \n",
       "26                 32           25.0      99.26  Mostly Cloudy  \n",
       "27                 33           25.0      99.30  Mostly Cloudy  \n",
       "...               ...            ...        ...            ...  \n",
       "8705               26           25.0     101.34   Mainly Clear  \n",
       "8753               28           25.0     101.26   Mainly Clear  \n",
       "8755               26           25.0     101.47   Mainly Clear  \n",
       "8759               28           25.0     101.52  Mostly Cloudy  \n",
       "8760               26           25.0     101.51         Cloudy  \n",
       "\n",
       "[308 rows x 8 columns]"
      ]
     },
     "execution_count": 26,
     "metadata": {},
     "output_type": "execute_result"
    }
   ],
   "source": [
    "weather_df[(weather_df[\"Wind Speed_km/h\"] > 24) & (weather_df[\"Visibility_km\"]==25)] \n",
    "# (weather_df[\"Wind Speed_km/h\"] > 24) & (weather_df[\"Visibility_km\"]==25) will return an boolean array to outer weather_df dataframe"
   ]
  },
  {
   "cell_type": "markdown",
   "id": "7ef9ef4d-ec93-48af-9c83-e7f30c5ffe73",
   "metadata": {},
   "source": [
    "<h3>Summary:Selection,Indexing and Filtering</h3>\n",
    "<hr>\n",
    "    <table border=\"1\">\n",
    "        <tr>\n",
    "            <th>Syntax</th>\n",
    "            <th>Function</th>\n",
    "        </tr>\n",
    "        <tr>\n",
    "            <td>df['label']</td>\n",
    "            <td>Returns the specific label column</td>\n",
    "        </tr>\n",
    "        <tr>\n",
    "            <td>df['label1', 'label2']</td>\n",
    "            <td>Returns multiple label columns</td>\n",
    "        </tr>\n",
    "        <tr>\n",
    "            <td>df['row_label', 'column_label']</td>\n",
    "            <td>Returns multiple label columns</td>\n",
    "        </tr>\n",
    "        <tr>\n",
    "            <td>df[start_index:end_index:increment]</td>\n",
    "            <td>Returns rows based on slicing label/index without ending label index</td>\n",
    "        </tr>\n",
    "        <tr>\n",
    "            <td>df.loc[start_label:end_label]</td>\n",
    "            <td>Returns rows based on slicing label with ending label</td>\n",
    "        </tr>\n",
    "        <tr>\n",
    "            <td>df.iloc[start_index:end_index]</td>\n",
    "            <td>Returns rows based on slicing index without ending index</td>\n",
    "        </tr>\n",
    "        <tr>\n",
    "            <td>df[condition/boolean_array]</td>\n",
    "            <td>Returns based on condition or boolean array</td>\n",
    "        </tr>\n",
    "    </table>\n",
    "\n",
    "    "
   ]
  },
  {
   "cell_type": "markdown",
   "id": "71b4beb0-c578-4575-b773-c68d3b4eca45",
   "metadata": {},
   "source": [
    "<h2>Working with columns </h2>\n",
    "<hr>"
   ]
  },
  {
   "cell_type": "markdown",
   "id": "9a81f1be-1562-4a40-a2ba-668c63af6509",
   "metadata": {},
   "source": [
    "Learn\n",
    "<ul>\n",
    "    <li>How to carry out Series operations on DataFrame Columns</li>\n",
    "    <li>How to add or update columns within a DataFrame</li>\n",
    "    <li>How to rename specific columns</li>\n",
    "    <li>How to delete or drop a column that is no longer required for analysis</li>\n",
    "</ul>"
   ]
  },
  {
   "cell_type": "markdown",
   "id": "867d6b96-fe8e-475a-8ae2-34cfb3074bb7",
   "metadata": {},
   "source": [
    "Arithmetic operations on a single column in dataframe using the methods of Series "
   ]
  },
  {
   "cell_type": "code",
   "execution_count": 28,
   "id": "20057f3e-4fbc-4847-8efb-0b04c264d8e8",
   "metadata": {},
   "outputs": [
    {
     "data": {
      "text/plain": [
       "0       4\n",
       "1       4\n",
       "2       2\n",
       "3       1\n",
       "4       2\n",
       "       ..\n",
       "8779    0\n",
       "8780    4\n",
       "8781    3\n",
       "8782    3\n",
       "8783    0\n",
       "Name: Wind Speed_km/h, Length: 8784, dtype: int64"
      ]
     },
     "execution_count": 28,
     "metadata": {},
     "output_type": "execute_result"
    }
   ],
   "source": [
    "weather_df[\"Wind Speed_km/h\"]%5  #Returns the remainder from 5"
   ]
  },
  {
   "cell_type": "markdown",
   "id": "6c9d96d9-47c1-48e2-bd11-fea727bcc893",
   "metadata": {},
   "source": [
    "Add 10 to the values in the column \"Wind Spd (km/h)\" using the \"+\" operator"
   ]
  },
  {
   "cell_type": "code",
   "execution_count": 30,
   "id": "2311b27f-cdea-43db-a1f1-b672c26c08ba",
   "metadata": {},
   "outputs": [
    {
     "data": {
      "text/plain": [
       "0       14\n",
       "1       14\n",
       "2       17\n",
       "3       16\n",
       "4       17\n",
       "        ..\n",
       "8779    40\n",
       "8780    34\n",
       "8781    38\n",
       "8782    38\n",
       "8783    40\n",
       "Name: Wind Speed_km/h, Length: 8784, dtype: int64"
      ]
     },
     "execution_count": 30,
     "metadata": {},
     "output_type": "execute_result"
    }
   ],
   "source": [
    "weather_df[\"Wind Speed_km/h\"]+10"
   ]
  },
  {
   "cell_type": "markdown",
   "id": "ebf8537e-6713-4b2a-8948-fbc363750eb2",
   "metadata": {},
   "source": [
    "Multiply the values in the 'Visibility (km)' column by 2 using the asterisk (*) operator"
   ]
  },
  {
   "cell_type": "code",
   "execution_count": 31,
   "id": "98abb9f3-ef71-4722-850b-2c176227c8af",
   "metadata": {},
   "outputs": [
    {
     "data": {
      "text/plain": [
       "0       16.0\n",
       "1       16.0\n",
       "2        8.0\n",
       "3        8.0\n",
       "4        9.6\n",
       "        ... \n",
       "8779    19.4\n",
       "8780    19.4\n",
       "8781     9.6\n",
       "8782    19.4\n",
       "8783    22.6\n",
       "Name: Visibility_km, Length: 8784, dtype: float64"
      ]
     },
     "execution_count": 31,
     "metadata": {},
     "output_type": "execute_result"
    }
   ],
   "source": [
    "weather_df[\"Visibility_km\"]*2"
   ]
  },
  {
   "cell_type": "markdown",
   "id": "b9b4c1ad-4966-4a4d-9891-9171cd9075f7",
   "metadata": {},
   "source": [
    "Add the \"Temp (C)\" and \"Dew Point Temp (C)\" columns as series \"temperature\"\n"
   ]
  },
  {
   "cell_type": "code",
   "execution_count": 32,
   "id": "f86b843d-bf4e-4c2f-9cee-e60983732806",
   "metadata": {},
   "outputs": [],
   "source": [
    "temperature=weather_df[\"Temp_C\"]+weather_df[\"Dew Point Temp_C\"]"
   ]
  },
  {
   "cell_type": "code",
   "execution_count": 33,
   "id": "cd1b223e-9192-4c27-86d3-b8bdac0d57af",
   "metadata": {},
   "outputs": [
    {
     "name": "stdout",
     "output_type": "stream",
     "text": [
      "0      -5.7\n",
      "1      -5.5\n",
      "2      -5.2\n",
      "3      -4.7\n",
      "4      -4.8\n",
      "       ... \n",
      "8779   -2.6\n",
      "8780   -2.2\n",
      "8781   -2.0\n",
      "8782   -2.0\n",
      "8783   -2.1\n",
      "Length: 8784, dtype: float64\n"
     ]
    }
   ],
   "source": [
    "print(temperature)"
   ]
  },
  {
   "cell_type": "markdown",
   "id": "98c6d5a8-5f22-4e58-bd87-089467746c8c",
   "metadata": {},
   "source": [
    "Add the temperature column temp in weather df adding \"Temp (C)\" and \"Dew Point Temp (C)\""
   ]
  },
  {
   "cell_type": "code",
   "execution_count": 34,
   "id": "945a2cba-6680-4cb2-a8c9-60af483d50ac",
   "metadata": {},
   "outputs": [],
   "source": [
    "weather_df[\"temp_col\"]=weather_df[\"Temp_C\"]+weather_df[\"Dew Point Temp_C\"]"
   ]
  },
  {
   "cell_type": "code",
   "execution_count": 36,
   "id": "9c483d3c-f479-4763-a82a-dd5881dd988c",
   "metadata": {},
   "outputs": [
    {
     "data": {
      "text/html": [
       "<div>\n",
       "<style scoped>\n",
       "    .dataframe tbody tr th:only-of-type {\n",
       "        vertical-align: middle;\n",
       "    }\n",
       "\n",
       "    .dataframe tbody tr th {\n",
       "        vertical-align: top;\n",
       "    }\n",
       "\n",
       "    .dataframe thead th {\n",
       "        text-align: right;\n",
       "    }\n",
       "</style>\n",
       "<table border=\"1\" class=\"dataframe\">\n",
       "  <thead>\n",
       "    <tr style=\"text-align: right;\">\n",
       "      <th></th>\n",
       "      <th>Date/Time</th>\n",
       "      <th>Temp_C</th>\n",
       "      <th>Dew Point Temp_C</th>\n",
       "      <th>Rel Hum_%</th>\n",
       "      <th>Wind Speed_km/h</th>\n",
       "      <th>Visibility_km</th>\n",
       "      <th>Press_kPa</th>\n",
       "      <th>Weather</th>\n",
       "      <th>temp_col</th>\n",
       "    </tr>\n",
       "  </thead>\n",
       "  <tbody>\n",
       "    <tr>\n",
       "      <th>0</th>\n",
       "      <td>2012-01-01 00:00:00</td>\n",
       "      <td>-1.8</td>\n",
       "      <td>-3.9</td>\n",
       "      <td>86</td>\n",
       "      <td>4</td>\n",
       "      <td>8.0</td>\n",
       "      <td>101.24</td>\n",
       "      <td>Fog</td>\n",
       "      <td>-5.7</td>\n",
       "    </tr>\n",
       "    <tr>\n",
       "      <th>1</th>\n",
       "      <td>2012-01-01 01:00:00</td>\n",
       "      <td>-1.8</td>\n",
       "      <td>-3.7</td>\n",
       "      <td>87</td>\n",
       "      <td>4</td>\n",
       "      <td>8.0</td>\n",
       "      <td>101.24</td>\n",
       "      <td>Fog</td>\n",
       "      <td>-5.5</td>\n",
       "    </tr>\n",
       "    <tr>\n",
       "      <th>2</th>\n",
       "      <td>2012-01-01 02:00:00</td>\n",
       "      <td>-1.8</td>\n",
       "      <td>-3.4</td>\n",
       "      <td>89</td>\n",
       "      <td>7</td>\n",
       "      <td>4.0</td>\n",
       "      <td>101.26</td>\n",
       "      <td>Freezing Drizzle,Fog</td>\n",
       "      <td>-5.2</td>\n",
       "    </tr>\n",
       "    <tr>\n",
       "      <th>3</th>\n",
       "      <td>2012-01-01 03:00:00</td>\n",
       "      <td>-1.5</td>\n",
       "      <td>-3.2</td>\n",
       "      <td>88</td>\n",
       "      <td>6</td>\n",
       "      <td>4.0</td>\n",
       "      <td>101.27</td>\n",
       "      <td>Freezing Drizzle,Fog</td>\n",
       "      <td>-4.7</td>\n",
       "    </tr>\n",
       "    <tr>\n",
       "      <th>4</th>\n",
       "      <td>2012-01-01 04:00:00</td>\n",
       "      <td>-1.5</td>\n",
       "      <td>-3.3</td>\n",
       "      <td>88</td>\n",
       "      <td>7</td>\n",
       "      <td>4.8</td>\n",
       "      <td>101.23</td>\n",
       "      <td>Fog</td>\n",
       "      <td>-4.8</td>\n",
       "    </tr>\n",
       "  </tbody>\n",
       "</table>\n",
       "</div>"
      ],
      "text/plain": [
       "            Date/Time  Temp_C  Dew Point Temp_C  Rel Hum_%  Wind Speed_km/h  \\\n",
       "0 2012-01-01 00:00:00    -1.8              -3.9         86                4   \n",
       "1 2012-01-01 01:00:00    -1.8              -3.7         87                4   \n",
       "2 2012-01-01 02:00:00    -1.8              -3.4         89                7   \n",
       "3 2012-01-01 03:00:00    -1.5              -3.2         88                6   \n",
       "4 2012-01-01 04:00:00    -1.5              -3.3         88                7   \n",
       "\n",
       "   Visibility_km  Press_kPa               Weather  temp_col  \n",
       "0            8.0     101.24                   Fog      -5.7  \n",
       "1            8.0     101.24                   Fog      -5.5  \n",
       "2            4.0     101.26  Freezing Drizzle,Fog      -5.2  \n",
       "3            4.0     101.27  Freezing Drizzle,Fog      -4.7  \n",
       "4            4.8     101.23                   Fog      -4.8  "
      ]
     },
     "execution_count": 36,
     "metadata": {},
     "output_type": "execute_result"
    }
   ],
   "source": [
    "#could see the temp_col created \n",
    "weather_df.head() \n",
    "weather_df.info() "
   ]
  },
  {
   "cell_type": "markdown",
   "id": "ebbca4c8-d852-4ba8-a322-03b397c7c34c",
   "metadata": {},
   "source": [
    "<h2>Apply/Call functions </h2>\n"
   ]
  },
  {
   "cell_type": "markdown",
   "id": "accbd353-a0e1-4826-a448-8d3a2391fbba",
   "metadata": {},
   "source": [
    "<h3>apply()</h3>\n",
    "<hr>\n",
    "Helps to apply built in or custom function on the specific axis of series or dataframe.<br> Here axis 0 for columns and 1 for rows<br>\n",
    "<b>Syntax:</b><br>\n",
    "<i>df.apply(func,axis)</i>"
   ]
  },
  {
   "cell_type": "code",
   "execution_count": null,
   "id": "b8d8bbd0-545c-41ab-b0f5-0379a7f892e6",
   "metadata": {},
   "outputs": [],
   "source": [
    "# Column level operation\n",
    "def double_value(col):\n",
    "    return col*2\n",
    "\n",
    "weather_df[\"Wind Speed_km/h\"].apply(double_value,0)"
   ]
  },
  {
   "cell_type": "code",
   "execution_count": null,
   "id": "3ee073ad-5476-4207-b639-fa5d4c1caa93",
   "metadata": {},
   "outputs": [],
   "source": [
    "# Same can be acheived by lambda function\n",
    "weather_df[\"Wind Speed_km/h\"].apply(lambda values:values*2,0)"
   ]
  },
  {
   "cell_type": "code",
   "execution_count": 80,
   "id": "df726267-4c38-418c-8f60-ab192511078b",
   "metadata": {},
   "outputs": [
    {
     "data": {
      "text/plain": [
       "Temp_C              38641.45\n",
       "Dew Point Temp_C    11222.85\n",
       "dtype: float64"
      ]
     },
     "execution_count": 80,
     "metadata": {},
     "output_type": "execute_result"
    }
   ],
   "source": [
    "# Row level operation\n",
    "# Average of Temp_C and Dew Point Temp_C \n",
    "weather_df[[\"Temp_C\",\"Dew Point Temp_C\"]].apply(lambda values:sum(values)/2,0)"
   ]
  },
  {
   "cell_type": "markdown",
   "id": "f5ad4d15-e9f7-4bc5-88b2-48eae760b238",
   "metadata": {},
   "source": [
    "<h3>describe()</h3>\n",
    "<hr>\n",
    "Fetches the descriptive statistics for a series or dataframe excluding <b>NaN (missing) values</b>.<br>\n",
    "<b>For integer data:</b>\n",
    "    Index includes count, mean, std, min, max, and percentiles (default: 25th, 50th, 75th).<br>\n",
    "<b>For object data:</b>\n",
    "    Index includes count, unique, top, and frequency.\n"
   ]
  },
  {
   "cell_type": "code",
   "execution_count": 51,
   "id": "3dcc6876-c28c-4cf0-b6b9-50c42a6a9da9",
   "metadata": {},
   "outputs": [
    {
     "data": {
      "text/html": [
       "<div>\n",
       "<style scoped>\n",
       "    .dataframe tbody tr th:only-of-type {\n",
       "        vertical-align: middle;\n",
       "    }\n",
       "\n",
       "    .dataframe tbody tr th {\n",
       "        vertical-align: top;\n",
       "    }\n",
       "\n",
       "    .dataframe thead th {\n",
       "        text-align: right;\n",
       "    }\n",
       "</style>\n",
       "<table border=\"1\" class=\"dataframe\">\n",
       "  <thead>\n",
       "    <tr style=\"text-align: right;\">\n",
       "      <th></th>\n",
       "      <th>Date/Time</th>\n",
       "      <th>Temp_C</th>\n",
       "      <th>Dew Point Temp_C</th>\n",
       "      <th>Rel Hum_%</th>\n",
       "      <th>Wind Speed_km/h</th>\n",
       "      <th>Visibility_km</th>\n",
       "      <th>Press_kPa</th>\n",
       "      <th>temp_col</th>\n",
       "    </tr>\n",
       "  </thead>\n",
       "  <tbody>\n",
       "    <tr>\n",
       "      <th>count</th>\n",
       "      <td>8784</td>\n",
       "      <td>8784.000000</td>\n",
       "      <td>8784.000000</td>\n",
       "      <td>8784.000000</td>\n",
       "      <td>8784.000000</td>\n",
       "      <td>8784.000000</td>\n",
       "      <td>8784.000000</td>\n",
       "      <td>8784.000000</td>\n",
       "    </tr>\n",
       "    <tr>\n",
       "      <th>mean</th>\n",
       "      <td>2012-07-01 23:30:00</td>\n",
       "      <td>8.798144</td>\n",
       "      <td>2.555294</td>\n",
       "      <td>67.431694</td>\n",
       "      <td>14.945469</td>\n",
       "      <td>27.664447</td>\n",
       "      <td>101.051623</td>\n",
       "      <td>11.353438</td>\n",
       "    </tr>\n",
       "    <tr>\n",
       "      <th>min</th>\n",
       "      <td>2012-01-01 00:00:00</td>\n",
       "      <td>-23.300000</td>\n",
       "      <td>-28.500000</td>\n",
       "      <td>18.000000</td>\n",
       "      <td>0.000000</td>\n",
       "      <td>0.200000</td>\n",
       "      <td>97.520000</td>\n",
       "      <td>-51.800000</td>\n",
       "    </tr>\n",
       "    <tr>\n",
       "      <th>25%</th>\n",
       "      <td>2012-04-01 11:45:00</td>\n",
       "      <td>0.100000</td>\n",
       "      <td>-5.900000</td>\n",
       "      <td>56.000000</td>\n",
       "      <td>9.000000</td>\n",
       "      <td>24.100000</td>\n",
       "      <td>100.560000</td>\n",
       "      <td>-5.300000</td>\n",
       "    </tr>\n",
       "    <tr>\n",
       "      <th>50%</th>\n",
       "      <td>2012-07-01 23:30:00</td>\n",
       "      <td>9.300000</td>\n",
       "      <td>3.300000</td>\n",
       "      <td>68.000000</td>\n",
       "      <td>13.000000</td>\n",
       "      <td>25.000000</td>\n",
       "      <td>101.070000</td>\n",
       "      <td>12.200000</td>\n",
       "    </tr>\n",
       "    <tr>\n",
       "      <th>75%</th>\n",
       "      <td>2012-10-01 11:15:00</td>\n",
       "      <td>18.800000</td>\n",
       "      <td>11.800000</td>\n",
       "      <td>81.000000</td>\n",
       "      <td>20.000000</td>\n",
       "      <td>25.000000</td>\n",
       "      <td>101.590000</td>\n",
       "      <td>30.600000</td>\n",
       "    </tr>\n",
       "    <tr>\n",
       "      <th>max</th>\n",
       "      <td>2012-12-31 23:00:00</td>\n",
       "      <td>33.000000</td>\n",
       "      <td>24.400000</td>\n",
       "      <td>100.000000</td>\n",
       "      <td>83.000000</td>\n",
       "      <td>48.300000</td>\n",
       "      <td>103.650000</td>\n",
       "      <td>53.400000</td>\n",
       "    </tr>\n",
       "    <tr>\n",
       "      <th>std</th>\n",
       "      <td>NaN</td>\n",
       "      <td>11.687883</td>\n",
       "      <td>10.883072</td>\n",
       "      <td>16.918881</td>\n",
       "      <td>8.688696</td>\n",
       "      <td>12.622688</td>\n",
       "      <td>0.844005</td>\n",
       "      <td>22.188521</td>\n",
       "    </tr>\n",
       "  </tbody>\n",
       "</table>\n",
       "</div>"
      ],
      "text/plain": [
       "                 Date/Time       Temp_C  Dew Point Temp_C    Rel Hum_%  \\\n",
       "count                 8784  8784.000000       8784.000000  8784.000000   \n",
       "mean   2012-07-01 23:30:00     8.798144          2.555294    67.431694   \n",
       "min    2012-01-01 00:00:00   -23.300000        -28.500000    18.000000   \n",
       "25%    2012-04-01 11:45:00     0.100000         -5.900000    56.000000   \n",
       "50%    2012-07-01 23:30:00     9.300000          3.300000    68.000000   \n",
       "75%    2012-10-01 11:15:00    18.800000         11.800000    81.000000   \n",
       "max    2012-12-31 23:00:00    33.000000         24.400000   100.000000   \n",
       "std                    NaN    11.687883         10.883072    16.918881   \n",
       "\n",
       "       Wind Speed_km/h  Visibility_km    Press_kPa     temp_col  \n",
       "count      8784.000000    8784.000000  8784.000000  8784.000000  \n",
       "mean         14.945469      27.664447   101.051623    11.353438  \n",
       "min           0.000000       0.200000    97.520000   -51.800000  \n",
       "25%           9.000000      24.100000   100.560000    -5.300000  \n",
       "50%          13.000000      25.000000   101.070000    12.200000  \n",
       "75%          20.000000      25.000000   101.590000    30.600000  \n",
       "max          83.000000      48.300000   103.650000    53.400000  \n",
       "std           8.688696      12.622688     0.844005    22.188521  "
      ]
     },
     "execution_count": 51,
     "metadata": {},
     "output_type": "execute_result"
    }
   ],
   "source": [
    "weather_df.describe()\n",
    "# The reason the “weather” column is not included in the describe() result is that this method provides summary statistics only for numeric columns\n",
    "# when particular column name is not mentioned."
   ]
  },
  {
   "cell_type": "code",
   "execution_count": 55,
   "id": "e0d5e900-ba3d-4cbd-8291-6f60db316f30",
   "metadata": {},
   "outputs": [
    {
     "data": {
      "text/plain": [
       "count    8784.000000\n",
       "mean       14.945469\n",
       "std         8.688696\n",
       "min         0.000000\n",
       "25%         9.000000\n",
       "50%        13.000000\n",
       "75%        20.000000\n",
       "max        83.000000\n",
       "Name: Wind Speed_km/h, dtype: float64"
      ]
     },
     "execution_count": 55,
     "metadata": {},
     "output_type": "execute_result"
    }
   ],
   "source": [
    "# For numeric column\n",
    "weather_df[\"Wind Speed_km/h\"].describe()"
   ]
  },
  {
   "cell_type": "code",
   "execution_count": 54,
   "id": "b70d0bf9-f509-4c3c-9297-d0c039a57aaa",
   "metadata": {},
   "outputs": [
    {
     "data": {
      "text/plain": [
       "count             8784\n",
       "unique              50\n",
       "top       Mainly Clear\n",
       "freq              2106\n",
       "Name: Weather, dtype: object"
      ]
     },
     "execution_count": 54,
     "metadata": {},
     "output_type": "execute_result"
    }
   ],
   "source": [
    "# For object column\n",
    "weather_df[\"Weather\"].describe()"
   ]
  },
  {
   "cell_type": "markdown",
   "id": "f994fd9d-242c-42f3-b588-28f2114a6637",
   "metadata": {},
   "source": [
    "<h3>Adding/Updating column</h3>\n",
    "<hr>"
   ]
  },
  {
   "cell_type": "code",
   "execution_count": 56,
   "id": "54618d49-aeed-4951-a977-ccef3883a3a2",
   "metadata": {},
   "outputs": [],
   "source": [
    "# adding an column\n",
    "weather_df[\"temp_mean\"]=weather_df[[\"Temp_C\",\"Dew Point Temp_C\"]].apply(lambda values:sum(values)/2,1)"
   ]
  },
  {
   "cell_type": "code",
   "execution_count": 57,
   "id": "6145f4f7-febb-4e99-9bb4-3dd8ce628b41",
   "metadata": {},
   "outputs": [
    {
     "data": {
      "text/html": [
       "<div>\n",
       "<style scoped>\n",
       "    .dataframe tbody tr th:only-of-type {\n",
       "        vertical-align: middle;\n",
       "    }\n",
       "\n",
       "    .dataframe tbody tr th {\n",
       "        vertical-align: top;\n",
       "    }\n",
       "\n",
       "    .dataframe thead th {\n",
       "        text-align: right;\n",
       "    }\n",
       "</style>\n",
       "<table border=\"1\" class=\"dataframe\">\n",
       "  <thead>\n",
       "    <tr style=\"text-align: right;\">\n",
       "      <th></th>\n",
       "      <th>Date/Time</th>\n",
       "      <th>Temp_C</th>\n",
       "      <th>Dew Point Temp_C</th>\n",
       "      <th>Rel Hum_%</th>\n",
       "      <th>Wind Speed_km/h</th>\n",
       "      <th>Visibility_km</th>\n",
       "      <th>Press_kPa</th>\n",
       "      <th>Weather</th>\n",
       "      <th>temp_col</th>\n",
       "      <th>temp_mean</th>\n",
       "    </tr>\n",
       "  </thead>\n",
       "  <tbody>\n",
       "    <tr>\n",
       "      <th>0</th>\n",
       "      <td>2012-01-01 00:00:00</td>\n",
       "      <td>-1.8</td>\n",
       "      <td>-3.9</td>\n",
       "      <td>86</td>\n",
       "      <td>4</td>\n",
       "      <td>8.0</td>\n",
       "      <td>101.24</td>\n",
       "      <td>Fog</td>\n",
       "      <td>-5.7</td>\n",
       "      <td>-2.85</td>\n",
       "    </tr>\n",
       "    <tr>\n",
       "      <th>1</th>\n",
       "      <td>2012-01-01 01:00:00</td>\n",
       "      <td>-1.8</td>\n",
       "      <td>-3.7</td>\n",
       "      <td>87</td>\n",
       "      <td>4</td>\n",
       "      <td>8.0</td>\n",
       "      <td>101.24</td>\n",
       "      <td>Fog</td>\n",
       "      <td>-5.5</td>\n",
       "      <td>-2.75</td>\n",
       "    </tr>\n",
       "    <tr>\n",
       "      <th>2</th>\n",
       "      <td>2012-01-01 02:00:00</td>\n",
       "      <td>-1.8</td>\n",
       "      <td>-3.4</td>\n",
       "      <td>89</td>\n",
       "      <td>7</td>\n",
       "      <td>4.0</td>\n",
       "      <td>101.26</td>\n",
       "      <td>Freezing Drizzle,Fog</td>\n",
       "      <td>-5.2</td>\n",
       "      <td>-2.60</td>\n",
       "    </tr>\n",
       "    <tr>\n",
       "      <th>3</th>\n",
       "      <td>2012-01-01 03:00:00</td>\n",
       "      <td>-1.5</td>\n",
       "      <td>-3.2</td>\n",
       "      <td>88</td>\n",
       "      <td>6</td>\n",
       "      <td>4.0</td>\n",
       "      <td>101.27</td>\n",
       "      <td>Freezing Drizzle,Fog</td>\n",
       "      <td>-4.7</td>\n",
       "      <td>-2.35</td>\n",
       "    </tr>\n",
       "    <tr>\n",
       "      <th>4</th>\n",
       "      <td>2012-01-01 04:00:00</td>\n",
       "      <td>-1.5</td>\n",
       "      <td>-3.3</td>\n",
       "      <td>88</td>\n",
       "      <td>7</td>\n",
       "      <td>4.8</td>\n",
       "      <td>101.23</td>\n",
       "      <td>Fog</td>\n",
       "      <td>-4.8</td>\n",
       "      <td>-2.40</td>\n",
       "    </tr>\n",
       "  </tbody>\n",
       "</table>\n",
       "</div>"
      ],
      "text/plain": [
       "            Date/Time  Temp_C  Dew Point Temp_C  Rel Hum_%  Wind Speed_km/h  \\\n",
       "0 2012-01-01 00:00:00    -1.8              -3.9         86                4   \n",
       "1 2012-01-01 01:00:00    -1.8              -3.7         87                4   \n",
       "2 2012-01-01 02:00:00    -1.8              -3.4         89                7   \n",
       "3 2012-01-01 03:00:00    -1.5              -3.2         88                6   \n",
       "4 2012-01-01 04:00:00    -1.5              -3.3         88                7   \n",
       "\n",
       "   Visibility_km  Press_kPa               Weather  temp_col  temp_mean  \n",
       "0            8.0     101.24                   Fog      -5.7      -2.85  \n",
       "1            8.0     101.24                   Fog      -5.5      -2.75  \n",
       "2            4.0     101.26  Freezing Drizzle,Fog      -5.2      -2.60  \n",
       "3            4.0     101.27  Freezing Drizzle,Fog      -4.7      -2.35  \n",
       "4            4.8     101.23                   Fog      -4.8      -2.40  "
      ]
     },
     "execution_count": 57,
     "metadata": {},
     "output_type": "execute_result"
    }
   ],
   "source": [
    "weather_df.head()"
   ]
  },
  {
   "cell_type": "code",
   "execution_count": 58,
   "id": "48f50b7d-acd1-4567-8773-818c2af5cdbf",
   "metadata": {},
   "outputs": [],
   "source": [
    "# Updating an column\n",
    "new_visibility=weather_df[\"Visibility_km\"]*1000\n",
    "weather_df[\"Visibility_km\"]=new_visibility"
   ]
  },
  {
   "cell_type": "code",
   "execution_count": 59,
   "id": "7eeb5698-9d5d-43cd-914e-fb59524c894a",
   "metadata": {},
   "outputs": [
    {
     "data": {
      "text/html": [
       "<div>\n",
       "<style scoped>\n",
       "    .dataframe tbody tr th:only-of-type {\n",
       "        vertical-align: middle;\n",
       "    }\n",
       "\n",
       "    .dataframe tbody tr th {\n",
       "        vertical-align: top;\n",
       "    }\n",
       "\n",
       "    .dataframe thead th {\n",
       "        text-align: right;\n",
       "    }\n",
       "</style>\n",
       "<table border=\"1\" class=\"dataframe\">\n",
       "  <thead>\n",
       "    <tr style=\"text-align: right;\">\n",
       "      <th></th>\n",
       "      <th>Date/Time</th>\n",
       "      <th>Temp_C</th>\n",
       "      <th>Dew Point Temp_C</th>\n",
       "      <th>Rel Hum_%</th>\n",
       "      <th>Wind Speed_km/h</th>\n",
       "      <th>Visibility_km</th>\n",
       "      <th>Press_kPa</th>\n",
       "      <th>Weather</th>\n",
       "      <th>temp_col</th>\n",
       "      <th>temp_mean</th>\n",
       "    </tr>\n",
       "  </thead>\n",
       "  <tbody>\n",
       "    <tr>\n",
       "      <th>0</th>\n",
       "      <td>2012-01-01 00:00:00</td>\n",
       "      <td>-1.8</td>\n",
       "      <td>-3.9</td>\n",
       "      <td>86</td>\n",
       "      <td>4</td>\n",
       "      <td>8000.0</td>\n",
       "      <td>101.24</td>\n",
       "      <td>Fog</td>\n",
       "      <td>-5.7</td>\n",
       "      <td>-2.85</td>\n",
       "    </tr>\n",
       "    <tr>\n",
       "      <th>1</th>\n",
       "      <td>2012-01-01 01:00:00</td>\n",
       "      <td>-1.8</td>\n",
       "      <td>-3.7</td>\n",
       "      <td>87</td>\n",
       "      <td>4</td>\n",
       "      <td>8000.0</td>\n",
       "      <td>101.24</td>\n",
       "      <td>Fog</td>\n",
       "      <td>-5.5</td>\n",
       "      <td>-2.75</td>\n",
       "    </tr>\n",
       "    <tr>\n",
       "      <th>2</th>\n",
       "      <td>2012-01-01 02:00:00</td>\n",
       "      <td>-1.8</td>\n",
       "      <td>-3.4</td>\n",
       "      <td>89</td>\n",
       "      <td>7</td>\n",
       "      <td>4000.0</td>\n",
       "      <td>101.26</td>\n",
       "      <td>Freezing Drizzle,Fog</td>\n",
       "      <td>-5.2</td>\n",
       "      <td>-2.60</td>\n",
       "    </tr>\n",
       "    <tr>\n",
       "      <th>3</th>\n",
       "      <td>2012-01-01 03:00:00</td>\n",
       "      <td>-1.5</td>\n",
       "      <td>-3.2</td>\n",
       "      <td>88</td>\n",
       "      <td>6</td>\n",
       "      <td>4000.0</td>\n",
       "      <td>101.27</td>\n",
       "      <td>Freezing Drizzle,Fog</td>\n",
       "      <td>-4.7</td>\n",
       "      <td>-2.35</td>\n",
       "    </tr>\n",
       "    <tr>\n",
       "      <th>4</th>\n",
       "      <td>2012-01-01 04:00:00</td>\n",
       "      <td>-1.5</td>\n",
       "      <td>-3.3</td>\n",
       "      <td>88</td>\n",
       "      <td>7</td>\n",
       "      <td>4800.0</td>\n",
       "      <td>101.23</td>\n",
       "      <td>Fog</td>\n",
       "      <td>-4.8</td>\n",
       "      <td>-2.40</td>\n",
       "    </tr>\n",
       "  </tbody>\n",
       "</table>\n",
       "</div>"
      ],
      "text/plain": [
       "            Date/Time  Temp_C  Dew Point Temp_C  Rel Hum_%  Wind Speed_km/h  \\\n",
       "0 2012-01-01 00:00:00    -1.8              -3.9         86                4   \n",
       "1 2012-01-01 01:00:00    -1.8              -3.7         87                4   \n",
       "2 2012-01-01 02:00:00    -1.8              -3.4         89                7   \n",
       "3 2012-01-01 03:00:00    -1.5              -3.2         88                6   \n",
       "4 2012-01-01 04:00:00    -1.5              -3.3         88                7   \n",
       "\n",
       "   Visibility_km  Press_kPa               Weather  temp_col  temp_mean  \n",
       "0         8000.0     101.24                   Fog      -5.7      -2.85  \n",
       "1         8000.0     101.24                   Fog      -5.5      -2.75  \n",
       "2         4000.0     101.26  Freezing Drizzle,Fog      -5.2      -2.60  \n",
       "3         4000.0     101.27  Freezing Drizzle,Fog      -4.7      -2.35  \n",
       "4         4800.0     101.23                   Fog      -4.8      -2.40  "
      ]
     },
     "execution_count": 59,
     "metadata": {},
     "output_type": "execute_result"
    }
   ],
   "source": [
    "weather_df.head()"
   ]
  },
  {
   "cell_type": "markdown",
   "id": "dbf86ccc-061e-40bb-a7eb-ba1cf0697677",
   "metadata": {},
   "source": [
    "<h2>Renaming a column/row label</h2>\n",
    "<hr>\n",
    "Rename function works like a dictionary where column/row label is key and new is value<br>\n",
    "<b>Syntax:</b><i>df.rename(column/index={key:value},inplace=True)</i><br>\n",
    "Pandas by default creates a copy of dataframe for most of the operations.Thus changes will not affected in original dataframe. To avoid this,use <b>inplace=True</b>\n"
   ]
  },
  {
   "cell_type": "code",
   "execution_count": 61,
   "id": "d031ae94-3fb3-41ea-9317-e8b027abd7ad",
   "metadata": {},
   "outputs": [],
   "source": [
    "# Renaming a column\n",
    "weather_df.rename(columns={\"Wind Speed_km/h\":\"Wind Speed\"},inplace=True)"
   ]
  },
  {
   "cell_type": "code",
   "execution_count": 74,
   "id": "94f0a618-7ce5-48d7-85c9-f45d0805f7ea",
   "metadata": {},
   "outputs": [
    {
     "data": {
      "text/html": [
       "<div>\n",
       "<style scoped>\n",
       "    .dataframe tbody tr th:only-of-type {\n",
       "        vertical-align: middle;\n",
       "    }\n",
       "\n",
       "    .dataframe tbody tr th {\n",
       "        vertical-align: top;\n",
       "    }\n",
       "\n",
       "    .dataframe thead th {\n",
       "        text-align: right;\n",
       "    }\n",
       "</style>\n",
       "<table border=\"1\" class=\"dataframe\">\n",
       "  <thead>\n",
       "    <tr style=\"text-align: right;\">\n",
       "      <th></th>\n",
       "      <th>Date/Time</th>\n",
       "      <th>Temp_C</th>\n",
       "      <th>Dew Point Temp_C</th>\n",
       "      <th>Rel Hum_%</th>\n",
       "      <th>Wind Speed</th>\n",
       "      <th>Visibility_km</th>\n",
       "      <th>Press_kPa</th>\n",
       "      <th>Weather</th>\n",
       "      <th>temp_col</th>\n",
       "      <th>temp_mean</th>\n",
       "    </tr>\n",
       "  </thead>\n",
       "  <tbody>\n",
       "    <tr>\n",
       "      <th>0.0</th>\n",
       "      <td>2012-01-01 00:00:00</td>\n",
       "      <td>-1.8</td>\n",
       "      <td>-3.9</td>\n",
       "      <td>86</td>\n",
       "      <td>4</td>\n",
       "      <td>8000.0</td>\n",
       "      <td>101.24</td>\n",
       "      <td>Fog</td>\n",
       "      <td>-5.7</td>\n",
       "      <td>-2.85</td>\n",
       "    </tr>\n",
       "    <tr>\n",
       "      <th>0.0</th>\n",
       "      <td>2012-01-01 01:00:00</td>\n",
       "      <td>-1.8</td>\n",
       "      <td>-3.7</td>\n",
       "      <td>87</td>\n",
       "      <td>4</td>\n",
       "      <td>8000.0</td>\n",
       "      <td>101.24</td>\n",
       "      <td>Fog</td>\n",
       "      <td>-5.5</td>\n",
       "      <td>-2.75</td>\n",
       "    </tr>\n",
       "    <tr>\n",
       "      <th>2.0</th>\n",
       "      <td>2012-01-01 02:00:00</td>\n",
       "      <td>-1.8</td>\n",
       "      <td>-3.4</td>\n",
       "      <td>89</td>\n",
       "      <td>7</td>\n",
       "      <td>4000.0</td>\n",
       "      <td>101.26</td>\n",
       "      <td>Freezing Drizzle,Fog</td>\n",
       "      <td>-5.2</td>\n",
       "      <td>-2.60</td>\n",
       "    </tr>\n",
       "    <tr>\n",
       "      <th>3.0</th>\n",
       "      <td>2012-01-01 03:00:00</td>\n",
       "      <td>-1.5</td>\n",
       "      <td>-3.2</td>\n",
       "      <td>88</td>\n",
       "      <td>6</td>\n",
       "      <td>4000.0</td>\n",
       "      <td>101.27</td>\n",
       "      <td>Freezing Drizzle,Fog</td>\n",
       "      <td>-4.7</td>\n",
       "      <td>-2.35</td>\n",
       "    </tr>\n",
       "    <tr>\n",
       "      <th>4.0</th>\n",
       "      <td>2012-01-01 04:00:00</td>\n",
       "      <td>-1.5</td>\n",
       "      <td>-3.3</td>\n",
       "      <td>88</td>\n",
       "      <td>7</td>\n",
       "      <td>4800.0</td>\n",
       "      <td>101.23</td>\n",
       "      <td>Fog</td>\n",
       "      <td>-4.8</td>\n",
       "      <td>-2.40</td>\n",
       "    </tr>\n",
       "  </tbody>\n",
       "</table>\n",
       "</div>"
      ],
      "text/plain": [
       "              Date/Time  Temp_C  Dew Point Temp_C  Rel Hum_%  Wind Speed  \\\n",
       "0.0 2012-01-01 00:00:00    -1.8              -3.9         86           4   \n",
       "0.0 2012-01-01 01:00:00    -1.8              -3.7         87           4   \n",
       "2.0 2012-01-01 02:00:00    -1.8              -3.4         89           7   \n",
       "3.0 2012-01-01 03:00:00    -1.5              -3.2         88           6   \n",
       "4.0 2012-01-01 04:00:00    -1.5              -3.3         88           7   \n",
       "\n",
       "     Visibility_km  Press_kPa               Weather  temp_col  temp_mean  \n",
       "0.0         8000.0     101.24                   Fog      -5.7      -2.85  \n",
       "0.0         8000.0     101.24                   Fog      -5.5      -2.75  \n",
       "2.0         4000.0     101.26  Freezing Drizzle,Fog      -5.2      -2.60  \n",
       "3.0         4000.0     101.27  Freezing Drizzle,Fog      -4.7      -2.35  \n",
       "4.0         4800.0     101.23                   Fog      -4.8      -2.40  "
      ]
     },
     "execution_count": 74,
     "metadata": {},
     "output_type": "execute_result"
    }
   ],
   "source": [
    "weather_df.head()"
   ]
  },
  {
   "cell_type": "code",
   "execution_count": 73,
   "id": "44ca09a9-4553-4ce1-ae15-07cedb6de5cc",
   "metadata": {},
   "outputs": [],
   "source": [
    "# Renaming a row\n",
    "weather_df.rename(index={1:00},inplace=True)"
   ]
  },
  {
   "cell_type": "markdown",
   "id": "31b0c809-a8b2-49ca-9bd9-2f4f6b15aa54",
   "metadata": {},
   "source": [
    "<h2>Dropping a column/index </h2>\n",
    "<hr>\n",
    "drops the particular row or column based on the axis.If inplace is not True, it will modify the copy of the dataframe and return it.Not to the original one<br>\n",
    "<p>axis 0 for rows,1 for columns </p>\n",
    "<b>Syntax:</b>\n",
    "<i>df.drop(label=\"\",axis)</i>\n",
    "\n"
   ]
  },
  {
   "cell_type": "code",
   "execution_count": 88,
   "id": "86ffd383-e137-4208-b65a-ff48f37c1468",
   "metadata": {},
   "outputs": [
    {
     "data": {
      "text/html": [
       "<div>\n",
       "<style scoped>\n",
       "    .dataframe tbody tr th:only-of-type {\n",
       "        vertical-align: middle;\n",
       "    }\n",
       "\n",
       "    .dataframe tbody tr th {\n",
       "        vertical-align: top;\n",
       "    }\n",
       "\n",
       "    .dataframe thead th {\n",
       "        text-align: right;\n",
       "    }\n",
       "</style>\n",
       "<table border=\"1\" class=\"dataframe\">\n",
       "  <thead>\n",
       "    <tr style=\"text-align: right;\">\n",
       "      <th></th>\n",
       "      <th>Date/Time</th>\n",
       "      <th>Temp_C</th>\n",
       "      <th>Dew Point Temp_C</th>\n",
       "      <th>Rel Hum_%</th>\n",
       "      <th>Visibility_km</th>\n",
       "      <th>Press_kPa</th>\n",
       "      <th>Weather</th>\n",
       "      <th>temp_col</th>\n",
       "      <th>temp_mean</th>\n",
       "    </tr>\n",
       "  </thead>\n",
       "  <tbody>\n",
       "    <tr>\n",
       "      <th>0.0</th>\n",
       "      <td>2012-01-01 00:00:00</td>\n",
       "      <td>-1.8</td>\n",
       "      <td>-3.9</td>\n",
       "      <td>86</td>\n",
       "      <td>8000.0</td>\n",
       "      <td>101.24</td>\n",
       "      <td>Fog</td>\n",
       "      <td>-5.7</td>\n",
       "      <td>-2.85</td>\n",
       "    </tr>\n",
       "    <tr>\n",
       "      <th>0.0</th>\n",
       "      <td>2012-01-01 01:00:00</td>\n",
       "      <td>-1.8</td>\n",
       "      <td>-3.7</td>\n",
       "      <td>87</td>\n",
       "      <td>8000.0</td>\n",
       "      <td>101.24</td>\n",
       "      <td>Fog</td>\n",
       "      <td>-5.5</td>\n",
       "      <td>-2.75</td>\n",
       "    </tr>\n",
       "    <tr>\n",
       "      <th>2.0</th>\n",
       "      <td>2012-01-01 02:00:00</td>\n",
       "      <td>-1.8</td>\n",
       "      <td>-3.4</td>\n",
       "      <td>89</td>\n",
       "      <td>4000.0</td>\n",
       "      <td>101.26</td>\n",
       "      <td>Freezing Drizzle,Fog</td>\n",
       "      <td>-5.2</td>\n",
       "      <td>-2.60</td>\n",
       "    </tr>\n",
       "    <tr>\n",
       "      <th>3.0</th>\n",
       "      <td>2012-01-01 03:00:00</td>\n",
       "      <td>-1.5</td>\n",
       "      <td>-3.2</td>\n",
       "      <td>88</td>\n",
       "      <td>4000.0</td>\n",
       "      <td>101.27</td>\n",
       "      <td>Freezing Drizzle,Fog</td>\n",
       "      <td>-4.7</td>\n",
       "      <td>-2.35</td>\n",
       "    </tr>\n",
       "    <tr>\n",
       "      <th>4.0</th>\n",
       "      <td>2012-01-01 04:00:00</td>\n",
       "      <td>-1.5</td>\n",
       "      <td>-3.3</td>\n",
       "      <td>88</td>\n",
       "      <td>4800.0</td>\n",
       "      <td>101.23</td>\n",
       "      <td>Fog</td>\n",
       "      <td>-4.8</td>\n",
       "      <td>-2.40</td>\n",
       "    </tr>\n",
       "  </tbody>\n",
       "</table>\n",
       "</div>"
      ],
      "text/plain": [
       "              Date/Time  Temp_C  Dew Point Temp_C  Rel Hum_%  Visibility_km  \\\n",
       "0.0 2012-01-01 00:00:00    -1.8              -3.9         86         8000.0   \n",
       "0.0 2012-01-01 01:00:00    -1.8              -3.7         87         8000.0   \n",
       "2.0 2012-01-01 02:00:00    -1.8              -3.4         89         4000.0   \n",
       "3.0 2012-01-01 03:00:00    -1.5              -3.2         88         4000.0   \n",
       "4.0 2012-01-01 04:00:00    -1.5              -3.3         88         4800.0   \n",
       "\n",
       "     Press_kPa               Weather  temp_col  temp_mean  \n",
       "0.0     101.24                   Fog      -5.7      -2.85  \n",
       "0.0     101.24                   Fog      -5.5      -2.75  \n",
       "2.0     101.26  Freezing Drizzle,Fog      -5.2      -2.60  \n",
       "3.0     101.27  Freezing Drizzle,Fog      -4.7      -2.35  \n",
       "4.0     101.23                   Fog      -4.8      -2.40  "
      ]
     },
     "execution_count": 88,
     "metadata": {},
     "output_type": "execute_result"
    }
   ],
   "source": [
    "# Drop the column wind \n",
    "weather_df.drop(labels=\"Dew Point Temp_C\",axis=1)\n",
    "weather_df.head()\n",
    "# Could see the wind speed column is present in the dataframe.As we didnt use the \"inplace=True\",it returns the copy of data"
   ]
  },
  {
   "cell_type": "code",
   "execution_count": null,
   "id": "507e180e-3741-4349-b068-ab858ba2e2cc",
   "metadata": {},
   "outputs": [],
   "source": [
    "# With inplace\n",
    "weather_df.drop(labels=\"Wind Speed\",axis=1,inplace=True)\n",
    "weather_df.head()"
   ]
  },
  {
   "cell_type": "code",
   "execution_count": null,
   "id": "f372c555-9bf0-49b0-b5fb-5ed54cad6ead",
   "metadata": {},
   "outputs": [],
   "source": []
  }
 ],
 "metadata": {
  "kernelspec": {
   "display_name": "Python 3 (ipykernel)",
   "language": "python",
   "name": "python3"
  },
  "language_info": {
   "codemirror_mode": {
    "name": "ipython",
    "version": 3
   },
   "file_extension": ".py",
   "mimetype": "text/x-python",
   "name": "python",
   "nbconvert_exporter": "python",
   "pygments_lexer": "ipython3",
   "version": "3.11.8"
  }
 },
 "nbformat": 4,
 "nbformat_minor": 5
}
