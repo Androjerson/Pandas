{
 "cells": [
  {
   "cell_type": "markdown",
   "id": "0afece5e-ea73-495e-bb70-0ede0ddb96df",
   "metadata": {},
   "source": [
    "<h1>Pandas</h1>"
   ]
  },
  {
   "cell_type": "code",
   "execution_count": 4,
   "id": "a1925011-6cb3-48fd-871b-69f4473f6737",
   "metadata": {},
   "outputs": [],
   "source": [
    "import pandas as pd\n",
    "import numpy as np"
   ]
  },
  {
   "cell_type": "code",
   "execution_count": 13,
   "id": "2541cd3a-093e-4c39-8368-335bbda86aa8",
   "metadata": {},
   "outputs": [],
   "source": [
    "list=[10,20,30]"
   ]
  },
  {
   "cell_type": "markdown",
   "id": "e2d782c0-3578-47b3-9b71-7cf6de0b0feb",
   "metadata": {},
   "source": [
    "We can't directly initialize elements to a series as we do for lists,dictionary.Series can be empty or build on top of a list,array or dictionary "
   ]
  },
  {
   "cell_type": "markdown",
   "id": "a5b775bd-3a13-4ec8-b4a9-bc120d4c32ea",
   "metadata": {},
   "source": [
    "<h3>creating an pandas series from python list</h3>"
   ]
  },
  {
   "cell_type": "code",
   "execution_count": 14,
   "id": "53401c57-a24b-4e3a-85ce-68b39b5df6f9",
   "metadata": {},
   "outputs": [],
   "source": [
    "l_series=pd.Series(list)"
   ]
  },
  {
   "cell_type": "code",
   "execution_count": 15,
   "id": "aeb0f6ae-c827-4a19-9bf6-51d778da456b",
   "metadata": {},
   "outputs": [
    {
     "name": "stdout",
     "output_type": "stream",
     "text": [
      "0    10\n",
      "1    20\n",
      "2    30\n",
      "dtype: int64\n"
     ]
    }
   ],
   "source": [
    "print(l_series)\n",
    "# O/P:\n",
    "# Axis  Values\n",
    "# 0    10\n",
    "# 1    20\n",
    "# 2    30\n",
    "# dtype: int64"
   ]
  },
  {
   "cell_type": "code",
   "execution_count": 17,
   "id": "d68454ee-f32c-4cbf-bdc7-99c1510da45e",
   "metadata": {},
   "outputs": [
    {
     "name": "stdout",
     "output_type": "stream",
     "text": [
      "RangeIndex(start=0, stop=3, step=1)\n"
     ]
    }
   ],
   "source": [
    "# Returns the starting and ending index value and the way how indexed is incremented\n",
    "print(l_series.index)"
   ]
  },
  {
   "cell_type": "code",
   "execution_count": 18,
   "id": "c159da94-beaa-4f8d-a36a-1135b0a3cbbd",
   "metadata": {},
   "outputs": [
    {
     "name": "stdout",
     "output_type": "stream",
     "text": [
      "[10 20 30]\n"
     ]
    }
   ],
   "source": [
    "# Returns the elements of series in iterable format\n",
    "print(l_series.values)"
   ]
  },
  {
   "cell_type": "markdown",
   "id": "6761db6c-c78b-455c-9f76-0df1845e45ac",
   "metadata": {},
   "source": [
    "<h3>creating an pandas series from numpy array</h3>"
   ]
  },
  {
   "cell_type": "code",
   "execution_count": 24,
   "id": "2ad95983-ce96-4f40-af2c-349105305e5c",
   "metadata": {},
   "outputs": [
    {
     "name": "stdout",
     "output_type": "stream",
     "text": [
      "a     2\n",
      "b     3\n",
      "c    10\n",
      "dtype: int32\n"
     ]
    }
   ],
   "source": [
    "index=['a','b','c'] # Adding custom index to the series \n",
    "arr=np.array([2,3,10]) #Initializing an numpy array with the use numpy.array() function\n",
    "np_series=pd.Series(arr,index)\n",
    "print(np_series)"
   ]
  },
  {
   "cell_type": "markdown",
   "id": "0561c4de-7946-4d7d-ae64-d5e6a32e392f",
   "metadata": {},
   "source": [
    "<h3>creating an pandas series from python dictionary</h3>"
   ]
  },
  {
   "cell_type": "code",
   "execution_count": 49,
   "id": "abeca644-5e02-48e7-bfcc-efbdef900beb",
   "metadata": {},
   "outputs": [
    {
     "name": "stdout",
     "output_type": "stream",
     "text": [
      "a     2\n",
      "b     3\n",
      "c    10\n",
      "dtype: int64\n"
     ]
    }
   ],
   "source": [
    "dict={'a':2,'b':3,'c':10}  #Initializing an python dictionary\n",
    "dict_series=pd.Series(dict) #Creating the series from dictionary\n",
    "print(dict_series)\n",
    "# keys from dictionary is taken as index, if index is default \n",
    "# a     2          \n",
    "# b     3\n",
    "# c    10\n",
    "# dtype: int64\n"
   ]
  },
  {
   "cell_type": "markdown",
   "id": "bcc9a0a4-96a4-4576-a3fb-79a4ebe7fe01",
   "metadata": {},
   "source": [
    "<h2>Index in Series</h2>"
   ]
  },
  {
   "cell_type": "code",
   "execution_count": 43,
   "id": "57978dc7-9bf1-47fe-8ad7-d44f492809da",
   "metadata": {},
   "outputs": [],
   "source": [
    "ser1=pd.Series([1,2,3,4],index=['USA','Germany','USSR','Japan'])\n",
    "ser2=pd.Series([1,2,5,4],index=['USA','Germany','Italy','Japan'])"
   ]
  },
  {
   "cell_type": "code",
   "execution_count": 44,
   "id": "3ef8423e-d602-46e5-a7f3-2c5acd7a3532",
   "metadata": {},
   "outputs": [
    {
     "data": {
      "text/plain": [
       "5"
      ]
     },
     "execution_count": 44,
     "metadata": {},
     "output_type": "execute_result"
    }
   ],
   "source": [
    "ser2['Italy'] #Returns the element of that index "
   ]
  },
  {
   "cell_type": "code",
   "execution_count": 45,
   "id": "bff06d0d-9946-4418-8ebc-8ac741d7468a",
   "metadata": {},
   "outputs": [
    {
     "data": {
      "text/plain": [
       "USA        1\n",
       "Germany    2\n",
       "USSR       3\n",
       "Japan      4\n",
       "dtype: int64"
      ]
     },
     "execution_count": 45,
     "metadata": {},
     "output_type": "execute_result"
    }
   ],
   "source": [
    "ser1"
   ]
  },
  {
   "cell_type": "code",
   "execution_count": 46,
   "id": "f6cc3b47-5ad9-4d8b-be6f-2f8fb41c648a",
   "metadata": {},
   "outputs": [
    {
     "data": {
      "text/plain": [
       "USA        1\n",
       "Germany    2\n",
       "Italy      5\n",
       "Japan      4\n",
       "dtype: int64"
      ]
     },
     "execution_count": 46,
     "metadata": {},
     "output_type": "execute_result"
    }
   ],
   "source": [
    "ser2"
   ]
  },
  {
   "cell_type": "code",
   "execution_count": 48,
   "id": "b8b9f594-3bbe-4eab-84d8-888f8664bac2",
   "metadata": {},
   "outputs": [
    {
     "data": {
      "text/plain": [
       "Germany    4.0\n",
       "Italy      NaN\n",
       "Japan      8.0\n",
       "USA        2.0\n",
       "USSR       NaN\n",
       "dtype: float64"
      ]
     },
     "execution_count": 48,
     "metadata": {},
     "output_type": "execute_result"
    }
   ],
   "source": [
    "# Arithmetic operations like addition,subtraction,multiplication and division can be done on two series \n",
    "ser1+ser2 "
   ]
  },
  {
   "cell_type": "markdown",
   "id": "5a63b02c-1d80-49da-a966-ecf0302076ad",
   "metadata": {},
   "source": [
    "<h2>DataFrame</h2>"
   ]
  },
  {
   "cell_type": "markdown",
   "id": "913e7b0f-b814-4d60-ba5c-8dd957a17554",
   "metadata": {},
   "source": [
    "DataFrames are two dimensional with rows and columns"
   ]
  },
  {
   "cell_type": "code",
   "execution_count": 16,
   "id": "ef354618-4e32-4f54-a24c-f6893be3ec21",
   "metadata": {},
   "outputs": [
    {
     "data": {
      "text/html": [
       "<div>\n",
       "<style scoped>\n",
       "    .dataframe tbody tr th:only-of-type {\n",
       "        vertical-align: middle;\n",
       "    }\n",
       "\n",
       "    .dataframe tbody tr th {\n",
       "        vertical-align: top;\n",
       "    }\n",
       "\n",
       "    .dataframe thead th {\n",
       "        text-align: right;\n",
       "    }\n",
       "</style>\n",
       "<table border=\"1\" class=\"dataframe\">\n",
       "  <thead>\n",
       "    <tr style=\"text-align: right;\">\n",
       "      <th></th>\n",
       "      <th>0</th>\n",
       "      <th>1</th>\n",
       "      <th>2</th>\n",
       "    </tr>\n",
       "  </thead>\n",
       "  <tbody>\n",
       "    <tr>\n",
       "      <th>0</th>\n",
       "      <td>1</td>\n",
       "      <td>2</td>\n",
       "      <td>3</td>\n",
       "    </tr>\n",
       "    <tr>\n",
       "      <th>1</th>\n",
       "      <td>3</td>\n",
       "      <td>4</td>\n",
       "      <td>5</td>\n",
       "    </tr>\n",
       "    <tr>\n",
       "      <th>2</th>\n",
       "      <td>5</td>\n",
       "      <td>6</td>\n",
       "      <td>7</td>\n",
       "    </tr>\n",
       "    <tr>\n",
       "      <th>3</th>\n",
       "      <td>7</td>\n",
       "      <td>8</td>\n",
       "      <td>9</td>\n",
       "    </tr>\n",
       "  </tbody>\n",
       "</table>\n",
       "</div>"
      ],
      "text/plain": [
       "   0  1  2\n",
       "0  1  2  3\n",
       "1  3  4  5\n",
       "2  5  6  7\n",
       "3  7  8  9"
      ]
     },
     "execution_count": 16,
     "metadata": {},
     "output_type": "execute_result"
    }
   ],
   "source": [
    "df=pd.DataFrame([[1,2,3],\n",
    "                [3,4,5],\n",
    "                [5,6,7],\n",
    "                [7,8,9]\n",
    "                ])\n",
    "df"
   ]
  },
  {
   "cell_type": "code",
   "execution_count": 17,
   "id": "75e50e21-4445-4292-898d-60e180955482",
   "metadata": {},
   "outputs": [
    {
     "name": "stdout",
     "output_type": "stream",
     "text": [
      "Shape: (4, 3)\n",
      "Index: RangeIndex(start=0, stop=4, step=1)\n"
     ]
    }
   ],
   "source": [
    "print(\"Shape:\",df.shape) #returns the dimension of the df\n",
    "print(\"Index:\",df.index)"
   ]
  },
  {
   "cell_type": "code",
   "execution_count": 19,
   "id": "d6e91292-486c-416a-9f27-1ee073a92399",
   "metadata": {},
   "outputs": [
    {
     "data": {
      "text/html": [
       "<div>\n",
       "<style scoped>\n",
       "    .dataframe tbody tr th:only-of-type {\n",
       "        vertical-align: middle;\n",
       "    }\n",
       "\n",
       "    .dataframe tbody tr th {\n",
       "        vertical-align: top;\n",
       "    }\n",
       "\n",
       "    .dataframe thead th {\n",
       "        text-align: right;\n",
       "    }\n",
       "</style>\n",
       "<table border=\"1\" class=\"dataframe\">\n",
       "  <thead>\n",
       "    <tr style=\"text-align: right;\">\n",
       "      <th></th>\n",
       "      <th>1</th>\n",
       "      <th>2</th>\n",
       "      <th>3</th>\n",
       "    </tr>\n",
       "  </thead>\n",
       "  <tbody>\n",
       "    <tr>\n",
       "      <th>a</th>\n",
       "      <td>1</td>\n",
       "      <td>2</td>\n",
       "      <td>3</td>\n",
       "    </tr>\n",
       "    <tr>\n",
       "      <th>b</th>\n",
       "      <td>4</td>\n",
       "      <td>5</td>\n",
       "      <td>6</td>\n",
       "    </tr>\n",
       "    <tr>\n",
       "      <th>c</th>\n",
       "      <td>7</td>\n",
       "      <td>8</td>\n",
       "      <td>9</td>\n",
       "    </tr>\n",
       "    <tr>\n",
       "      <th>d</th>\n",
       "      <td>10</td>\n",
       "      <td>11</td>\n",
       "      <td>12</td>\n",
       "    </tr>\n",
       "  </tbody>\n",
       "</table>\n",
       "</div>"
      ],
      "text/plain": [
       "    1   2   3\n",
       "a   1   2   3\n",
       "b   4   5   6\n",
       "c   7   8   9\n",
       "d  10  11  12"
      ]
     },
     "execution_count": 19,
     "metadata": {},
     "output_type": "execute_result"
    }
   ],
   "source": [
    "# custom row and column indices\n",
    "df2=pd.DataFrame([[1,2,3],[4,5,6],[7,8,9],[10,11,12]],index=['a','b','c','d'],columns=[1,2,3])\n",
    "df2"
   ]
  },
  {
   "cell_type": "code",
   "execution_count": 21,
   "id": "cc08efc0-c404-42e4-b650-6451f440b34d",
   "metadata": {},
   "outputs": [
    {
     "name": "stdout",
     "output_type": "stream",
     "text": [
      "(4, 3)\n",
      "Index(['a', 'b', 'c', 'd'], dtype='object')\n"
     ]
    }
   ],
   "source": [
    "print(df2.shape)\n",
    "print(df2.index) #Returns the custom index and its datatype "
   ]
  },
  {
   "cell_type": "markdown",
   "id": "a0a051d2-b1ff-4878-b3c8-7b227482f14e",
   "metadata": {},
   "source": [
    "<h2>Weather dataset analysis with pandas</h2>"
   ]
  },
  {
   "cell_type": "code",
   "execution_count": 25,
   "id": "9272866d-f1e4-4165-b767-2fdb2342032b",
   "metadata": {},
   "outputs": [],
   "source": [
    "weather_df=pd.read_csv(\"Data/Weather Data.csv\")"
   ]
  },
  {
   "cell_type": "code",
   "execution_count": 27,
   "id": "714296aa-f831-4ccf-b4de-52766df8e10a",
   "metadata": {},
   "outputs": [
    {
     "data": {
      "text/html": [
       "<div>\n",
       "<style scoped>\n",
       "    .dataframe tbody tr th:only-of-type {\n",
       "        vertical-align: middle;\n",
       "    }\n",
       "\n",
       "    .dataframe tbody tr th {\n",
       "        vertical-align: top;\n",
       "    }\n",
       "\n",
       "    .dataframe thead th {\n",
       "        text-align: right;\n",
       "    }\n",
       "</style>\n",
       "<table border=\"1\" class=\"dataframe\">\n",
       "  <thead>\n",
       "    <tr style=\"text-align: right;\">\n",
       "      <th></th>\n",
       "      <th>Date/Time</th>\n",
       "      <th>Temp_C</th>\n",
       "      <th>Dew Point Temp_C</th>\n",
       "      <th>Rel Hum_%</th>\n",
       "      <th>Wind Speed_km/h</th>\n",
       "      <th>Visibility_km</th>\n",
       "      <th>Press_kPa</th>\n",
       "      <th>Weather</th>\n",
       "    </tr>\n",
       "  </thead>\n",
       "  <tbody>\n",
       "    <tr>\n",
       "      <th>0</th>\n",
       "      <td>1/1/2012 0:00</td>\n",
       "      <td>-1.8</td>\n",
       "      <td>-3.9</td>\n",
       "      <td>86</td>\n",
       "      <td>4</td>\n",
       "      <td>8.0</td>\n",
       "      <td>101.24</td>\n",
       "      <td>Fog</td>\n",
       "    </tr>\n",
       "    <tr>\n",
       "      <th>1</th>\n",
       "      <td>1/1/2012 1:00</td>\n",
       "      <td>-1.8</td>\n",
       "      <td>-3.7</td>\n",
       "      <td>87</td>\n",
       "      <td>4</td>\n",
       "      <td>8.0</td>\n",
       "      <td>101.24</td>\n",
       "      <td>Fog</td>\n",
       "    </tr>\n",
       "    <tr>\n",
       "      <th>2</th>\n",
       "      <td>1/1/2012 2:00</td>\n",
       "      <td>-1.8</td>\n",
       "      <td>-3.4</td>\n",
       "      <td>89</td>\n",
       "      <td>7</td>\n",
       "      <td>4.0</td>\n",
       "      <td>101.26</td>\n",
       "      <td>Freezing Drizzle,Fog</td>\n",
       "    </tr>\n",
       "    <tr>\n",
       "      <th>3</th>\n",
       "      <td>1/1/2012 3:00</td>\n",
       "      <td>-1.5</td>\n",
       "      <td>-3.2</td>\n",
       "      <td>88</td>\n",
       "      <td>6</td>\n",
       "      <td>4.0</td>\n",
       "      <td>101.27</td>\n",
       "      <td>Freezing Drizzle,Fog</td>\n",
       "    </tr>\n",
       "    <tr>\n",
       "      <th>4</th>\n",
       "      <td>1/1/2012 4:00</td>\n",
       "      <td>-1.5</td>\n",
       "      <td>-3.3</td>\n",
       "      <td>88</td>\n",
       "      <td>7</td>\n",
       "      <td>4.8</td>\n",
       "      <td>101.23</td>\n",
       "      <td>Fog</td>\n",
       "    </tr>\n",
       "  </tbody>\n",
       "</table>\n",
       "</div>"
      ],
      "text/plain": [
       "       Date/Time  Temp_C  Dew Point Temp_C  Rel Hum_%  Wind Speed_km/h  \\\n",
       "0  1/1/2012 0:00    -1.8              -3.9         86                4   \n",
       "1  1/1/2012 1:00    -1.8              -3.7         87                4   \n",
       "2  1/1/2012 2:00    -1.8              -3.4         89                7   \n",
       "3  1/1/2012 3:00    -1.5              -3.2         88                6   \n",
       "4  1/1/2012 4:00    -1.5              -3.3         88                7   \n",
       "\n",
       "   Visibility_km  Press_kPa               Weather  \n",
       "0            8.0     101.24                   Fog  \n",
       "1            8.0     101.24                   Fog  \n",
       "2            4.0     101.26  Freezing Drizzle,Fog  \n",
       "3            4.0     101.27  Freezing Drizzle,Fog  \n",
       "4            4.8     101.23                   Fog  "
      ]
     },
     "execution_count": 27,
     "metadata": {},
     "output_type": "execute_result"
    }
   ],
   "source": [
    "# View the top 5 rows\n",
    "weather_df.head()"
   ]
  },
  {
   "cell_type": "code",
   "execution_count": 29,
   "id": "8b1f50cf-b439-4c1f-85fe-e694201764f4",
   "metadata": {},
   "outputs": [
    {
     "data": {
      "text/plain": [
       "0    1/1/2012 0:00\n",
       "1    1/1/2012 1:00\n",
       "2    1/1/2012 2:00\n",
       "3    1/1/2012 3:00\n",
       "4    1/1/2012 4:00\n",
       "Name: Date/Time, dtype: object"
      ]
     },
     "execution_count": 29,
     "metadata": {},
     "output_type": "execute_result"
    }
   ],
   "source": [
    "weather_df[\"Date/Time\"].head()"
   ]
  },
  {
   "cell_type": "code",
   "execution_count": 30,
   "id": "84287d26-8f77-4bd4-9360-e82f2df67b0b",
   "metadata": {},
   "outputs": [],
   "source": [
    "# Datetime is in object datatype .We should convert it into datetime datatype to do analysis based on the date\n",
    "weather_df[\"Date/Time\"]=pd.to_datetime(weather_df[\"Date/Time\"])"
   ]
  },
  {
   "cell_type": "code",
   "execution_count": 32,
   "id": "e4175200-c52b-44d9-8198-25b9b8a34a63",
   "metadata": {},
   "outputs": [
    {
     "data": {
      "text/plain": [
       "0   2012-01-01 00:00:00\n",
       "1   2012-01-01 01:00:00\n",
       "2   2012-01-01 02:00:00\n",
       "3   2012-01-01 03:00:00\n",
       "4   2012-01-01 04:00:00\n",
       "Name: Date/Time, dtype: datetime64[ns]"
      ]
     },
     "execution_count": 32,
     "metadata": {},
     "output_type": "execute_result"
    }
   ],
   "source": [
    "# Validating the datatype conversion\n",
    "weather_df[\"Date/Time\"].head()"
   ]
  },
  {
   "cell_type": "markdown",
   "id": "35ccc586-5037-495c-a870-966d0d8ead7b",
   "metadata": {},
   "source": [
    "<h3>Important functions while working with dataframe that eases the work</h3>"
   ]
  },
  {
   "cell_type": "markdown",
   "id": "2b67da14-7269-4d68-acec-adb99801d3d7",
   "metadata": {},
   "source": [
    "<b><i>info()</i></b> returns the metadata information of dataframe such as total row count,row index,column information with their datatype and total memory usage by dataframe "
   ]
  },
  {
   "cell_type": "code",
   "execution_count": 36,
   "id": "92facfd2-75a3-4adc-9a22-a3563f46eaf1",
   "metadata": {},
   "outputs": [
    {
     "name": "stdout",
     "output_type": "stream",
     "text": [
      "<class 'pandas.core.frame.DataFrame'>\n",
      "RangeIndex: 8784 entries, 0 to 8783\n",
      "Data columns (total 8 columns):\n",
      " #   Column            Non-Null Count  Dtype         \n",
      "---  ------            --------------  -----         \n",
      " 0   Date/Time         8784 non-null   datetime64[ns]\n",
      " 1   Temp_C            8784 non-null   float64       \n",
      " 2   Dew Point Temp_C  8784 non-null   float64       \n",
      " 3   Rel Hum_%         8784 non-null   int64         \n",
      " 4   Wind Speed_km/h   8784 non-null   int64         \n",
      " 5   Visibility_km     8784 non-null   float64       \n",
      " 6   Press_kPa         8784 non-null   float64       \n",
      " 7   Weather           8784 non-null   object        \n",
      "dtypes: datetime64[ns](1), float64(4), int64(2), object(1)\n",
      "memory usage: 549.1+ KB\n"
     ]
    }
   ],
   "source": [
    "weather_df.info()"
   ]
  },
  {
   "cell_type": "markdown",
   "id": "62a7f475-5d1f-4cf6-9dbe-4062fdd56023",
   "metadata": {},
   "source": [
    "<b><i>head()</i></b> returns the first 5 rows by default and we opt for 'n' number of rows by giving 'n' as input <i>head(n)</i>."
   ]
  },
  {
   "cell_type": "code",
   "execution_count": 41,
   "id": "6a629f73-961c-4c25-9c42-073a7ac95ed6",
   "metadata": {},
   "outputs": [
    {
     "data": {
      "text/html": [
       "<div>\n",
       "<style scoped>\n",
       "    .dataframe tbody tr th:only-of-type {\n",
       "        vertical-align: middle;\n",
       "    }\n",
       "\n",
       "    .dataframe tbody tr th {\n",
       "        vertical-align: top;\n",
       "    }\n",
       "\n",
       "    .dataframe thead th {\n",
       "        text-align: right;\n",
       "    }\n",
       "</style>\n",
       "<table border=\"1\" class=\"dataframe\">\n",
       "  <thead>\n",
       "    <tr style=\"text-align: right;\">\n",
       "      <th></th>\n",
       "      <th>Date/Time</th>\n",
       "      <th>Temp_C</th>\n",
       "      <th>Dew Point Temp_C</th>\n",
       "      <th>Rel Hum_%</th>\n",
       "      <th>Wind Speed_km/h</th>\n",
       "      <th>Visibility_km</th>\n",
       "      <th>Press_kPa</th>\n",
       "      <th>Weather</th>\n",
       "    </tr>\n",
       "  </thead>\n",
       "  <tbody>\n",
       "    <tr>\n",
       "      <th>0</th>\n",
       "      <td>2012-01-01 00:00:00</td>\n",
       "      <td>-1.8</td>\n",
       "      <td>-3.9</td>\n",
       "      <td>86</td>\n",
       "      <td>4</td>\n",
       "      <td>8.0</td>\n",
       "      <td>101.24</td>\n",
       "      <td>Fog</td>\n",
       "    </tr>\n",
       "    <tr>\n",
       "      <th>1</th>\n",
       "      <td>2012-01-01 01:00:00</td>\n",
       "      <td>-1.8</td>\n",
       "      <td>-3.7</td>\n",
       "      <td>87</td>\n",
       "      <td>4</td>\n",
       "      <td>8.0</td>\n",
       "      <td>101.24</td>\n",
       "      <td>Fog</td>\n",
       "    </tr>\n",
       "    <tr>\n",
       "      <th>2</th>\n",
       "      <td>2012-01-01 02:00:00</td>\n",
       "      <td>-1.8</td>\n",
       "      <td>-3.4</td>\n",
       "      <td>89</td>\n",
       "      <td>7</td>\n",
       "      <td>4.0</td>\n",
       "      <td>101.26</td>\n",
       "      <td>Freezing Drizzle,Fog</td>\n",
       "    </tr>\n",
       "    <tr>\n",
       "      <th>3</th>\n",
       "      <td>2012-01-01 03:00:00</td>\n",
       "      <td>-1.5</td>\n",
       "      <td>-3.2</td>\n",
       "      <td>88</td>\n",
       "      <td>6</td>\n",
       "      <td>4.0</td>\n",
       "      <td>101.27</td>\n",
       "      <td>Freezing Drizzle,Fog</td>\n",
       "    </tr>\n",
       "    <tr>\n",
       "      <th>4</th>\n",
       "      <td>2012-01-01 04:00:00</td>\n",
       "      <td>-1.5</td>\n",
       "      <td>-3.3</td>\n",
       "      <td>88</td>\n",
       "      <td>7</td>\n",
       "      <td>4.8</td>\n",
       "      <td>101.23</td>\n",
       "      <td>Fog</td>\n",
       "    </tr>\n",
       "  </tbody>\n",
       "</table>\n",
       "</div>"
      ],
      "text/plain": [
       "            Date/Time  Temp_C  Dew Point Temp_C  Rel Hum_%  Wind Speed_km/h  \\\n",
       "0 2012-01-01 00:00:00    -1.8              -3.9         86                4   \n",
       "1 2012-01-01 01:00:00    -1.8              -3.7         87                4   \n",
       "2 2012-01-01 02:00:00    -1.8              -3.4         89                7   \n",
       "3 2012-01-01 03:00:00    -1.5              -3.2         88                6   \n",
       "4 2012-01-01 04:00:00    -1.5              -3.3         88                7   \n",
       "\n",
       "   Visibility_km  Press_kPa               Weather  \n",
       "0            8.0     101.24                   Fog  \n",
       "1            8.0     101.24                   Fog  \n",
       "2            4.0     101.26  Freezing Drizzle,Fog  \n",
       "3            4.0     101.27  Freezing Drizzle,Fog  \n",
       "4            4.8     101.23                   Fog  "
      ]
     },
     "execution_count": 41,
     "metadata": {},
     "output_type": "execute_result"
    }
   ],
   "source": [
    "weather_df.head()"
   ]
  },
  {
   "cell_type": "markdown",
   "id": "1ebd1523-dbcb-4e34-beca-666566ffb483",
   "metadata": {},
   "source": [
    "<b><i>index</i></b> returns the index information"
   ]
  },
  {
   "cell_type": "code",
   "execution_count": 44,
   "id": "dbccafe0-25d5-4e85-8531-c28302f91b5a",
   "metadata": {},
   "outputs": [
    {
     "data": {
      "text/plain": [
       "RangeIndex(start=0, stop=8784, step=1)"
      ]
     },
     "execution_count": 44,
     "metadata": {},
     "output_type": "execute_result"
    }
   ],
   "source": [
    "weather_df.index"
   ]
  },
  {
   "cell_type": "markdown",
   "id": "5312eddb-e2db-4021-ab23-20ab520d0625",
   "metadata": {},
   "source": [
    "<b><i>unique()</i></b>"
   ]
  },
  {
   "cell_type": "markdown",
   "id": "c7a0f35b-4bf6-4c42-92c1-becf282cac2f",
   "metadata": {},
   "source": [
    "Belongs to the series object.Returns the unique values of a particular column.\n",
    "        <ol>\n",
    "            1) Values are returned in the order of appearence,doesn't sort \n",
    "        </ol>\n",
    "        <ol>\n",
    "            2) Includes N/A values \n",
    "        </ol>"
   ]
  },
  {
   "cell_type": "code",
   "execution_count": 48,
   "id": "eedda037-cf49-4127-8096-da8dabc27925",
   "metadata": {},
   "outputs": [
    {
     "data": {
      "text/plain": [
       "array(['Fog', 'Freezing Drizzle,Fog', 'Mostly Cloudy', 'Cloudy', 'Rain',\n",
       "       'Rain Showers', 'Mainly Clear', 'Snow Showers', 'Snow', 'Clear',\n",
       "       'Freezing Rain,Fog', 'Freezing Rain', 'Freezing Drizzle',\n",
       "       'Rain,Snow', 'Moderate Snow', 'Freezing Drizzle,Snow',\n",
       "       'Freezing Rain,Snow Grains', 'Snow,Blowing Snow', 'Freezing Fog',\n",
       "       'Haze', 'Rain,Fog', 'Drizzle,Fog', 'Drizzle',\n",
       "       'Freezing Drizzle,Haze', 'Freezing Rain,Haze', 'Snow,Haze',\n",
       "       'Snow,Fog', 'Snow,Ice Pellets', 'Rain,Haze', 'Thunderstorms,Rain',\n",
       "       'Thunderstorms,Rain Showers', 'Thunderstorms,Heavy Rain Showers',\n",
       "       'Thunderstorms,Rain Showers,Fog', 'Thunderstorms',\n",
       "       'Thunderstorms,Rain,Fog',\n",
       "       'Thunderstorms,Moderate Rain Showers,Fog', 'Rain Showers,Fog',\n",
       "       'Rain Showers,Snow Showers', 'Snow Pellets', 'Rain,Snow,Fog',\n",
       "       'Moderate Rain,Fog', 'Freezing Rain,Ice Pellets,Fog',\n",
       "       'Drizzle,Ice Pellets,Fog', 'Drizzle,Snow', 'Rain,Ice Pellets',\n",
       "       'Drizzle,Snow,Fog', 'Rain,Snow Grains', 'Rain,Snow,Ice Pellets',\n",
       "       'Snow Showers,Fog', 'Moderate Snow,Blowing Snow'], dtype=object)"
      ]
     },
     "execution_count": 48,
     "metadata": {},
     "output_type": "execute_result"
    }
   ],
   "source": [
    "weather_df[\"Weather\"].unique()"
   ]
  },
  {
   "cell_type": "markdown",
   "id": "5167b3f7-73d8-410d-9d98-44c2f287c064",
   "metadata": {},
   "source": [
    "<h2>Mini Challenge 1 </h2>"
   ]
  },
  {
   "cell_type": "code",
   "execution_count": null,
   "id": "5ba5977e-fa54-4ce3-bfc3-f9797ddb58b5",
   "metadata": {},
   "outputs": [],
   "source": []
  }
 ],
 "metadata": {
  "kernelspec": {
   "display_name": "Python 3 (ipykernel)",
   "language": "python",
   "name": "python3"
  },
  "language_info": {
   "codemirror_mode": {
    "name": "ipython",
    "version": 3
   },
   "file_extension": ".py",
   "mimetype": "text/x-python",
   "name": "python",
   "nbconvert_exporter": "python",
   "pygments_lexer": "ipython3",
   "version": "3.11.8"
  }
 },
 "nbformat": 4,
 "nbformat_minor": 5
}
