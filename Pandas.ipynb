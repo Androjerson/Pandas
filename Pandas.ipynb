{
 "cells": [
  {
   "cell_type": "markdown",
   "id": "0afece5e-ea73-495e-bb70-0ede0ddb96df",
   "metadata": {},
   "source": [
    "<h1>Pandas</h1>"
   ]
  },
  {
   "cell_type": "code",
   "execution_count": 4,
   "id": "a1925011-6cb3-48fd-871b-69f4473f6737",
   "metadata": {},
   "outputs": [],
   "source": [
    "import pandas as pd\n",
    "import numpy as np"
   ]
  },
  {
   "cell_type": "code",
   "execution_count": 13,
   "id": "2541cd3a-093e-4c39-8368-335bbda86aa8",
   "metadata": {},
   "outputs": [],
   "source": [
    "list=[10,20,30]"
   ]
  },
  {
   "cell_type": "markdown",
   "id": "e2d782c0-3578-47b3-9b71-7cf6de0b0feb",
   "metadata": {},
   "source": [
    "We can't directly initialize elements to a series as we do for lists,dictionary.Series can be empty or build on top of a list,array or dictionary "
   ]
  },
  {
   "cell_type": "markdown",
   "id": "a5b775bd-3a13-4ec8-b4a9-bc120d4c32ea",
   "metadata": {},
   "source": [
    "<h3>creating an pandas series from python list</h3>"
   ]
  },
  {
   "cell_type": "code",
   "execution_count": 14,
   "id": "53401c57-a24b-4e3a-85ce-68b39b5df6f9",
   "metadata": {},
   "outputs": [],
   "source": [
    "l_series=pd.Series(list)"
   ]
  },
  {
   "cell_type": "code",
   "execution_count": 15,
   "id": "aeb0f6ae-c827-4a19-9bf6-51d778da456b",
   "metadata": {},
   "outputs": [
    {
     "name": "stdout",
     "output_type": "stream",
     "text": [
      "0    10\n",
      "1    20\n",
      "2    30\n",
      "dtype: int64\n"
     ]
    }
   ],
   "source": [
    "print(l_series)\n",
    "# O/P:\n",
    "# Axis  Values\n",
    "# 0    10\n",
    "# 1    20\n",
    "# 2    30\n",
    "# dtype: int64"
   ]
  },
  {
   "cell_type": "code",
   "execution_count": 17,
   "id": "d68454ee-f32c-4cbf-bdc7-99c1510da45e",
   "metadata": {},
   "outputs": [
    {
     "name": "stdout",
     "output_type": "stream",
     "text": [
      "RangeIndex(start=0, stop=3, step=1)\n"
     ]
    }
   ],
   "source": [
    "# Returns the starting and ending index value and the way how indexed is incremented\n",
    "print(l_series.index)"
   ]
  },
  {
   "cell_type": "code",
   "execution_count": 18,
   "id": "c159da94-beaa-4f8d-a36a-1135b0a3cbbd",
   "metadata": {},
   "outputs": [
    {
     "name": "stdout",
     "output_type": "stream",
     "text": [
      "[10 20 30]\n"
     ]
    }
   ],
   "source": [
    "# Returns the elements of series in iterable format\n",
    "print(l_series.values)"
   ]
  },
  {
   "cell_type": "markdown",
   "id": "6761db6c-c78b-455c-9f76-0df1845e45ac",
   "metadata": {},
   "source": [
    "<h3>creating an pandas series from numpy array</h3>"
   ]
  },
  {
   "cell_type": "code",
   "execution_count": 24,
   "id": "2ad95983-ce96-4f40-af2c-349105305e5c",
   "metadata": {},
   "outputs": [
    {
     "name": "stdout",
     "output_type": "stream",
     "text": [
      "a     2\n",
      "b     3\n",
      "c    10\n",
      "dtype: int32\n"
     ]
    }
   ],
   "source": [
    "index=['a','b','c'] # Adding custom index to the series \n",
    "arr=np.array([2,3,10]) #Initializing an numpy array with the use numpy.array() function\n",
    "np_series=pd.Series(arr,index)\n",
    "print(np_series)"
   ]
  },
  {
   "cell_type": "markdown",
   "id": "0561c4de-7946-4d7d-ae64-d5e6a32e392f",
   "metadata": {},
   "source": [
    "<h3>creating an pandas series from python dictionary</h3>"
   ]
  },
  {
   "cell_type": "code",
   "execution_count": 49,
   "id": "abeca644-5e02-48e7-bfcc-efbdef900beb",
   "metadata": {},
   "outputs": [
    {
     "name": "stdout",
     "output_type": "stream",
     "text": [
      "a     2\n",
      "b     3\n",
      "c    10\n",
      "dtype: int64\n"
     ]
    }
   ],
   "source": [
    "dict={'a':2,'b':3,'c':10}  #Initializing an python dictionary\n",
    "dict_series=pd.Series(dict) #Creating the series from dictionary\n",
    "print(dict_series)\n",
    "# keys from dictionary is taken as index, if index is default \n",
    "# a     2          \n",
    "# b     3\n",
    "# c    10\n",
    "# dtype: int64\n"
   ]
  },
  {
   "cell_type": "markdown",
   "id": "bcc9a0a4-96a4-4576-a3fb-79a4ebe7fe01",
   "metadata": {},
   "source": [
    "<h2>Index in Series</h2>"
   ]
  },
  {
   "cell_type": "code",
   "execution_count": 43,
   "id": "57978dc7-9bf1-47fe-8ad7-d44f492809da",
   "metadata": {},
   "outputs": [],
   "source": [
    "ser1=pd.Series([1,2,3,4],index=['USA','Germany','USSR','Japan'])\n",
    "ser2=pd.Series([1,2,5,4],index=['USA','Germany','Italy','Japan'])"
   ]
  },
  {
   "cell_type": "code",
   "execution_count": 44,
   "id": "3ef8423e-d602-46e5-a7f3-2c5acd7a3532",
   "metadata": {},
   "outputs": [
    {
     "data": {
      "text/plain": [
       "5"
      ]
     },
     "execution_count": 44,
     "metadata": {},
     "output_type": "execute_result"
    }
   ],
   "source": [
    "ser2['Italy'] #Returns the element of that index "
   ]
  },
  {
   "cell_type": "code",
   "execution_count": 45,
   "id": "bff06d0d-9946-4418-8ebc-8ac741d7468a",
   "metadata": {},
   "outputs": [
    {
     "data": {
      "text/plain": [
       "USA        1\n",
       "Germany    2\n",
       "USSR       3\n",
       "Japan      4\n",
       "dtype: int64"
      ]
     },
     "execution_count": 45,
     "metadata": {},
     "output_type": "execute_result"
    }
   ],
   "source": [
    "ser1"
   ]
  },
  {
   "cell_type": "code",
   "execution_count": 46,
   "id": "f6cc3b47-5ad9-4d8b-be6f-2f8fb41c648a",
   "metadata": {},
   "outputs": [
    {
     "data": {
      "text/plain": [
       "USA        1\n",
       "Germany    2\n",
       "Italy      5\n",
       "Japan      4\n",
       "dtype: int64"
      ]
     },
     "execution_count": 46,
     "metadata": {},
     "output_type": "execute_result"
    }
   ],
   "source": [
    "ser2"
   ]
  },
  {
   "cell_type": "code",
   "execution_count": 48,
   "id": "b8b9f594-3bbe-4eab-84d8-888f8664bac2",
   "metadata": {},
   "outputs": [
    {
     "data": {
      "text/plain": [
       "Germany    4.0\n",
       "Italy      NaN\n",
       "Japan      8.0\n",
       "USA        2.0\n",
       "USSR       NaN\n",
       "dtype: float64"
      ]
     },
     "execution_count": 48,
     "metadata": {},
     "output_type": "execute_result"
    }
   ],
   "source": [
    "# Arithmetic operations like addition,subtraction,multiplication and division can be done on two series \n",
    "ser1+ser2 "
   ]
  },
  {
   "cell_type": "markdown",
   "id": "5a63b02c-1d80-49da-a966-ecf0302076ad",
   "metadata": {},
   "source": [
    "<h2>DataFrame</h2>"
   ]
  },
  {
   "cell_type": "markdown",
   "id": "913e7b0f-b814-4d60-ba5c-8dd957a17554",
   "metadata": {},
   "source": [
    "DataFrames are two dimensional with rows and columns"
   ]
  },
  {
   "cell_type": "code",
   "execution_count": 16,
   "id": "ef354618-4e32-4f54-a24c-f6893be3ec21",
   "metadata": {},
   "outputs": [
    {
     "data": {
      "text/html": [
       "<div>\n",
       "<style scoped>\n",
       "    .dataframe tbody tr th:only-of-type {\n",
       "        vertical-align: middle;\n",
       "    }\n",
       "\n",
       "    .dataframe tbody tr th {\n",
       "        vertical-align: top;\n",
       "    }\n",
       "\n",
       "    .dataframe thead th {\n",
       "        text-align: right;\n",
       "    }\n",
       "</style>\n",
       "<table border=\"1\" class=\"dataframe\">\n",
       "  <thead>\n",
       "    <tr style=\"text-align: right;\">\n",
       "      <th></th>\n",
       "      <th>0</th>\n",
       "      <th>1</th>\n",
       "      <th>2</th>\n",
       "    </tr>\n",
       "  </thead>\n",
       "  <tbody>\n",
       "    <tr>\n",
       "      <th>0</th>\n",
       "      <td>1</td>\n",
       "      <td>2</td>\n",
       "      <td>3</td>\n",
       "    </tr>\n",
       "    <tr>\n",
       "      <th>1</th>\n",
       "      <td>3</td>\n",
       "      <td>4</td>\n",
       "      <td>5</td>\n",
       "    </tr>\n",
       "    <tr>\n",
       "      <th>2</th>\n",
       "      <td>5</td>\n",
       "      <td>6</td>\n",
       "      <td>7</td>\n",
       "    </tr>\n",
       "    <tr>\n",
       "      <th>3</th>\n",
       "      <td>7</td>\n",
       "      <td>8</td>\n",
       "      <td>9</td>\n",
       "    </tr>\n",
       "  </tbody>\n",
       "</table>\n",
       "</div>"
      ],
      "text/plain": [
       "   0  1  2\n",
       "0  1  2  3\n",
       "1  3  4  5\n",
       "2  5  6  7\n",
       "3  7  8  9"
      ]
     },
     "execution_count": 16,
     "metadata": {},
     "output_type": "execute_result"
    }
   ],
   "source": [
    "df=pd.DataFrame([[1,2,3],\n",
    "                [3,4,5],\n",
    "                [5,6,7],\n",
    "                [7,8,9]\n",
    "                ])\n",
    "df"
   ]
  },
  {
   "cell_type": "code",
   "execution_count": 17,
   "id": "75e50e21-4445-4292-898d-60e180955482",
   "metadata": {},
   "outputs": [
    {
     "name": "stdout",
     "output_type": "stream",
     "text": [
      "Shape: (4, 3)\n",
      "Index: RangeIndex(start=0, stop=4, step=1)\n"
     ]
    }
   ],
   "source": [
    "print(\"Shape:\",df.shape) #returns the dimension of the df\n",
    "print(\"Index:\",df.index)"
   ]
  },
  {
   "cell_type": "code",
   "execution_count": 19,
   "id": "d6e91292-486c-416a-9f27-1ee073a92399",
   "metadata": {},
   "outputs": [
    {
     "data": {
      "text/html": [
       "<div>\n",
       "<style scoped>\n",
       "    .dataframe tbody tr th:only-of-type {\n",
       "        vertical-align: middle;\n",
       "    }\n",
       "\n",
       "    .dataframe tbody tr th {\n",
       "        vertical-align: top;\n",
       "    }\n",
       "\n",
       "    .dataframe thead th {\n",
       "        text-align: right;\n",
       "    }\n",
       "</style>\n",
       "<table border=\"1\" class=\"dataframe\">\n",
       "  <thead>\n",
       "    <tr style=\"text-align: right;\">\n",
       "      <th></th>\n",
       "      <th>1</th>\n",
       "      <th>2</th>\n",
       "      <th>3</th>\n",
       "    </tr>\n",
       "  </thead>\n",
       "  <tbody>\n",
       "    <tr>\n",
       "      <th>a</th>\n",
       "      <td>1</td>\n",
       "      <td>2</td>\n",
       "      <td>3</td>\n",
       "    </tr>\n",
       "    <tr>\n",
       "      <th>b</th>\n",
       "      <td>4</td>\n",
       "      <td>5</td>\n",
       "      <td>6</td>\n",
       "    </tr>\n",
       "    <tr>\n",
       "      <th>c</th>\n",
       "      <td>7</td>\n",
       "      <td>8</td>\n",
       "      <td>9</td>\n",
       "    </tr>\n",
       "    <tr>\n",
       "      <th>d</th>\n",
       "      <td>10</td>\n",
       "      <td>11</td>\n",
       "      <td>12</td>\n",
       "    </tr>\n",
       "  </tbody>\n",
       "</table>\n",
       "</div>"
      ],
      "text/plain": [
       "    1   2   3\n",
       "a   1   2   3\n",
       "b   4   5   6\n",
       "c   7   8   9\n",
       "d  10  11  12"
      ]
     },
     "execution_count": 19,
     "metadata": {},
     "output_type": "execute_result"
    }
   ],
   "source": [
    "# custom row and column indices\n",
    "df2=pd.DataFrame([[1,2,3],[4,5,6],[7,8,9],[10,11,12]],index=['a','b','c','d'],columns=[1,2,3])\n",
    "df2"
   ]
  },
  {
   "cell_type": "code",
   "execution_count": 21,
   "id": "cc08efc0-c404-42e4-b650-6451f440b34d",
   "metadata": {},
   "outputs": [
    {
     "name": "stdout",
     "output_type": "stream",
     "text": [
      "(4, 3)\n",
      "Index(['a', 'b', 'c', 'd'], dtype='object')\n"
     ]
    }
   ],
   "source": [
    "print(df2.shape)\n",
    "print(df2.index) #Returns the custom index and its datatype "
   ]
  },
  {
   "cell_type": "markdown",
   "id": "a0a051d2-b1ff-4878-b3c8-7b227482f14e",
   "metadata": {},
   "source": [
    "<h2>Weather dataset analysis with pandas</h2>"
   ]
  },
  {
   "cell_type": "code",
   "execution_count": 25,
   "id": "9272866d-f1e4-4165-b767-2fdb2342032b",
   "metadata": {},
   "outputs": [],
   "source": [
    "weather_df=pd.read_csv(\"Data/Weather Data.csv\")"
   ]
  },
  {
   "cell_type": "code",
   "execution_count": 27,
   "id": "714296aa-f831-4ccf-b4de-52766df8e10a",
   "metadata": {},
   "outputs": [
    {
     "data": {
      "text/html": [
       "<div>\n",
       "<style scoped>\n",
       "    .dataframe tbody tr th:only-of-type {\n",
       "        vertical-align: middle;\n",
       "    }\n",
       "\n",
       "    .dataframe tbody tr th {\n",
       "        vertical-align: top;\n",
       "    }\n",
       "\n",
       "    .dataframe thead th {\n",
       "        text-align: right;\n",
       "    }\n",
       "</style>\n",
       "<table border=\"1\" class=\"dataframe\">\n",
       "  <thead>\n",
       "    <tr style=\"text-align: right;\">\n",
       "      <th></th>\n",
       "      <th>Date/Time</th>\n",
       "      <th>Temp_C</th>\n",
       "      <th>Dew Point Temp_C</th>\n",
       "      <th>Rel Hum_%</th>\n",
       "      <th>Wind Speed_km/h</th>\n",
       "      <th>Visibility_km</th>\n",
       "      <th>Press_kPa</th>\n",
       "      <th>Weather</th>\n",
       "    </tr>\n",
       "  </thead>\n",
       "  <tbody>\n",
       "    <tr>\n",
       "      <th>0</th>\n",
       "      <td>1/1/2012 0:00</td>\n",
       "      <td>-1.8</td>\n",
       "      <td>-3.9</td>\n",
       "      <td>86</td>\n",
       "      <td>4</td>\n",
       "      <td>8.0</td>\n",
       "      <td>101.24</td>\n",
       "      <td>Fog</td>\n",
       "    </tr>\n",
       "    <tr>\n",
       "      <th>1</th>\n",
       "      <td>1/1/2012 1:00</td>\n",
       "      <td>-1.8</td>\n",
       "      <td>-3.7</td>\n",
       "      <td>87</td>\n",
       "      <td>4</td>\n",
       "      <td>8.0</td>\n",
       "      <td>101.24</td>\n",
       "      <td>Fog</td>\n",
       "    </tr>\n",
       "    <tr>\n",
       "      <th>2</th>\n",
       "      <td>1/1/2012 2:00</td>\n",
       "      <td>-1.8</td>\n",
       "      <td>-3.4</td>\n",
       "      <td>89</td>\n",
       "      <td>7</td>\n",
       "      <td>4.0</td>\n",
       "      <td>101.26</td>\n",
       "      <td>Freezing Drizzle,Fog</td>\n",
       "    </tr>\n",
       "    <tr>\n",
       "      <th>3</th>\n",
       "      <td>1/1/2012 3:00</td>\n",
       "      <td>-1.5</td>\n",
       "      <td>-3.2</td>\n",
       "      <td>88</td>\n",
       "      <td>6</td>\n",
       "      <td>4.0</td>\n",
       "      <td>101.27</td>\n",
       "      <td>Freezing Drizzle,Fog</td>\n",
       "    </tr>\n",
       "    <tr>\n",
       "      <th>4</th>\n",
       "      <td>1/1/2012 4:00</td>\n",
       "      <td>-1.5</td>\n",
       "      <td>-3.3</td>\n",
       "      <td>88</td>\n",
       "      <td>7</td>\n",
       "      <td>4.8</td>\n",
       "      <td>101.23</td>\n",
       "      <td>Fog</td>\n",
       "    </tr>\n",
       "  </tbody>\n",
       "</table>\n",
       "</div>"
      ],
      "text/plain": [
       "       Date/Time  Temp_C  Dew Point Temp_C  Rel Hum_%  Wind Speed_km/h  \\\n",
       "0  1/1/2012 0:00    -1.8              -3.9         86                4   \n",
       "1  1/1/2012 1:00    -1.8              -3.7         87                4   \n",
       "2  1/1/2012 2:00    -1.8              -3.4         89                7   \n",
       "3  1/1/2012 3:00    -1.5              -3.2         88                6   \n",
       "4  1/1/2012 4:00    -1.5              -3.3         88                7   \n",
       "\n",
       "   Visibility_km  Press_kPa               Weather  \n",
       "0            8.0     101.24                   Fog  \n",
       "1            8.0     101.24                   Fog  \n",
       "2            4.0     101.26  Freezing Drizzle,Fog  \n",
       "3            4.0     101.27  Freezing Drizzle,Fog  \n",
       "4            4.8     101.23                   Fog  "
      ]
     },
     "execution_count": 27,
     "metadata": {},
     "output_type": "execute_result"
    }
   ],
   "source": [
    "# View the top 5 rows\n",
    "weather_df.head()"
   ]
  },
  {
   "cell_type": "code",
   "execution_count": 29,
   "id": "8b1f50cf-b439-4c1f-85fe-e694201764f4",
   "metadata": {},
   "outputs": [
    {
     "data": {
      "text/plain": [
       "0    1/1/2012 0:00\n",
       "1    1/1/2012 1:00\n",
       "2    1/1/2012 2:00\n",
       "3    1/1/2012 3:00\n",
       "4    1/1/2012 4:00\n",
       "Name: Date/Time, dtype: object"
      ]
     },
     "execution_count": 29,
     "metadata": {},
     "output_type": "execute_result"
    }
   ],
   "source": [
    "weather_df[\"Date/Time\"].head()"
   ]
  },
  {
   "cell_type": "code",
   "execution_count": 30,
   "id": "84287d26-8f77-4bd4-9360-e82f2df67b0b",
   "metadata": {},
   "outputs": [],
   "source": [
    "# Datetime is in object datatype .We should convert it into datetime datatype to do analysis based on the date\n",
    "weather_df[\"Date/Time\"]=pd.to_datetime(weather_df[\"Date/Time\"])"
   ]
  },
  {
   "cell_type": "code",
   "execution_count": 32,
   "id": "e4175200-c52b-44d9-8198-25b9b8a34a63",
   "metadata": {},
   "outputs": [
    {
     "data": {
      "text/plain": [
       "0   2012-01-01 00:00:00\n",
       "1   2012-01-01 01:00:00\n",
       "2   2012-01-01 02:00:00\n",
       "3   2012-01-01 03:00:00\n",
       "4   2012-01-01 04:00:00\n",
       "Name: Date/Time, dtype: datetime64[ns]"
      ]
     },
     "execution_count": 32,
     "metadata": {},
     "output_type": "execute_result"
    }
   ],
   "source": [
    "# Validating the datatype conversion\n",
    "weather_df[\"Date/Time\"].head()"
   ]
  },
  {
   "cell_type": "markdown",
   "id": "35ccc586-5037-495c-a870-966d0d8ead7b",
   "metadata": {},
   "source": [
    "<h3>Important functions while working with dataframe that eases the work</h3>"
   ]
  },
  {
   "cell_type": "markdown",
   "id": "2b67da14-7269-4d68-acec-adb99801d3d7",
   "metadata": {},
   "source": [
    "<b><i>info()</i></b> returns the metadata information of dataframe such as total row count,row index,column information with their datatype and total memory usage by dataframe "
   ]
  },
  {
   "cell_type": "code",
   "execution_count": 36,
   "id": "92facfd2-75a3-4adc-9a22-a3563f46eaf1",
   "metadata": {},
   "outputs": [
    {
     "name": "stdout",
     "output_type": "stream",
     "text": [
      "<class 'pandas.core.frame.DataFrame'>\n",
      "RangeIndex: 8784 entries, 0 to 8783\n",
      "Data columns (total 8 columns):\n",
      " #   Column            Non-Null Count  Dtype         \n",
      "---  ------            --------------  -----         \n",
      " 0   Date/Time         8784 non-null   datetime64[ns]\n",
      " 1   Temp_C            8784 non-null   float64       \n",
      " 2   Dew Point Temp_C  8784 non-null   float64       \n",
      " 3   Rel Hum_%         8784 non-null   int64         \n",
      " 4   Wind Speed_km/h   8784 non-null   int64         \n",
      " 5   Visibility_km     8784 non-null   float64       \n",
      " 6   Press_kPa         8784 non-null   float64       \n",
      " 7   Weather           8784 non-null   object        \n",
      "dtypes: datetime64[ns](1), float64(4), int64(2), object(1)\n",
      "memory usage: 549.1+ KB\n"
     ]
    }
   ],
   "source": [
    "weather_df.info()"
   ]
  },
  {
   "cell_type": "markdown",
   "id": "62a7f475-5d1f-4cf6-9dbe-4062fdd56023",
   "metadata": {},
   "source": [
    "<b><i>head()</i></b> returns the first 5 rows by default and we opt for 'n' number of rows by giving 'n' as input <i>head(n)</i>."
   ]
  },
  {
   "cell_type": "code",
   "execution_count": 41,
   "id": "6a629f73-961c-4c25-9c42-073a7ac95ed6",
   "metadata": {},
   "outputs": [
    {
     "data": {
      "text/html": [
       "<div>\n",
       "<style scoped>\n",
       "    .dataframe tbody tr th:only-of-type {\n",
       "        vertical-align: middle;\n",
       "    }\n",
       "\n",
       "    .dataframe tbody tr th {\n",
       "        vertical-align: top;\n",
       "    }\n",
       "\n",
       "    .dataframe thead th {\n",
       "        text-align: right;\n",
       "    }\n",
       "</style>\n",
       "<table border=\"1\" class=\"dataframe\">\n",
       "  <thead>\n",
       "    <tr style=\"text-align: right;\">\n",
       "      <th></th>\n",
       "      <th>Date/Time</th>\n",
       "      <th>Temp_C</th>\n",
       "      <th>Dew Point Temp_C</th>\n",
       "      <th>Rel Hum_%</th>\n",
       "      <th>Wind Speed_km/h</th>\n",
       "      <th>Visibility_km</th>\n",
       "      <th>Press_kPa</th>\n",
       "      <th>Weather</th>\n",
       "    </tr>\n",
       "  </thead>\n",
       "  <tbody>\n",
       "    <tr>\n",
       "      <th>0</th>\n",
       "      <td>2012-01-01 00:00:00</td>\n",
       "      <td>-1.8</td>\n",
       "      <td>-3.9</td>\n",
       "      <td>86</td>\n",
       "      <td>4</td>\n",
       "      <td>8.0</td>\n",
       "      <td>101.24</td>\n",
       "      <td>Fog</td>\n",
       "    </tr>\n",
       "    <tr>\n",
       "      <th>1</th>\n",
       "      <td>2012-01-01 01:00:00</td>\n",
       "      <td>-1.8</td>\n",
       "      <td>-3.7</td>\n",
       "      <td>87</td>\n",
       "      <td>4</td>\n",
       "      <td>8.0</td>\n",
       "      <td>101.24</td>\n",
       "      <td>Fog</td>\n",
       "    </tr>\n",
       "    <tr>\n",
       "      <th>2</th>\n",
       "      <td>2012-01-01 02:00:00</td>\n",
       "      <td>-1.8</td>\n",
       "      <td>-3.4</td>\n",
       "      <td>89</td>\n",
       "      <td>7</td>\n",
       "      <td>4.0</td>\n",
       "      <td>101.26</td>\n",
       "      <td>Freezing Drizzle,Fog</td>\n",
       "    </tr>\n",
       "    <tr>\n",
       "      <th>3</th>\n",
       "      <td>2012-01-01 03:00:00</td>\n",
       "      <td>-1.5</td>\n",
       "      <td>-3.2</td>\n",
       "      <td>88</td>\n",
       "      <td>6</td>\n",
       "      <td>4.0</td>\n",
       "      <td>101.27</td>\n",
       "      <td>Freezing Drizzle,Fog</td>\n",
       "    </tr>\n",
       "    <tr>\n",
       "      <th>4</th>\n",
       "      <td>2012-01-01 04:00:00</td>\n",
       "      <td>-1.5</td>\n",
       "      <td>-3.3</td>\n",
       "      <td>88</td>\n",
       "      <td>7</td>\n",
       "      <td>4.8</td>\n",
       "      <td>101.23</td>\n",
       "      <td>Fog</td>\n",
       "    </tr>\n",
       "  </tbody>\n",
       "</table>\n",
       "</div>"
      ],
      "text/plain": [
       "            Date/Time  Temp_C  Dew Point Temp_C  Rel Hum_%  Wind Speed_km/h  \\\n",
       "0 2012-01-01 00:00:00    -1.8              -3.9         86                4   \n",
       "1 2012-01-01 01:00:00    -1.8              -3.7         87                4   \n",
       "2 2012-01-01 02:00:00    -1.8              -3.4         89                7   \n",
       "3 2012-01-01 03:00:00    -1.5              -3.2         88                6   \n",
       "4 2012-01-01 04:00:00    -1.5              -3.3         88                7   \n",
       "\n",
       "   Visibility_km  Press_kPa               Weather  \n",
       "0            8.0     101.24                   Fog  \n",
       "1            8.0     101.24                   Fog  \n",
       "2            4.0     101.26  Freezing Drizzle,Fog  \n",
       "3            4.0     101.27  Freezing Drizzle,Fog  \n",
       "4            4.8     101.23                   Fog  "
      ]
     },
     "execution_count": 41,
     "metadata": {},
     "output_type": "execute_result"
    }
   ],
   "source": [
    "weather_df.head()"
   ]
  },
  {
   "cell_type": "markdown",
   "id": "1ebd1523-dbcb-4e34-beca-666566ffb483",
   "metadata": {},
   "source": [
    "<b><i>index</i></b> returns the index information"
   ]
  },
  {
   "cell_type": "code",
   "execution_count": 44,
   "id": "dbccafe0-25d5-4e85-8531-c28302f91b5a",
   "metadata": {},
   "outputs": [
    {
     "data": {
      "text/plain": [
       "RangeIndex(start=0, stop=8784, step=1)"
      ]
     },
     "execution_count": 44,
     "metadata": {},
     "output_type": "execute_result"
    }
   ],
   "source": [
    "weather_df.index"
   ]
  },
  {
   "cell_type": "markdown",
   "id": "5312eddb-e2db-4021-ab23-20ab520d0625",
   "metadata": {},
   "source": [
    "<b><i>unique()</i></b>"
   ]
  },
  {
   "cell_type": "markdown",
   "id": "c7a0f35b-4bf6-4c42-92c1-becf282cac2f",
   "metadata": {},
   "source": [
    "Belongs to the series object.Returns the unique values of a particular column.\n",
    "        <ol>\n",
    "            1) Values are returned in the order of appearence,doesn't sort \n",
    "        </ol>\n",
    "        <ol>\n",
    "            2) Includes N/A values \n",
    "        </ol>"
   ]
  },
  {
   "cell_type": "code",
   "execution_count": 48,
   "id": "eedda037-cf49-4127-8096-da8dabc27925",
   "metadata": {},
   "outputs": [
    {
     "data": {
      "text/plain": [
       "array(['Fog', 'Freezing Drizzle,Fog', 'Mostly Cloudy', 'Cloudy', 'Rain',\n",
       "       'Rain Showers', 'Mainly Clear', 'Snow Showers', 'Snow', 'Clear',\n",
       "       'Freezing Rain,Fog', 'Freezing Rain', 'Freezing Drizzle',\n",
       "       'Rain,Snow', 'Moderate Snow', 'Freezing Drizzle,Snow',\n",
       "       'Freezing Rain,Snow Grains', 'Snow,Blowing Snow', 'Freezing Fog',\n",
       "       'Haze', 'Rain,Fog', 'Drizzle,Fog', 'Drizzle',\n",
       "       'Freezing Drizzle,Haze', 'Freezing Rain,Haze', 'Snow,Haze',\n",
       "       'Snow,Fog', 'Snow,Ice Pellets', 'Rain,Haze', 'Thunderstorms,Rain',\n",
       "       'Thunderstorms,Rain Showers', 'Thunderstorms,Heavy Rain Showers',\n",
       "       'Thunderstorms,Rain Showers,Fog', 'Thunderstorms',\n",
       "       'Thunderstorms,Rain,Fog',\n",
       "       'Thunderstorms,Moderate Rain Showers,Fog', 'Rain Showers,Fog',\n",
       "       'Rain Showers,Snow Showers', 'Snow Pellets', 'Rain,Snow,Fog',\n",
       "       'Moderate Rain,Fog', 'Freezing Rain,Ice Pellets,Fog',\n",
       "       'Drizzle,Ice Pellets,Fog', 'Drizzle,Snow', 'Rain,Ice Pellets',\n",
       "       'Drizzle,Snow,Fog', 'Rain,Snow Grains', 'Rain,Snow,Ice Pellets',\n",
       "       'Snow Showers,Fog', 'Moderate Snow,Blowing Snow'], dtype=object)"
      ]
     },
     "execution_count": 48,
     "metadata": {},
     "output_type": "execute_result"
    }
   ],
   "source": [
    "weather_df[\"Weather\"].unique()"
   ]
  },
  {
   "cell_type": "markdown",
   "id": "5167b3f7-73d8-410d-9d98-44c2f287c064",
   "metadata": {},
   "source": [
    "<h2><i>Mini Challenge 1</i></h2>"
   ]
  },
  {
   "cell_type": "markdown",
   "id": "4424038a-b728-4fa4-a406-754e9a58ae9f",
   "metadata": {},
   "source": [
    "<i>Find all the unique Wind Speed values recorded in the dataset</i>"
   ]
  },
  {
   "cell_type": "code",
   "execution_count": 50,
   "id": "617327fa-c6b2-4b24-a6fc-943662f83c08",
   "metadata": {},
   "outputs": [
    {
     "data": {
      "text/plain": [
       "array([ 4,  7,  6,  9, 15, 13, 20, 22, 19, 24, 30, 35, 39, 32, 33, 26, 44,\n",
       "       43, 48, 37, 28, 17, 11,  0, 83, 70, 57, 46, 41, 52, 50, 63, 54,  2],\n",
       "      dtype=int64)"
      ]
     },
     "execution_count": 50,
     "metadata": {},
     "output_type": "execute_result"
    }
   ],
   "source": [
    "weather_df[\"Wind Speed_km/h\"].unique()"
   ]
  },
  {
   "cell_type": "markdown",
   "id": "01f44687-0bcb-428d-9446-011f546e3f88",
   "metadata": {},
   "source": [
    "<b><i>nunique()</i></b>"
   ]
  },
  {
   "cell_type": "markdown",
   "id": "a3c679d2-9b95-4399-b643-0e7373cb1b0c",
   "metadata": {},
   "source": [
    "Property of Series object . Counts the number of unique values in a column\n",
    "<ol>\n",
    "    1)Does not include 'N/A'\n",
    "</ol>\n",
    "<ol>\n",
    "    2)Return type is integer\n",
    "</ol>"
   ]
  },
  {
   "cell_type": "code",
   "execution_count": 54,
   "id": "1e1c3fa5-4c0b-4fbc-a18f-840391978ada",
   "metadata": {},
   "outputs": [
    {
     "data": {
      "text/plain": [
       "50"
      ]
     },
     "execution_count": 54,
     "metadata": {},
     "output_type": "execute_result"
    }
   ],
   "source": [
    "weather_df[\"Weather\"].nunique()"
   ]
  },
  {
   "cell_type": "markdown",
   "id": "987fecf5-ecb8-401c-8727-7ae2bd908c68",
   "metadata": {},
   "source": [
    "<b><i>value_counts()</b></i>"
   ]
  },
  {
   "cell_type": "markdown",
   "id": "8c184785-3a48-4839-a586-deb8f7467ef3",
   "metadata": {},
   "source": [
    "Property of Series object . Counts the number of occurences of each unique value in a column \n",
    "Similar to combination of <i>count and group by in SQL</i>\n",
    "<ol>\n",
    "    1)Resulting value will be in descending order so that the first value will be the most occuring value\n",
    "</ol>\n",
    "<ol>\n",
    "    2)Doesn't include 'N/A' by default \n",
    "</ol>"
   ]
  },
  {
   "cell_type": "code",
   "execution_count": 58,
   "id": "18a8c08d-5dc8-4e7d-b7bc-ed37853a4914",
   "metadata": {},
   "outputs": [
    {
     "data": {
      "text/plain": [
       "Weather\n",
       "Mainly Clear                               2106\n",
       "Mostly Cloudy                              2069\n",
       "Cloudy                                     1728\n",
       "Clear                                      1326\n",
       "Snow                                        390\n",
       "Rain                                        306\n",
       "Rain Showers                                188\n",
       "Fog                                         150\n",
       "Rain,Fog                                    116\n",
       "Drizzle,Fog                                  80\n",
       "Snow Showers                                 60\n",
       "Drizzle                                      41\n",
       "Snow,Fog                                     37\n",
       "Snow,Blowing Snow                            19\n",
       "Rain,Snow                                    18\n",
       "Thunderstorms,Rain Showers                   16\n",
       "Haze                                         16\n",
       "Drizzle,Snow,Fog                             15\n",
       "Freezing Rain                                14\n",
       "Freezing Drizzle,Snow                        11\n",
       "Freezing Drizzle                              7\n",
       "Snow,Ice Pellets                              6\n",
       "Freezing Drizzle,Fog                          6\n",
       "Snow,Haze                                     5\n",
       "Freezing Fog                                  4\n",
       "Snow Showers,Fog                              4\n",
       "Moderate Snow                                 4\n",
       "Rain,Snow,Ice Pellets                         4\n",
       "Freezing Rain,Fog                             4\n",
       "Freezing Drizzle,Haze                         3\n",
       "Rain,Haze                                     3\n",
       "Thunderstorms,Rain                            3\n",
       "Thunderstorms,Rain Showers,Fog                3\n",
       "Freezing Rain,Haze                            2\n",
       "Drizzle,Snow                                  2\n",
       "Rain Showers,Snow Showers                     2\n",
       "Thunderstorms                                 2\n",
       "Moderate Snow,Blowing Snow                    2\n",
       "Rain Showers,Fog                              1\n",
       "Thunderstorms,Moderate Rain Showers,Fog       1\n",
       "Snow Pellets                                  1\n",
       "Rain,Snow,Fog                                 1\n",
       "Moderate Rain,Fog                             1\n",
       "Freezing Rain,Ice Pellets,Fog                 1\n",
       "Drizzle,Ice Pellets,Fog                       1\n",
       "Thunderstorms,Rain,Fog                        1\n",
       "Rain,Ice Pellets                              1\n",
       "Rain,Snow Grains                              1\n",
       "Thunderstorms,Heavy Rain Showers              1\n",
       "Freezing Rain,Snow Grains                     1\n",
       "Name: count, dtype: int64"
      ]
     },
     "execution_count": 58,
     "metadata": {},
     "output_type": "execute_result"
    }
   ],
   "source": [
    "weather_df[\"Weather\"].value_counts()"
   ]
  },
  {
   "cell_type": "markdown",
   "id": "a0c6cf09-dc87-414e-b721-edfb3dd4b817",
   "metadata": {},
   "source": [
    "<h2><i>Mini Challenge 2</i></h2>"
   ]
  },
  {
   "cell_type": "markdown",
   "id": "e8fd750e-14a9-4aaf-8321-6579e3e9175e",
   "metadata": {},
   "source": [
    "Find the number of times when the weather was \"clear\""
   ]
  },
  {
   "cell_type": "markdown",
   "id": "4a13c76f-86e1-44f1-9766-537292332624",
   "metadata": {},
   "source": [
    "<i>hint</i>: value_counts gives us all the unique values and their occurence counts. \n",
    "To get for a particular value,mention the value in square brackets after the value_counts() function.\n",
    "<i><b>DataFrame[\"column_name\"].value_counts()[\"value\"]</b><i>"
   ]
  },
  {
   "cell_type": "code",
   "execution_count": 66,
   "id": "c36d3f49-47ef-4dd7-a980-5df8f6db4820",
   "metadata": {},
   "outputs": [
    {
     "data": {
      "text/plain": [
       "1326"
      ]
     },
     "execution_count": 66,
     "metadata": {},
     "output_type": "execute_result"
    }
   ],
   "source": [
    "weather_df[\"Weather\"].value_counts()[\"Clear\"]"
   ]
  },
  {
   "cell_type": "markdown",
   "id": "cb54ef2e-cfc4-4f65-8415-10f6eaaf0ca1",
   "metadata": {},
   "source": [
    "<h2><i>Mini Challenge 3</i></h2>"
   ]
  },
  {
   "cell_type": "markdown",
   "id": "7bc6de63-3aa9-4e7b-a03c-96fce9db814a",
   "metadata": {},
   "source": [
    "Find the number of times when the wind speed was exactly 4 km/h"
   ]
  },
  {
   "cell_type": "code",
   "execution_count": 70,
   "id": "13b85615-de23-47d7-b44b-4bb8c1185703",
   "metadata": {},
   "outputs": [
    {
     "data": {
      "text/plain": [
       "474"
      ]
     },
     "execution_count": 70,
     "metadata": {},
     "output_type": "execute_result"
    }
   ],
   "source": [
    "weather_df[\"Wind Speed_km/h\"].value_counts()[4]"
   ]
  },
  {
   "cell_type": "markdown",
   "id": "f1b99c19-78ef-4fc2-8b17-2418762946cc",
   "metadata": {},
   "source": [
    "<h2>Data Manipulation in Pandas</h2>"
   ]
  },
  {
   "cell_type": "markdown",
   "id": "e107fc86-1daa-4343-b1f1-542067780e75",
   "metadata": {},
   "source": [
    "Get the subset of a dataframe like single column from a dataframe"
   ]
  },
  {
   "cell_type": "code",
   "execution_count": 74,
   "id": "a8bc39a5-8e42-4bee-8025-bb979a365600",
   "metadata": {},
   "outputs": [
    {
     "name": "stdout",
     "output_type": "stream",
     "text": [
      "<class 'pandas.core.series.Series'>\n",
      "0                        Fog\n",
      "1                        Fog\n",
      "2       Freezing Drizzle,Fog\n",
      "3       Freezing Drizzle,Fog\n",
      "4                        Fog\n",
      "                ...         \n",
      "8779                    Snow\n",
      "8780                    Snow\n",
      "8781                    Snow\n",
      "8782                    Snow\n",
      "8783                    Snow\n",
      "Name: Weather, Length: 8784, dtype: object\n"
     ]
    }
   ],
   "source": [
    "col=weather_df[\"Weather\"]\n",
    "print(type(col)) #As single column is a series in pandas, it is stored as Series\n",
    "print(col)"
   ]
  },
  {
   "cell_type": "markdown",
   "id": "1a81add4-0bb2-4f07-b55f-087afd735f6c",
   "metadata": {},
   "source": [
    "Retrieve two columns from a dataframe(subset)"
   ]
  },
  {
   "cell_type": "code",
   "execution_count": 78,
   "id": "e2f1b837-b965-4300-8fb1-ca3c86a21d43",
   "metadata": {},
   "outputs": [
    {
     "name": "stdout",
     "output_type": "stream",
     "text": [
      "<class 'pandas.core.frame.DataFrame'>\n",
      "                   Weather  Wind Speed_km/h\n",
      "0                      Fog                4\n",
      "1                      Fog                4\n",
      "2     Freezing Drizzle,Fog                7\n",
      "3     Freezing Drizzle,Fog                6\n",
      "4                      Fog                7\n",
      "...                    ...              ...\n",
      "8779                  Snow               30\n",
      "8780                  Snow               24\n",
      "8781                  Snow               28\n",
      "8782                  Snow               28\n",
      "8783                  Snow               30\n",
      "\n",
      "[8784 rows x 2 columns]\n"
     ]
    }
   ],
   "source": [
    "sub_df=weather_df[[\"Weather\",\"Wind Speed_km/h\"]]\n",
    "# [] is for series and [[]] is for subset of dataframe.\n",
    "print(type(sub_df)) #stored as dataframe\n",
    "print(sub_df)"
   ]
  },
  {
   "cell_type": "markdown",
   "id": "18354064-6d67-44be-a475-233cebec9ad2",
   "metadata": {},
   "source": [
    "<b><i>Important</i></b>: Whenever you are retreiving more than one column from dataframe , use double open and closing brackets"
   ]
  },
  {
   "cell_type": "markdown",
   "id": "0a5d1910-d9b1-4e29-b195-cf0e70274222",
   "metadata": {},
   "source": [
    "<h2>Get the first 25 rows from \"weather_df\" DataFrame </h2><hr>"
   ]
  },
  {
   "cell_type": "markdown",
   "id": "c0d8a29d-9830-4019-9290-59570257c15d",
   "metadata": {},
   "source": [
    "We can utilize slicing method by mentioning the start and end range <br>\n",
    "Syntax:<b>slicing[start:end]</b><br>\n",
    "Even if the index is non-numerical, it will work "
   ]
  },
  {
   "cell_type": "code",
   "execution_count": 80,
   "id": "fdb03d36-8008-4487-a452-e9c8022c1e7d",
   "metadata": {},
   "outputs": [
    {
     "data": {
      "text/html": [
       "<div>\n",
       "<style scoped>\n",
       "    .dataframe tbody tr th:only-of-type {\n",
       "        vertical-align: middle;\n",
       "    }\n",
       "\n",
       "    .dataframe tbody tr th {\n",
       "        vertical-align: top;\n",
       "    }\n",
       "\n",
       "    .dataframe thead th {\n",
       "        text-align: right;\n",
       "    }\n",
       "</style>\n",
       "<table border=\"1\" class=\"dataframe\">\n",
       "  <thead>\n",
       "    <tr style=\"text-align: right;\">\n",
       "      <th></th>\n",
       "      <th>Date/Time</th>\n",
       "      <th>Temp_C</th>\n",
       "      <th>Dew Point Temp_C</th>\n",
       "      <th>Rel Hum_%</th>\n",
       "      <th>Wind Speed_km/h</th>\n",
       "      <th>Visibility_km</th>\n",
       "      <th>Press_kPa</th>\n",
       "      <th>Weather</th>\n",
       "    </tr>\n",
       "  </thead>\n",
       "  <tbody>\n",
       "    <tr>\n",
       "      <th>0</th>\n",
       "      <td>2012-01-01 00:00:00</td>\n",
       "      <td>-1.8</td>\n",
       "      <td>-3.9</td>\n",
       "      <td>86</td>\n",
       "      <td>4</td>\n",
       "      <td>8.0</td>\n",
       "      <td>101.24</td>\n",
       "      <td>Fog</td>\n",
       "    </tr>\n",
       "    <tr>\n",
       "      <th>1</th>\n",
       "      <td>2012-01-01 01:00:00</td>\n",
       "      <td>-1.8</td>\n",
       "      <td>-3.7</td>\n",
       "      <td>87</td>\n",
       "      <td>4</td>\n",
       "      <td>8.0</td>\n",
       "      <td>101.24</td>\n",
       "      <td>Fog</td>\n",
       "    </tr>\n",
       "    <tr>\n",
       "      <th>2</th>\n",
       "      <td>2012-01-01 02:00:00</td>\n",
       "      <td>-1.8</td>\n",
       "      <td>-3.4</td>\n",
       "      <td>89</td>\n",
       "      <td>7</td>\n",
       "      <td>4.0</td>\n",
       "      <td>101.26</td>\n",
       "      <td>Freezing Drizzle,Fog</td>\n",
       "    </tr>\n",
       "    <tr>\n",
       "      <th>3</th>\n",
       "      <td>2012-01-01 03:00:00</td>\n",
       "      <td>-1.5</td>\n",
       "      <td>-3.2</td>\n",
       "      <td>88</td>\n",
       "      <td>6</td>\n",
       "      <td>4.0</td>\n",
       "      <td>101.27</td>\n",
       "      <td>Freezing Drizzle,Fog</td>\n",
       "    </tr>\n",
       "    <tr>\n",
       "      <th>4</th>\n",
       "      <td>2012-01-01 04:00:00</td>\n",
       "      <td>-1.5</td>\n",
       "      <td>-3.3</td>\n",
       "      <td>88</td>\n",
       "      <td>7</td>\n",
       "      <td>4.8</td>\n",
       "      <td>101.23</td>\n",
       "      <td>Fog</td>\n",
       "    </tr>\n",
       "    <tr>\n",
       "      <th>5</th>\n",
       "      <td>2012-01-01 05:00:00</td>\n",
       "      <td>-1.4</td>\n",
       "      <td>-3.3</td>\n",
       "      <td>87</td>\n",
       "      <td>9</td>\n",
       "      <td>6.4</td>\n",
       "      <td>101.27</td>\n",
       "      <td>Fog</td>\n",
       "    </tr>\n",
       "    <tr>\n",
       "      <th>6</th>\n",
       "      <td>2012-01-01 06:00:00</td>\n",
       "      <td>-1.5</td>\n",
       "      <td>-3.1</td>\n",
       "      <td>89</td>\n",
       "      <td>7</td>\n",
       "      <td>6.4</td>\n",
       "      <td>101.29</td>\n",
       "      <td>Fog</td>\n",
       "    </tr>\n",
       "    <tr>\n",
       "      <th>7</th>\n",
       "      <td>2012-01-01 07:00:00</td>\n",
       "      <td>-1.4</td>\n",
       "      <td>-3.6</td>\n",
       "      <td>85</td>\n",
       "      <td>7</td>\n",
       "      <td>8.0</td>\n",
       "      <td>101.26</td>\n",
       "      <td>Fog</td>\n",
       "    </tr>\n",
       "    <tr>\n",
       "      <th>8</th>\n",
       "      <td>2012-01-01 08:00:00</td>\n",
       "      <td>-1.4</td>\n",
       "      <td>-3.6</td>\n",
       "      <td>85</td>\n",
       "      <td>9</td>\n",
       "      <td>8.0</td>\n",
       "      <td>101.23</td>\n",
       "      <td>Fog</td>\n",
       "    </tr>\n",
       "    <tr>\n",
       "      <th>9</th>\n",
       "      <td>2012-01-01 09:00:00</td>\n",
       "      <td>-1.3</td>\n",
       "      <td>-3.1</td>\n",
       "      <td>88</td>\n",
       "      <td>15</td>\n",
       "      <td>4.0</td>\n",
       "      <td>101.20</td>\n",
       "      <td>Fog</td>\n",
       "    </tr>\n",
       "    <tr>\n",
       "      <th>10</th>\n",
       "      <td>2012-01-01 10:00:00</td>\n",
       "      <td>-1.0</td>\n",
       "      <td>-2.3</td>\n",
       "      <td>91</td>\n",
       "      <td>9</td>\n",
       "      <td>1.2</td>\n",
       "      <td>101.15</td>\n",
       "      <td>Fog</td>\n",
       "    </tr>\n",
       "    <tr>\n",
       "      <th>11</th>\n",
       "      <td>2012-01-01 11:00:00</td>\n",
       "      <td>-0.5</td>\n",
       "      <td>-2.1</td>\n",
       "      <td>89</td>\n",
       "      <td>7</td>\n",
       "      <td>4.0</td>\n",
       "      <td>100.98</td>\n",
       "      <td>Fog</td>\n",
       "    </tr>\n",
       "    <tr>\n",
       "      <th>12</th>\n",
       "      <td>2012-01-01 12:00:00</td>\n",
       "      <td>-0.2</td>\n",
       "      <td>-2.0</td>\n",
       "      <td>88</td>\n",
       "      <td>9</td>\n",
       "      <td>4.8</td>\n",
       "      <td>100.79</td>\n",
       "      <td>Fog</td>\n",
       "    </tr>\n",
       "    <tr>\n",
       "      <th>13</th>\n",
       "      <td>2012-01-01 13:00:00</td>\n",
       "      <td>0.2</td>\n",
       "      <td>-1.7</td>\n",
       "      <td>87</td>\n",
       "      <td>13</td>\n",
       "      <td>4.8</td>\n",
       "      <td>100.58</td>\n",
       "      <td>Fog</td>\n",
       "    </tr>\n",
       "    <tr>\n",
       "      <th>14</th>\n",
       "      <td>2012-01-01 14:00:00</td>\n",
       "      <td>0.8</td>\n",
       "      <td>-1.1</td>\n",
       "      <td>87</td>\n",
       "      <td>20</td>\n",
       "      <td>4.8</td>\n",
       "      <td>100.31</td>\n",
       "      <td>Fog</td>\n",
       "    </tr>\n",
       "    <tr>\n",
       "      <th>15</th>\n",
       "      <td>2012-01-01 15:00:00</td>\n",
       "      <td>1.8</td>\n",
       "      <td>-0.4</td>\n",
       "      <td>85</td>\n",
       "      <td>22</td>\n",
       "      <td>6.4</td>\n",
       "      <td>100.07</td>\n",
       "      <td>Fog</td>\n",
       "    </tr>\n",
       "    <tr>\n",
       "      <th>16</th>\n",
       "      <td>2012-01-01 16:00:00</td>\n",
       "      <td>2.6</td>\n",
       "      <td>-0.2</td>\n",
       "      <td>82</td>\n",
       "      <td>13</td>\n",
       "      <td>12.9</td>\n",
       "      <td>99.93</td>\n",
       "      <td>Mostly Cloudy</td>\n",
       "    </tr>\n",
       "    <tr>\n",
       "      <th>17</th>\n",
       "      <td>2012-01-01 17:00:00</td>\n",
       "      <td>3.0</td>\n",
       "      <td>0.0</td>\n",
       "      <td>81</td>\n",
       "      <td>13</td>\n",
       "      <td>16.1</td>\n",
       "      <td>99.81</td>\n",
       "      <td>Cloudy</td>\n",
       "    </tr>\n",
       "    <tr>\n",
       "      <th>18</th>\n",
       "      <td>2012-01-01 18:00:00</td>\n",
       "      <td>3.8</td>\n",
       "      <td>1.0</td>\n",
       "      <td>82</td>\n",
       "      <td>15</td>\n",
       "      <td>12.9</td>\n",
       "      <td>99.74</td>\n",
       "      <td>Rain</td>\n",
       "    </tr>\n",
       "    <tr>\n",
       "      <th>19</th>\n",
       "      <td>2012-01-01 19:00:00</td>\n",
       "      <td>3.1</td>\n",
       "      <td>1.3</td>\n",
       "      <td>88</td>\n",
       "      <td>15</td>\n",
       "      <td>12.9</td>\n",
       "      <td>99.68</td>\n",
       "      <td>Rain</td>\n",
       "    </tr>\n",
       "    <tr>\n",
       "      <th>20</th>\n",
       "      <td>2012-01-01 20:00:00</td>\n",
       "      <td>3.2</td>\n",
       "      <td>1.3</td>\n",
       "      <td>87</td>\n",
       "      <td>19</td>\n",
       "      <td>25.0</td>\n",
       "      <td>99.50</td>\n",
       "      <td>Cloudy</td>\n",
       "    </tr>\n",
       "    <tr>\n",
       "      <th>21</th>\n",
       "      <td>2012-01-01 21:00:00</td>\n",
       "      <td>4.0</td>\n",
       "      <td>1.7</td>\n",
       "      <td>85</td>\n",
       "      <td>20</td>\n",
       "      <td>25.0</td>\n",
       "      <td>99.39</td>\n",
       "      <td>Cloudy</td>\n",
       "    </tr>\n",
       "    <tr>\n",
       "      <th>22</th>\n",
       "      <td>2012-01-01 22:00:00</td>\n",
       "      <td>4.4</td>\n",
       "      <td>1.9</td>\n",
       "      <td>84</td>\n",
       "      <td>24</td>\n",
       "      <td>19.3</td>\n",
       "      <td>99.32</td>\n",
       "      <td>Rain Showers</td>\n",
       "    </tr>\n",
       "    <tr>\n",
       "      <th>23</th>\n",
       "      <td>2012-01-01 23:00:00</td>\n",
       "      <td>5.3</td>\n",
       "      <td>2.0</td>\n",
       "      <td>79</td>\n",
       "      <td>30</td>\n",
       "      <td>25.0</td>\n",
       "      <td>99.31</td>\n",
       "      <td>Cloudy</td>\n",
       "    </tr>\n",
       "    <tr>\n",
       "      <th>24</th>\n",
       "      <td>2012-01-02 00:00:00</td>\n",
       "      <td>5.2</td>\n",
       "      <td>1.5</td>\n",
       "      <td>77</td>\n",
       "      <td>35</td>\n",
       "      <td>25.0</td>\n",
       "      <td>99.26</td>\n",
       "      <td>Rain Showers</td>\n",
       "    </tr>\n",
       "  </tbody>\n",
       "</table>\n",
       "</div>"
      ],
      "text/plain": [
       "             Date/Time  Temp_C  Dew Point Temp_C  Rel Hum_%  Wind Speed_km/h  \\\n",
       "0  2012-01-01 00:00:00    -1.8              -3.9         86                4   \n",
       "1  2012-01-01 01:00:00    -1.8              -3.7         87                4   \n",
       "2  2012-01-01 02:00:00    -1.8              -3.4         89                7   \n",
       "3  2012-01-01 03:00:00    -1.5              -3.2         88                6   \n",
       "4  2012-01-01 04:00:00    -1.5              -3.3         88                7   \n",
       "5  2012-01-01 05:00:00    -1.4              -3.3         87                9   \n",
       "6  2012-01-01 06:00:00    -1.5              -3.1         89                7   \n",
       "7  2012-01-01 07:00:00    -1.4              -3.6         85                7   \n",
       "8  2012-01-01 08:00:00    -1.4              -3.6         85                9   \n",
       "9  2012-01-01 09:00:00    -1.3              -3.1         88               15   \n",
       "10 2012-01-01 10:00:00    -1.0              -2.3         91                9   \n",
       "11 2012-01-01 11:00:00    -0.5              -2.1         89                7   \n",
       "12 2012-01-01 12:00:00    -0.2              -2.0         88                9   \n",
       "13 2012-01-01 13:00:00     0.2              -1.7         87               13   \n",
       "14 2012-01-01 14:00:00     0.8              -1.1         87               20   \n",
       "15 2012-01-01 15:00:00     1.8              -0.4         85               22   \n",
       "16 2012-01-01 16:00:00     2.6              -0.2         82               13   \n",
       "17 2012-01-01 17:00:00     3.0               0.0         81               13   \n",
       "18 2012-01-01 18:00:00     3.8               1.0         82               15   \n",
       "19 2012-01-01 19:00:00     3.1               1.3         88               15   \n",
       "20 2012-01-01 20:00:00     3.2               1.3         87               19   \n",
       "21 2012-01-01 21:00:00     4.0               1.7         85               20   \n",
       "22 2012-01-01 22:00:00     4.4               1.9         84               24   \n",
       "23 2012-01-01 23:00:00     5.3               2.0         79               30   \n",
       "24 2012-01-02 00:00:00     5.2               1.5         77               35   \n",
       "\n",
       "    Visibility_km  Press_kPa               Weather  \n",
       "0             8.0     101.24                   Fog  \n",
       "1             8.0     101.24                   Fog  \n",
       "2             4.0     101.26  Freezing Drizzle,Fog  \n",
       "3             4.0     101.27  Freezing Drizzle,Fog  \n",
       "4             4.8     101.23                   Fog  \n",
       "5             6.4     101.27                   Fog  \n",
       "6             6.4     101.29                   Fog  \n",
       "7             8.0     101.26                   Fog  \n",
       "8             8.0     101.23                   Fog  \n",
       "9             4.0     101.20                   Fog  \n",
       "10            1.2     101.15                   Fog  \n",
       "11            4.0     100.98                   Fog  \n",
       "12            4.8     100.79                   Fog  \n",
       "13            4.8     100.58                   Fog  \n",
       "14            4.8     100.31                   Fog  \n",
       "15            6.4     100.07                   Fog  \n",
       "16           12.9      99.93         Mostly Cloudy  \n",
       "17           16.1      99.81                Cloudy  \n",
       "18           12.9      99.74                  Rain  \n",
       "19           12.9      99.68                  Rain  \n",
       "20           25.0      99.50                Cloudy  \n",
       "21           25.0      99.39                Cloudy  \n",
       "22           19.3      99.32          Rain Showers  \n",
       "23           25.0      99.31                Cloudy  \n",
       "24           25.0      99.26          Rain Showers  "
      ]
     },
     "execution_count": 80,
     "metadata": {},
     "output_type": "execute_result"
    }
   ],
   "source": [
    "weather_df[:25]"
   ]
  },
  {
   "cell_type": "markdown",
   "id": "da419559-2712-4310-b4c2-e81f03b8c455",
   "metadata": {},
   "source": [
    "<h3>Retrieve alternative records  from a dataframe</h3>"
   ]
  },
  {
   "cell_type": "code",
   "execution_count": 82,
   "id": "ef4b69e8-5a92-40e5-ab1f-ab11a6c6ce78",
   "metadata": {},
   "outputs": [
    {
     "data": {
      "text/html": [
       "<div>\n",
       "<style scoped>\n",
       "    .dataframe tbody tr th:only-of-type {\n",
       "        vertical-align: middle;\n",
       "    }\n",
       "\n",
       "    .dataframe tbody tr th {\n",
       "        vertical-align: top;\n",
       "    }\n",
       "\n",
       "    .dataframe thead th {\n",
       "        text-align: right;\n",
       "    }\n",
       "</style>\n",
       "<table border=\"1\" class=\"dataframe\">\n",
       "  <thead>\n",
       "    <tr style=\"text-align: right;\">\n",
       "      <th></th>\n",
       "      <th>Date/Time</th>\n",
       "      <th>Temp_C</th>\n",
       "      <th>Dew Point Temp_C</th>\n",
       "      <th>Rel Hum_%</th>\n",
       "      <th>Wind Speed_km/h</th>\n",
       "      <th>Visibility_km</th>\n",
       "      <th>Press_kPa</th>\n",
       "      <th>Weather</th>\n",
       "    </tr>\n",
       "  </thead>\n",
       "  <tbody>\n",
       "    <tr>\n",
       "      <th>0</th>\n",
       "      <td>2012-01-01 00:00:00</td>\n",
       "      <td>-1.8</td>\n",
       "      <td>-3.9</td>\n",
       "      <td>86</td>\n",
       "      <td>4</td>\n",
       "      <td>8.0</td>\n",
       "      <td>101.24</td>\n",
       "      <td>Fog</td>\n",
       "    </tr>\n",
       "    <tr>\n",
       "      <th>2</th>\n",
       "      <td>2012-01-01 02:00:00</td>\n",
       "      <td>-1.8</td>\n",
       "      <td>-3.4</td>\n",
       "      <td>89</td>\n",
       "      <td>7</td>\n",
       "      <td>4.0</td>\n",
       "      <td>101.26</td>\n",
       "      <td>Freezing Drizzle,Fog</td>\n",
       "    </tr>\n",
       "    <tr>\n",
       "      <th>4</th>\n",
       "      <td>2012-01-01 04:00:00</td>\n",
       "      <td>-1.5</td>\n",
       "      <td>-3.3</td>\n",
       "      <td>88</td>\n",
       "      <td>7</td>\n",
       "      <td>4.8</td>\n",
       "      <td>101.23</td>\n",
       "      <td>Fog</td>\n",
       "    </tr>\n",
       "    <tr>\n",
       "      <th>6</th>\n",
       "      <td>2012-01-01 06:00:00</td>\n",
       "      <td>-1.5</td>\n",
       "      <td>-3.1</td>\n",
       "      <td>89</td>\n",
       "      <td>7</td>\n",
       "      <td>6.4</td>\n",
       "      <td>101.29</td>\n",
       "      <td>Fog</td>\n",
       "    </tr>\n",
       "    <tr>\n",
       "      <th>8</th>\n",
       "      <td>2012-01-01 08:00:00</td>\n",
       "      <td>-1.4</td>\n",
       "      <td>-3.6</td>\n",
       "      <td>85</td>\n",
       "      <td>9</td>\n",
       "      <td>8.0</td>\n",
       "      <td>101.23</td>\n",
       "      <td>Fog</td>\n",
       "    </tr>\n",
       "  </tbody>\n",
       "</table>\n",
       "</div>"
      ],
      "text/plain": [
       "            Date/Time  Temp_C  Dew Point Temp_C  Rel Hum_%  Wind Speed_km/h  \\\n",
       "0 2012-01-01 00:00:00    -1.8              -3.9         86                4   \n",
       "2 2012-01-01 02:00:00    -1.8              -3.4         89                7   \n",
       "4 2012-01-01 04:00:00    -1.5              -3.3         88                7   \n",
       "6 2012-01-01 06:00:00    -1.5              -3.1         89                7   \n",
       "8 2012-01-01 08:00:00    -1.4              -3.6         85                9   \n",
       "\n",
       "   Visibility_km  Press_kPa               Weather  \n",
       "0            8.0     101.24                   Fog  \n",
       "2            4.0     101.26  Freezing Drizzle,Fog  \n",
       "4            4.8     101.23                   Fog  \n",
       "6            6.4     101.29                   Fog  \n",
       "8            8.0     101.23                   Fog  "
      ]
     },
     "execution_count": 82,
     "metadata": {},
     "output_type": "execute_result"
    }
   ],
   "source": [
    "weather_df[0:10:2] #To retrieve alternating rows from 0th index to 10th "
   ]
  },
  {
   "cell_type": "markdown",
   "id": "de6b3cd0-a719-4660-8703-77227dcbf5b3",
   "metadata": {},
   "source": [
    "Retrieve alternating records from only selected columns"
   ]
  },
  {
   "cell_type": "code",
   "execution_count": 84,
   "id": "107d3f8f-8987-4ad6-abe2-d6bb65f052f0",
   "metadata": {},
   "outputs": [
    {
     "data": {
      "text/html": [
       "<div>\n",
       "<style scoped>\n",
       "    .dataframe tbody tr th:only-of-type {\n",
       "        vertical-align: middle;\n",
       "    }\n",
       "\n",
       "    .dataframe tbody tr th {\n",
       "        vertical-align: top;\n",
       "    }\n",
       "\n",
       "    .dataframe thead th {\n",
       "        text-align: right;\n",
       "    }\n",
       "</style>\n",
       "<table border=\"1\" class=\"dataframe\">\n",
       "  <thead>\n",
       "    <tr style=\"text-align: right;\">\n",
       "      <th></th>\n",
       "      <th>Weather</th>\n",
       "      <th>Wind Speed_km/h</th>\n",
       "    </tr>\n",
       "  </thead>\n",
       "  <tbody>\n",
       "    <tr>\n",
       "      <th>0</th>\n",
       "      <td>Fog</td>\n",
       "      <td>4</td>\n",
       "    </tr>\n",
       "    <tr>\n",
       "      <th>2</th>\n",
       "      <td>Freezing Drizzle,Fog</td>\n",
       "      <td>7</td>\n",
       "    </tr>\n",
       "    <tr>\n",
       "      <th>4</th>\n",
       "      <td>Fog</td>\n",
       "      <td>7</td>\n",
       "    </tr>\n",
       "    <tr>\n",
       "      <th>6</th>\n",
       "      <td>Fog</td>\n",
       "      <td>7</td>\n",
       "    </tr>\n",
       "    <tr>\n",
       "      <th>8</th>\n",
       "      <td>Fog</td>\n",
       "      <td>9</td>\n",
       "    </tr>\n",
       "  </tbody>\n",
       "</table>\n",
       "</div>"
      ],
      "text/plain": [
       "                Weather  Wind Speed_km/h\n",
       "0                   Fog                4\n",
       "2  Freezing Drizzle,Fog                7\n",
       "4                   Fog                7\n",
       "6                   Fog                7\n",
       "8                   Fog                9"
      ]
     },
     "execution_count": 84,
     "metadata": {},
     "output_type": "execute_result"
    }
   ],
   "source": [
    "weather_df[[\"Weather\",\"Wind Speed_km/h\"]][:10:2]"
   ]
  },
  {
   "cell_type": "markdown",
   "id": "301f99d3-3882-464a-a394-5d02253a0e8c",
   "metadata": {},
   "source": [
    "<h3>How to get the first 3 alternating rows from the \"weather_df\" dataframe, but only the Visibility and Relative Humidity columns</h3>"
   ]
  },
  {
   "cell_type": "code",
   "execution_count": 85,
   "id": "f1bf1deb-a7b8-4b26-b177-a876260ad8a3",
   "metadata": {},
   "outputs": [
    {
     "data": {
      "text/html": [
       "<div>\n",
       "<style scoped>\n",
       "    .dataframe tbody tr th:only-of-type {\n",
       "        vertical-align: middle;\n",
       "    }\n",
       "\n",
       "    .dataframe tbody tr th {\n",
       "        vertical-align: top;\n",
       "    }\n",
       "\n",
       "    .dataframe thead th {\n",
       "        text-align: right;\n",
       "    }\n",
       "</style>\n",
       "<table border=\"1\" class=\"dataframe\">\n",
       "  <thead>\n",
       "    <tr style=\"text-align: right;\">\n",
       "      <th></th>\n",
       "      <th>Visibility_km</th>\n",
       "      <th>Rel Hum_%</th>\n",
       "    </tr>\n",
       "  </thead>\n",
       "  <tbody>\n",
       "    <tr>\n",
       "      <th>0</th>\n",
       "      <td>8.0</td>\n",
       "      <td>86</td>\n",
       "    </tr>\n",
       "    <tr>\n",
       "      <th>2</th>\n",
       "      <td>4.0</td>\n",
       "      <td>89</td>\n",
       "    </tr>\n",
       "    <tr>\n",
       "      <th>4</th>\n",
       "      <td>4.8</td>\n",
       "      <td>88</td>\n",
       "    </tr>\n",
       "  </tbody>\n",
       "</table>\n",
       "</div>"
      ],
      "text/plain": [
       "   Visibility_km  Rel Hum_%\n",
       "0            8.0         86\n",
       "2            4.0         89\n",
       "4            4.8         88"
      ]
     },
     "execution_count": 85,
     "metadata": {},
     "output_type": "execute_result"
    }
   ],
   "source": [
    "weather_df[[\"Visibility_km\",\"Rel Hum_%\"]][:6:2]"
   ]
  },
  {
   "cell_type": "code",
   "execution_count": 91,
   "id": "2be10d56-9275-40d3-ba25-28e2f1b6cafd",
   "metadata": {},
   "outputs": [
    {
     "data": {
      "text/html": [
       "<div>\n",
       "<style scoped>\n",
       "    .dataframe tbody tr th:only-of-type {\n",
       "        vertical-align: middle;\n",
       "    }\n",
       "\n",
       "    .dataframe tbody tr th {\n",
       "        vertical-align: top;\n",
       "    }\n",
       "\n",
       "    .dataframe thead th {\n",
       "        text-align: right;\n",
       "    }\n",
       "</style>\n",
       "<table border=\"1\" class=\"dataframe\">\n",
       "  <thead>\n",
       "    <tr style=\"text-align: right;\">\n",
       "      <th></th>\n",
       "      <th>Rel Hum_%</th>\n",
       "      <th>Visibility_km</th>\n",
       "    </tr>\n",
       "  </thead>\n",
       "  <tbody>\n",
       "    <tr>\n",
       "      <th>0</th>\n",
       "      <td>True</td>\n",
       "      <td>True</td>\n",
       "    </tr>\n",
       "    <tr>\n",
       "      <th>2</th>\n",
       "      <td>True</td>\n",
       "      <td>True</td>\n",
       "    </tr>\n",
       "    <tr>\n",
       "      <th>4</th>\n",
       "      <td>True</td>\n",
       "      <td>True</td>\n",
       "    </tr>\n",
       "  </tbody>\n",
       "</table>\n",
       "</div>"
      ],
      "text/plain": [
       "   Rel Hum_%  Visibility_km\n",
       "0       True           True\n",
       "2       True           True\n",
       "4       True           True"
      ]
     },
     "execution_count": 91,
     "metadata": {},
     "output_type": "execute_result"
    }
   ],
   "source": [
    "# solution 1\n",
    "result1 = weather_df[:6:2][['Rel Hum_%', 'Visibility_km']]\n",
    "\n",
    "# solution 2\n",
    "result2 = weather_df[['Rel Hum_%', 'Visibility_km']][:6:2]\n",
    "\n",
    "# are they the same?\n",
    "result1 == result2 #== will return result as comparision result DataFrame if no of elements in both the dataframe is equal"
   ]
  },
  {
   "cell_type": "markdown",
   "id": "b835ea25-e744-4281-8e3d-5d8189925286",
   "metadata": {},
   "source": [
    "<h3>So which of the above solutions is optimal?</h3><hr>"
   ]
  },
  {
   "cell_type": "markdown",
   "id": "30471996-201b-4366-9c44-8a6fc888bdb5",
   "metadata": {},
   "source": [
    "<b>Answer:</b><i>Neither</i>. In above two solutions, we are doing chained indexing.During chained indexing, pandas is not sure whether you are applying changes on the original dataframe or copy of dataframe<br>\n",
    "<b>What is chained indexing?</b><br> Accessing a dataframe by chaining an multiple indexes together.This can lead to ambiguous behavior and performance issues because it is unclear whether the intermediate steps are operating on the original DataFrame or on a copy of it. "
   ]
  },
  {
   "cell_type": "markdown",
   "id": "12275fc2-a49c-4dca-bd02-d21778e0a4f6",
   "metadata": {},
   "source": [
    "<h4>Breakdown of above solutions</h4><hr>\n",
    "<b>Solution 1:</b><br>\n",
    "<i>result1 = weather_df[:6:2][['Rel Hum_%', 'Visibility_km']]<br></i>\n",
    "<ol>\n",
    "    1)weather_df[:6:2] selects rows at position 2,4,6 from weather_df<br>\n",
    "</ol>\n",
    "<ol>\n",
    "    2)Result of above operation is again indexed to filter the columns 'Rel Hum_%' and 'Visibility_km'<br>\n",
    "</ol>\n",
    "<b>Solution 2:</b><br>\n",
    "<i>result2 = weather_df[['Rel Hum_%', 'Visibility_km']][:6:2]<br></i>\n",
    "<ol>\n",
    "    1)weather_df is indexed to filter columns 'Rel Hum_%' and 'Visibility_km'<br>\n",
    "</ol>\n",
    "<ol>\n",
    "    2)result of above operation is again indexed to select rows at position 2,4,6<br>\n",
    "</ol><br>\n",
    "While above solutions may yield correct result in read-only scenarios, it causes issue in writing to a dataframe, as pandas will not be sure whether to write to the dataframe or copy of dataframe.<br><hr>"
   ]
  },
  {
   "cell_type": "markdown",
   "id": "1a3d424a-0fc6-47b6-b0fc-3ce2bdc11aec",
   "metadata": {},
   "source": [
    "In the above operation, weather_df[:6:2] could either:<br>\n",
    "<ol>\n",
    "    Return a view on the original DataFrame (meaning it still references the same underlying data).\n",
    "</ol>\n",
    "<ol>\n",
    "    Return a copy of the data (a completely independent DataFrame).\n",
    "</ol>\n",
    "If it returns a copy, any modifications to this subset will not affect the original DataFrame weather_df.<br>\n",
    "\n",
    "Here, <i><b>indexing refers to the process of selecting specific rows and columns from a DataFrame</b><i><br>\n",
    "\n",
    "To avoid these issues, you should use <b>single row indexing</b>"
   ]
  },
  {
   "cell_type": "code",
   "execution_count": null,
   "id": "91a69b67-f5f4-474c-a041-8e7fd0e6889c",
   "metadata": {},
   "outputs": [],
   "source": []
  }
 ],
 "metadata": {
  "kernelspec": {
   "display_name": "Python 3 (ipykernel)",
   "language": "python",
   "name": "python3"
  },
  "language_info": {
   "codemirror_mode": {
    "name": "ipython",
    "version": 3
   },
   "file_extension": ".py",
   "mimetype": "text/x-python",
   "name": "python",
   "nbconvert_exporter": "python",
   "pygments_lexer": "ipython3",
   "version": "3.11.8"
  }
 },
 "nbformat": 4,
 "nbformat_minor": 5
}
